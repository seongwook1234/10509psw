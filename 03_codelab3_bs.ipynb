{
  "nbformat": 4,
  "nbformat_minor": 0,
  "metadata": {
    "colab": {
      "name": "03_codelab3_bs.ipynb",
      "provenance": [],
      "include_colab_link": true
    },
    "interpreter": {
      "hash": "b3ba2566441a7c06988d0923437866b63cedc61552a5af99d1f4fb67d367b25f"
    },
    "kernelspec": {
      "name": "python3",
      "display_name": "Python 3.8.5 64-bit ('base': conda)"
    },
    "language_info": {
      "name": "python",
      "version": "3.8.5"
    }
  },
  "cells": [
    {
      "cell_type": "markdown",
      "metadata": {
        "id": "view-in-github",
        "colab_type": "text"
      },
      "source": [
        "<a href=\"https://colab.research.google.com/github/seongwook1234/10509psw/blob/main/03_codelab3_bs.ipynb\" target=\"_parent\"><img src=\"https://colab.research.google.com/assets/colab-badge.svg\" alt=\"Open In Colab\"/></a>"
      ]
    },
    {
      "cell_type": "markdown",
      "metadata": {
        "id": "ujvDcnX-o9-W"
      },
      "source": [
        "🏷️ **웹 동작원리**\n",
        "\n",
        "\n",
        "---\n",
        "<img src ='https://drive.google.com/uc?export=view&id=1amZ78fUnfp3o5Q1XVKDG3eAAzKaYlPrp'>\n",
        "\n",
        "---"
      ]
    },
    {
      "cell_type": "markdown",
      "metadata": {
        "id": "yaRwPjIG0UbX"
      },
      "source": [
        "# Beautiful Soup 모듈\n",
        "+ HTML 및 XML 문서 를 구문 분석하기 위한 Python 패키지\n",
        "+ DOM 추출\n",
        "+ 기본적으로 UTF-8 인코딩 방식이지만 CP949도 지원"
      ]
    },
    {
      "cell_type": "markdown",
      "metadata": {
        "id": "qXgcvJCO1XM6"
      },
      "source": [
        "🏷️ **웹 스크래핑(Web Scraping)과 웹 크롤링(Web Crawling)**\n",
        "\n",
        "\n",
        "---\n",
        "+ 웹 스크래핑(Web Scraping) : 웹 사이트 상에서 원하는 정보를 추출하는 기술\n",
        "+ 웹 크롤링(Web Crawling) : 웹 크롤러(자동화봇)가정해진 규칙에 따라 웹 페이지를 수집해서 각 사이트의 정보를 분류하는 기술\n",
        "\n",
        "\n",
        "\n",
        "\n",
        "---\n",
        "\n",
        "\n"
      ]
    },
    {
      "cell_type": "markdown",
      "metadata": {
        "id": "7U-axA1K3yaR"
      },
      "source": [
        "## BeautifulSoup 모듈을 활용한 스크래핑"
      ]
    },
    {
      "cell_type": "markdown",
      "metadata": {
        "id": "a2-66aK64FqU"
      },
      "source": [
        "### 1. 웹 페이지 가져오기"
      ]
    },
    {
      "cell_type": "code",
      "metadata": {
        "id": "qSqcLjpt0NZH",
        "colab": {
          "base_uri": "https://localhost:8080/",
          "height": 35
        },
        "outputId": "eebbaada-6d77-42ad-d823-9048b8a0ec8f"
      },
      "source": [
        "#모듈 import \n",
        "from urllib.request import urlopen, Request\n",
        "\n",
        "url = 'https://news.daum.net/ranking/popular'\n",
        "webpage = urlopen(url).read().decode('utf-8')\n",
        "webpage[:200]\n",
        "#웹 페이지 가져오기 \n",
        "\n",
        " "
      ],
      "execution_count": 88,
      "outputs": [
        {
          "output_type": "execute_result",
          "data": {
            "application/vnd.google.colaboratory.intrinsic+json": {
              "type": "string"
            },
            "text/plain": [
              "'\\n<!DOCTYPE html>\\n\\n\\n\\n<html lang=\"ko\" class=\"os_unknown none unknown version_0 \">\\n<head>\\n<meta charset=\"utf-8\">\\n<meta name=\"referrer\" content=\"always\" />\\n\\n<meta property=\"og:author\" content=\"Daum 뉴스\" />'"
            ]
          },
          "metadata": {
            "tags": []
          },
          "execution_count": 88
        }
      ]
    },
    {
      "cell_type": "code",
      "metadata": {
        "id": "jrDzQLmnnncN"
      },
      "source": [
        "from urllib.request import urlopen"
      ],
      "execution_count": 2,
      "outputs": []
    },
    {
      "cell_type": "code",
      "metadata": {
        "id": "Btj2LQ-wnr_-"
      },
      "source": [
        ""
      ],
      "execution_count": 40,
      "outputs": []
    },
    {
      "cell_type": "code",
      "metadata": {
        "id": "x6UW-sqzq_Ac"
      },
      "source": [
        "#mArticle > div.rank_news > ul.list_news2"
      ],
      "execution_count": 6,
      "outputs": []
    },
    {
      "cell_type": "markdown",
      "metadata": {
        "id": "UiUuj4XA46HA"
      },
      "source": [
        "### 2. BeautifulSoup 객체 생성\n",
        "\n",
        "```python\n",
        "from bs4 import BeautifulSoup as bs\n",
        "\n",
        "인스턴스명 = BeautifulSoup(markup, parser)\n",
        "```\n",
        "* 첫 번째 인자 : HTML 형식의 문자열\n",
        "* 두 번째 인자 : 첫 번째 인자의 문자열을 해석하기 위한 파서\n",
        "\n",
        "  * **파서(parser) 종류**\n",
        "    + html.parser : 파이썬 표준 라이브러리에 포함된 파서로 빠르지만 유연하지 않기 때문에 단순한 HTML문서에 사용\n",
        "\n",
        "        ```\n",
        "        BeautifulSoup(markup, \"html.parser\")\n",
        "        ```\n",
        "\n",
        "    + lxml : 매우 빠르고 유연하지만 외부 의존\n",
        "      - lxml의 HTML 파서\n",
        "          ```\n",
        "          BeautifulSoup(markup, \"lxml\")\n",
        "          ```\n",
        "      - lxml의 XML 파서\n",
        "          ```\n",
        "          BeautifulSoup(markup, \"lxml-xml\")\n",
        "          ```\n",
        "\n",
        "    + html5lib : 웹 브라우저와 동일한 방식으로 페이지 구문 분석하는 파서로 매우 느리지만 매우 유연하지만 외부 의존\n",
        "        ```\n",
        "        BeautifulSoup(markup, \"html5lib\")\n",
        "      ```"
      ]
    },
    {
      "cell_type": "code",
      "metadata": {
        "id": "yBCdkhy15Vrr"
      },
      "source": [
        "#모듈 import \n",
        "from bs4 import BeautifulSoup as bs\n",
        "#DOM 문서 만들기\n",
        "html = bs(webpage, \"html.parser\")"
      ],
      "execution_count": 8,
      "outputs": []
    },
    {
      "cell_type": "code",
      "metadata": {
        "colab": {
          "base_uri": "https://localhost:8080/"
        },
        "id": "NqqduTmfu_y1",
        "outputId": "7916d69d-5cfb-4448-afe0-b2ff0a279a6e"
      },
      "source": [
        " type(html)"
      ],
      "execution_count": 9,
      "outputs": [
        {
          "output_type": "execute_result",
          "data": {
            "text/plain": [
              "bs4.BeautifulSoup"
            ]
          },
          "metadata": {
            "tags": []
          },
          "execution_count": 9
        }
      ]
    },
    {
      "cell_type": "markdown",
      "metadata": {
        "id": "ZvinaJXV5ZDP"
      },
      "source": [
        "### 2. **Beautiful Soup 파싱 메소드**\n",
        "+ 태그명\n",
        "  + **.find(태그명)** : 조건에 맞는 태그 1개만 찾음\n",
        "  + **.find_all(태그명)** : 조건에 맞는 모든 태그 찾음\n",
        "+ css선택자\n",
        "  + **.select_one(선택자)** : 조건에 맞는 CSS선택자 1개만 찾음\n",
        "  + **.select(선택자)** : 조건에 맞는 CSS선택자 찾음"
      ]
    },
    {
      "cell_type": "markdown",
      "metadata": {
        "id": "KtEAsQTx72Ab"
      },
      "source": [
        "🏷️ **HTML과 CSS**\n",
        "\n",
        "\n",
        "---\n",
        "\n",
        "\n",
        "\n",
        "+ **HTML(Hyper Text Markup Language)**\n",
        "  + 웹페이지 상에서 문단, 제목, 표, 이미지, 동영상 등을 정의하고 웹페이지 내용을 구조화하고 의미를 부여하는 마크업 언어\n",
        "+ **CSS(Cascading Style Sheet)**\n",
        "  + 색상, 레이아웃 및 글꼴등 웹페이지의 디자인 요소를 담당하는 선언형 언어로 스타일 시트(Style Sheet)라고도 하고, HTML로 작성된 웹페이지를 보기 좋게 꾸며주는 스타일 규칙 언어\n",
        "\n",
        "+ 참고 사이트 : <https://www.w3schools.com/>\n",
        "\n",
        "\n",
        "---\n",
        "\n"
      ]
    },
    {
      "cell_type": "markdown",
      "metadata": {
        "id": "IrOBlRCZxdcd"
      },
      "source": [
        "#mArticle > div.rank_news > ul.list_news2 li"
      ]
    },
    {
      "cell_type": "code",
      "metadata": {
        "id": "CU0NvcF06bOt",
        "colab": {
          "base_uri": "https://localhost:8080/"
        },
        "outputId": "3f6c0c82-b6ba-464b-8ac4-c4811e8364cd"
      },
      "source": [
        "type(html)"
      ],
      "execution_count": 10,
      "outputs": [
        {
          "output_type": "execute_result",
          "data": {
            "text/plain": [
              "bs4.BeautifulSoup"
            ]
          },
          "metadata": {
            "tags": []
          },
          "execution_count": 10
        }
      ]
    },
    {
      "cell_type": "code",
      "metadata": {
        "id": "IkwduFv29ai6"
      },
      "source": [
        "lis =html.select('#mArticle > div.rank_news > ul.list_news2 > li')"
      ],
      "execution_count": 16,
      "outputs": []
    },
    {
      "cell_type": "code",
      "metadata": {
        "colab": {
          "base_uri": "https://localhost:8080/"
        },
        "id": "O9BXf8Wdv7Kh",
        "outputId": "ac14cd0f-afe2-46fa-9e4b-26e76dac4372"
      },
      "source": [
        "type(lis)"
      ],
      "execution_count": 17,
      "outputs": [
        {
          "output_type": "execute_result",
          "data": {
            "text/plain": [
              "list"
            ]
          },
          "metadata": {
            "tags": []
          },
          "execution_count": 17
        }
      ]
    },
    {
      "cell_type": "code",
      "metadata": {
        "colab": {
          "base_uri": "https://localhost:8080/"
        },
        "id": "YtJnA9A1wD_B",
        "outputId": "8543a30a-f234-442d-c428-e785a8cc6c01"
      },
      "source": [
        "len(lis)"
      ],
      "execution_count": 19,
      "outputs": [
        {
          "output_type": "execute_result",
          "data": {
            "text/plain": [
              "50"
            ]
          },
          "metadata": {
            "tags": []
          },
          "execution_count": 19
        }
      ]
    },
    {
      "cell_type": "code",
      "metadata": {
        "colab": {
          "base_uri": "https://localhost:8080/"
        },
        "id": "hgdyuN7DwSko",
        "outputId": "b307b707-f863-47b7-eae4-100bb81549f6"
      },
      "source": [
        "lis[0]"
      ],
      "execution_count": 21,
      "outputs": [
        {
          "output_type": "execute_result",
          "data": {
            "text/plain": [
              "<li data-tiara-layer=\"news_list\" data-tiara-ordnum=\"1\" data-tiara-type=\"article\">\n",
              "<div class=\"rank_num rank_popular\">\n",
              "<span class=\"wrap_num\">\n",
              "<span class=\"num_rank\">\n",
              "<span class=\"num_news num1\"></span>\n",
              "<span class=\"screen_out\">1</span>\n",
              "</span>\n",
              "</span>\n",
              "</div>\n",
              "<a class=\"link_thumb\" href=\"https://v.daum.net/v/20210710120930857\">\n",
              "<img alt='\"망신도 이런 X망신이\" 김건희 논문 표절 의혹, 국민대생도 뿔났다' aria-hidden=\"true\" class=\"thumb_g\" src=\"https://img1.daumcdn.net/thumb/S95x77ht.u/?fname=https%3A%2F%2Ft1.daumcdn.net%2Fnews%2F202107%2F10%2Fakn%2F20210710120931929kvry.jpg&amp;scode=media\"/>\n",
              "</a>\n",
              "<div class=\"cont_thumb\">\n",
              "<strong class=\"tit_thumb\">\n",
              "<a class=\"link_txt\" href=\"https://v.daum.net/v/20210710120930857\">\"망신도 이런 X망신이\" 김건희 논문 표절 의혹, 국민대생도 뿔났다</a>\n",
              "<span class=\"info_news\">아시아경제</span>\n",
              "</strong>\n",
              "<div class=\"desc_thumb\">\n",
              "<span class=\"link_txt\">\n",
              "                        [아시아경제 황수미 기자] 윤석열 전 검찰총장 배우자 김건희 씨의 박사 학위 논문 표절 의혹과 관련해 국민대 측에 진상 규명과 재발 방지를 요구하는 학내 구성원들의...\n",
              "                    </span>\n",
              "</div>\n",
              "</div>\n",
              "</li>"
            ]
          },
          "metadata": {
            "tags": []
          },
          "execution_count": 21
        }
      ]
    },
    {
      "cell_type": "code",
      "metadata": {
        "colab": {
          "base_uri": "https://localhost:8080/"
        },
        "id": "a6ENff3myv8W",
        "outputId": "589fda4e-c5e5-44e5-d301-3c49728071a4"
      },
      "source": [
        "type(lis[0])"
      ],
      "execution_count": 22,
      "outputs": [
        {
          "output_type": "execute_result",
          "data": {
            "text/plain": [
              "bs4.element.Tag"
            ]
          },
          "metadata": {
            "tags": []
          },
          "execution_count": 22
        }
      ]
    },
    {
      "cell_type": "code",
      "metadata": {
        "colab": {
          "base_uri": "https://localhost:8080/",
          "height": 35
        },
        "id": "NjjBfCyeyy-u",
        "outputId": "8ff236f5-86bf-4de0-cea2-d99197f10766"
      },
      "source": [
        "lis[2].select_one('.link_txt').text"
      ],
      "execution_count": 26,
      "outputs": [
        {
          "output_type": "execute_result",
          "data": {
            "application/vnd.google.colaboratory.intrinsic+json": {
              "type": "string"
            },
            "text/plain": [
              "\"빙수 하나에 10만원.. 없어서 못 먹는다는 '금빙수' 직접 먹어보니 [내돈내산 리뷰]\""
            ]
          },
          "metadata": {
            "tags": []
          },
          "execution_count": 26
        }
      ]
    },
    {
      "cell_type": "code",
      "metadata": {
        "colab": {
          "base_uri": "https://localhost:8080/"
        },
        "id": "VnUxXqwszQJ-",
        "outputId": "bc4c5667-e031-4829-cac9-f152a988419f"
      },
      "source": [
        "lt = []\n",
        "for li in lis : \n",
        "  lt.append(li.select_one('.link_txt').text.replace('\"','').replace(\"'\",\"\").replace(',',' '))\n",
        "  \n",
        "lt"
      ],
      "execution_count": 38,
      "outputs": [
        {
          "output_type": "execute_result",
          "data": {
            "text/plain": [
              "[]"
            ]
          },
          "metadata": {
            "tags": []
          },
          "execution_count": 38
        }
      ]
    },
    {
      "cell_type": "code",
      "metadata": {
        "colab": {
          "base_uri": "https://localhost:8080/"
        },
        "id": "m19yZpijzCyX",
        "outputId": "0c17e49c-977f-4262-dddb-02e434634f69"
      },
      "source": [
        "lis = html.select('#mArticle > div.rank_news > ul.list_news2 > li')\n",
        "print(type(lis), ' 요소 수 : ', len(lis))\n",
        "print(lis[0])"
      ],
      "execution_count": 28,
      "outputs": [
        {
          "output_type": "stream",
          "text": [
            "<class 'list'>  요소 수 :  50\n",
            "<li data-tiara-layer=\"news_list\" data-tiara-ordnum=\"1\" data-tiara-type=\"article\">\n",
            "<div class=\"rank_num rank_popular\">\n",
            "<span class=\"wrap_num\">\n",
            "<span class=\"num_rank\">\n",
            "<span class=\"num_news num1\"></span>\n",
            "<span class=\"screen_out\">1</span>\n",
            "</span>\n",
            "</span>\n",
            "</div>\n",
            "<a class=\"link_thumb\" href=\"https://v.daum.net/v/20210710120930857\">\n",
            "<img alt='\"망신도 이런 X망신이\" 김건희 논문 표절 의혹, 국민대생도 뿔났다' aria-hidden=\"true\" class=\"thumb_g\" src=\"https://img1.daumcdn.net/thumb/S95x77ht.u/?fname=https%3A%2F%2Ft1.daumcdn.net%2Fnews%2F202107%2F10%2Fakn%2F20210710120931929kvry.jpg&amp;scode=media\"/>\n",
            "</a>\n",
            "<div class=\"cont_thumb\">\n",
            "<strong class=\"tit_thumb\">\n",
            "<a class=\"link_txt\" href=\"https://v.daum.net/v/20210710120930857\">\"망신도 이런 X망신이\" 김건희 논문 표절 의혹, 국민대생도 뿔났다</a>\n",
            "<span class=\"info_news\">아시아경제</span>\n",
            "</strong>\n",
            "<div class=\"desc_thumb\">\n",
            "<span class=\"link_txt\">\n",
            "                        [아시아경제 황수미 기자] 윤석열 전 검찰총장 배우자 김건희 씨의 박사 학위 논문 표절 의혹과 관련해 국민대 측에 진상 규명과 재발 방지를 요구하는 학내 구성원들의...\n",
            "                    </span>\n",
            "</div>\n",
            "</div>\n",
            "</li>\n"
          ],
          "name": "stdout"
        }
      ]
    },
    {
      "cell_type": "markdown",
      "metadata": {
        "id": "o0j52hED_Mqu"
      },
      "source": [
        "## 해결문제\n",
        "---\n",
        "댓글많은 뉴스를 사이트의 제목을 수집해서 AI Cloud의 무료 AI 서비스 중 텍스트 감정 분석 결과를 분석하고 결과를 파일로 저장하시오.단, 감성분석 분석(긍정,중립,부정)은 함수를 이용하여 작성하고 댓글수와 제목의 쉼표는 제거하시오.\n",
        "\n",
        "예시) \n",
        "news.csv 내용\n",
        "```\n",
        "순위,제목,댓글수,언론사,감성,신뢰도\n",
        "1,故손정민 父 \"서울경찰청 정민이와 나를 미워한다\",2564,데일리안,부정,0.9970703125\n",
        "2,신고만하면 한국인? \"中에 나라 파냐\" 국적법 때린 반중정서,2274,중앙일보,부정,0.99755859375\n",
        "3,'잔여 백신' 첫날 젊은층 대거 몰렸다..AZ 부정적 시선 바뀌나,1726,파이낸셜뉴스,부정,0.98974609375\n",
        "4,'도쿄올림픽 지도서 독도 삭제' 요구에 日정부 \"수용 불가\",1543,연합뉴스,부정,0.9873046875\n",
        "\n",
        "...\n",
        "\n",
        "47,\"손정민 사건 제가 책임지고\"..경찰 '김창룡 청장 가짜뉴스' 내사,115,뉴스1,부정,0.9921875\n",
        "48,로또 1등 수령자에 통장 비번 요구·5억 적금 강매한 농협,105,뉴스1,부정,0.99072265625\n",
        "49,'도쿄올림픽 지도서 독도 삭제' 韓요구에 日정부 \"수용 불가\",97,중앙일보,부정,0.986328125\n",
        "50,올림픽 취소로 日 배상금 떠안나..日언론 \"IOC와 불평등 계약\",93,뉴스1,부정,0.99609375\n",
        "\n",
        "```"
      ]
    },
    {
      "cell_type": "markdown",
      "metadata": {
        "id": "aTyzoYLczhyR"
      },
      "source": [
        "https://news.daum.net/ranking/bestreply"
      ]
    },
    {
      "cell_type": "markdown",
      "metadata": {
        "id": "CNlmUIWDdO64"
      },
      "source": [
        "\n",
        "\n",
        "---\n",
        "\n",
        "\n",
        "※ 카카오톡 메신저 내용 분석해보기\n",
        "\n",
        "\n",
        "---\n",
        "\n"
      ]
    },
    {
      "cell_type": "code",
      "metadata": {
        "id": "tBPxBHmM-pB6"
      },
      "source": [
        "from urllib.request import Request, urlopen\n",
        "from bs4 import BeautifulSoup as bs\n",
        "import json"
      ],
      "execution_count": 147,
      "outputs": []
    },
    {
      "cell_type": "code",
      "metadata": {
        "colab": {
          "base_uri": "https://localhost:8080/",
          "height": 108
        },
        "id": "emUO0P8-AERe",
        "outputId": "088e0057-9424-4c23-d49e-28b23eb93686"
      },
      "source": [
        "url = 'https://news.daum.net/ranking/bestreply'\n",
        "wp = urlopen(url).read().decode('utf-8')\n",
        "wp"
      ],
      "execution_count": 65,
      "outputs": [
        {
          "output_type": "execute_result",
          "data": {
            "application/vnd.google.colaboratory.intrinsic+json": {
              "type": "string"
            },
            "text/plain": [
              "'\\n<!DOCTYPE html>\\n\\n\\n\\n<html lang=\"ko\" class=\"os_unknown none unknown version_0 \">\\n<head>\\n<meta charset=\"utf-8\">\\n<meta name=\"referrer\" content=\"always\" />\\n\\n<meta property=\"og:author\" content=\"Daum 뉴스\" />\\n<meta property=\"og:site_name\" content=\"다음뉴스\" />\\n<meta property=\"og:title\" content=\"뉴스 랭킹\"/>\\n<meta property=\"og:image\" content=\"https://t1.daumcdn.net/media/img-media/mobile/meta/news.png\" />\\n<meta property=\"og:description\" content=\"다음뉴스\" />\\n<meta property=\"og:url\" content=\"https://news.daum.net/ranking/bestreply\" />\\n<link rel=\"shortcut icon\" href=\"https://m2.daumcdn.net/img-media/2010ci/Daum_favicon.ico\">\\n\\n<title>뉴스 랭킹 | 다음뉴스</title>\\n\\n<meta http-equiv=\"X-UA-Compatible\" content=\"IE=edge\">\\n\\n<link rel=\"stylesheet\" type=\"text/css\" href=\"//t1.daumcdn.net/media/kraken/news/5dbfb0e/common.css.merged.css\" />\\n<link rel=\"stylesheet\" type=\"text/css\" href=\"//t1.daumcdn.net/media/kraken/news/5dbfb0e/news.css.merged.css\" />\\n<link rel=\"stylesheet\" type=\"text/css\" href=\"//t1.daumcdn.net/media/kraken/news/5dbfb0e/calendar.css.merged.css\" />\\n\\n<!--[if lte IE 8]>\\n<script src=\"https://m2.daumcdn.net/svc/original/U0301/cssjs/JSON-js/fc535e9cc8/json2.min.js\"></script>\\n<![endif]-->\\n<!--[if lt IE 9]>\\n<link rel=\"stylesheet\" type=\"text/css\" href=\"//t1.daumcdn.net/media/kraken/news/5dbfb0e/ie8.css.merged.css\" />\\n<![endif]-->\\n\\n<script src=\"//t1.daumcdn.net/media/kraken/news/5dbfb0e/common.merged.js\"></script>\\n\\n<script type=\"text/javascript\" src=\"https://t1.daumcdn.net/tiara/js/v1/tiara.min.js\"></script>\\n\\n<script>\\n  var ENV = {\\n    Profile: {\\n      isProduction: \\'true\\' || false,\\n      isSandbox: \\'\\' || false,\\n      isCbt: \\'\\' || false,\\n    }\\n  }\\n</script>\\n        <script src=\"//t1.daumcdn.net/media/kraken/news/5dbfb0e/rankingMain.merged.js\"></script>\\n</head>\\n<body class=\"bg_news\">\\n<div id=\"kakaoIndex\">\\n    <a href=\"#kakaoBody\">본문 바로가기</a>\\n    <a href=\"#kakaoGnb\">메뉴 바로가기</a>\\n</div>\\n\\n<div id=\"kakaoWrap\" class=\"news_type1\">\\n<div id=\"wrapMinidaum\"></div>\\n<script type=\"text/javascript\">\\n\\tvar minidaum_options = {\\n\\t\\tbgType\\t\\t\\t\\t: \"white\",\\n\\t\\tenableLogoutRetun\\t: true,\\n\\t\\tdisableTracker\\t\\t: true, // false일 경우 사용, true일 경우 미사용\\n\\t\\tenableShield\\t\\t: false\\n\\t};\\n</script>\\n<script src=\"https://go.daum.net/minidaum_pc.daum\"></script>\\n\\n<div id=\"kakaoHead\" role=\"banner\">\\n\\t<div class=\"head_media\">\\n\\t\\t<h1>\\n\\t\\t\\t<a href=\"https://news.daum.net/\" id=\"kakaoServiceLogo\" data-tiara-layer=\"GNB default service_news\"><span class=\"ir_wa\">뉴스</span></a>\\n\\t\\t</h1>\\n\\t\\t<strong class=\"screen_out\">관련서비스</strong>\\n\\t\\t<ul id=\"kakaoRelServices\" data-tiara-layer=\"GNB default\">\\n\\t\\t\\t<li><a href=\"https://entertain.daum.net\" class=\"link_services link_services1\" data-tiara-layer=\"service_enter\"><span class=\"ir_wa\">연예</span></a></li>\\n\\t\\t\\t<li><a href=\"https://sports.daum.net\" class=\"link_services link_services2\" data-tiara-layer=\"service_sports\"><span class=\"ir_wa\">스포츠</span></a></li>\\n\\t\\t</ul>\\n<h2 class=\"screen_out\">검색</h2>\\n<div class=\"search_news\" id=\"search_news\">\\n\\t<form id=\"kakaoSearch\" name=\"kakaoSearch\" action=\"//search.daum.net/search\" method=\"get\">\\n\\t\\t<fieldset class=\"fld_inside\">\\n\\t\\t\\t<legend class=\"screen_out\">검색어 입력폼</legend>\\n\\t\\t\\t<div class=\"box_searchbar\">\\n\\t\\t\\t\\t<label for=\"qVal\" class=\"lab_search\">통합검색</label>\\n\\t\\t\\t\\t<input type=\"hidden\" name=\"DA\" value=\"23A\" />\\n\\t\\t\\t\\t<input type=\"hidden\" name=\"rtmaxcoll\" value=\"NNS\">\\n\\t\\t\\t\\t<input type=\"text\" class=\"tf_keyword\" id=\"qVal\" name=\"q\" value=\"\" title=\"검색어 입력\" autocomplete=\"off\" spellcheck=\"false\">\\n\\t\\t\\t\\t<button id=\"kakaoBtnSearch\" class=\"btn_search\" type=\"submit\"><span class=\"ir_wa\">검색</span></button>\\n\\t\\t\\t</div>\\n\\t\\t</fieldset>\\n\\t\\t<div id=\"wrap_suggestBox\" class=\"wrap_suggestBox\">\\n\\t\\t\\t<div id=\"suggestBox\" class=\"suggestBox box_sub\">\\n\\t\\t\\t\\t<div class=\"baseBox bg\" style=\"display: none\"></div>\\n\\t\\t\\t</div>\\n\\t\\t</div>\\n\\t</form>\\n</div>\\n<script type=\"text/javascript\" src=\"https://search1.daumcdn.net/search/suggest_pc/suggest-1.2.16.min.js\"></script>\\n<script src=\"//t1.daumcdn.net/media/kraken/news/5dbfb0e/suggest.merged.js\"></script>\\n\\n\\t</div>\\n\\n\\t<div id=\"kakaoGnb\" role=\"navigation\">\\n\\t\\t<div class=\"inner_gnb\">\\n\\t\\t\\t<h2 class=\"screen_out\">뉴스 메인메뉴</h2>\\n\\t\\t\\t<ul class=\"gnb_comm\" data-tiara-layer=\"GNB default\">\\n\\t\\t\\t\\t<li ><a href=\"/\" class=\"link_gnb link_gnb1\" data-tiara-layer=\"media_home\"><span class=\"screen_out\">선택됨</span><span class=\"ir_wa\">홈</span><span class=\"bar_gnb\"><span class=\"inner_bar\"></span></span></a></li>\\n\\t\\t\\t\\t<li > <a href=\"/society\" class=\"link_gnb link_gnb2\" data-tiara-layer=\"media_society\"><span class=\"ir_wa\">사회</span><span class=\"bar_gnb\"><span class=\"inner_bar\"></span></span></a></li>\\n\\t\\t\\t\\t<li ><a href=\"/politics\" class=\"link_gnb link_gnb3\" data-tiara-layer=\"media_politics\"><span class=\"ir_wa\">정치</span><span class=\"bar_gnb\"><span class=\"inner_bar\"></span></span></a></li>\\n\\t\\t\\t\\t<li ><a href=\"/economic\" class=\"link_gnb link_gnb4\" data-tiara-layer=\"media_economic\"><span class=\"ir_wa\">경제</span><span class=\"bar_gnb\"><span class=\"inner_bar\"></span></span></a></li>\\n\\t\\t\\t\\t<li ><a href=\"/foreign\" class=\"link_gnb link_gnb5\" data-tiara-layer=\"media_foreign\"><span class=\"ir_wa\">국제</span><span class=\"bar_gnb\"><span class=\"inner_bar\"></span></span></a></li>\\n\\t\\t\\t\\t<li ><a href=\"/culture\" class=\"link_gnb link_gnb6\" data-tiara-layer=\"media_culture\"><span class=\"ir_wa\">문화</span><span class=\"bar_gnb\"><span class=\"inner_bar\"></span></span></a></li>\\n\\t\\t\\t\\t<li ><a href=\"/digital\" class=\"link_gnb link_gnb7\" data-tiara-layer=\"media_digital\"><span class=\"ir_wa\">IT</span><span class=\"bar_gnb\"><span class=\"inner_bar\"></span></span></a></li>\\n\\t\\t\\t\\t<li class=\"on\"><a href=\"/ranking/popular\" class=\"link_gnb link_gnb8\" data-tiara-layer=\"media_ranking\"><span class=\"ir_wa\">랭킹</span><span class=\"bar_gnb\"><span class=\"inner_bar\"></span></span></a></li>\\n\\t\\t\\t\\t<li ><a href=\"/series/\" class=\"link_gnb link_gnb9\" data-tiara-layer=\"media_series\"><span class=\"ir_wa\">연재</span><span class=\"bar_gnb\"><span class=\"inner_bar\"></span></span></a></li>\\n\\t\\t\\t\\t<li ><a href=\"/photo\" class=\"link_gnb link_gnb10\" data-tiara-layer=\"media_photo\"><span class=\"ir_wa\">포토</span><span class=\"bar_gnb\"><span class=\"inner_bar\"></span></span></a></li>\\n                <li ><a href=\"/tv/\" class=\"link_gnb link_gnb11\" data-tiara-layer=\"media_tv\"><span class=\"ir_wa\">TV</span><span class=\"bar_gnb\"><span class=\"inner_bar\"></span></span></a></li>\\n\\t\\t\\t</ul>\\n\\t\\t\\t<div class=\"gnb_etc\">\\n\\t\\t\\t\\t\\t<div class=\"gnb_weather\">\\n\\n\\n\\t\\t\\t\\t\\t\\t<strong class=\"screen_out\">날씨 정보</strong>\\n\\t\\t\\t\\t\\t\\t<ul class=\"list_weather \"> \\n\\t\\t\\t\\t\\t\\t\\t\\t<li>\\n\\t\\t\\t\\t\\t\\t\\t\\t\\t<a href=\"http://search.daum.net/search?w=tot&DA=23W&rtmaxcoll=Z8T&q=서울특별시날씨\" class=\"link_cont\" data-tiara-layer=\"GNB default widget_weather\">\\n\\t\\t\\t\\t\\t\\t\\t\\t\\t\\t<span class=\"ico_weather ico_weather3\">구름많음</span>\\n\\t\\t\\t\\t\\t\\t\\t\\t\\t\\t<span class=\"txt_weather\">\\n\\t\\t\\t\\t\\t\\t\\t\\t\\t\\t\\t서울\\n\\t\\t\\t\\t\\t\\t\\t\\t\\t\\t\\t<span class=\"num_heat\">29</span> ℃\\n                                \\t\\t</span>\\n\\t\\t\\t\\t\\t\\t\\t\\t\\t</a>\\n\\t\\t\\t\\t\\t\\t\\t\\t</li>\\n\\t\\t\\t\\t\\t\\t\\t\\t<li>\\n\\t\\t\\t\\t\\t\\t\\t\\t\\t<a href=\"http://search.daum.net/search?w=tot&DA=23W&rtmaxcoll=Z8T&q=수원시 권선구날씨\" class=\"link_cont\" data-tiara-layer=\"GNB default widget_weather\">\\n\\t\\t\\t\\t\\t\\t\\t\\t\\t\\t<span class=\"ico_weather ico_weather4\">흐림</span>\\n\\t\\t\\t\\t\\t\\t\\t\\t\\t\\t<span class=\"txt_weather\">\\n\\t\\t\\t\\t\\t\\t\\t\\t\\t\\t\\t수원\\n\\t\\t\\t\\t\\t\\t\\t\\t\\t\\t\\t<span class=\"num_heat\">29</span> ℃\\n                                \\t\\t</span>\\n\\t\\t\\t\\t\\t\\t\\t\\t\\t</a>\\n\\t\\t\\t\\t\\t\\t\\t\\t</li>\\n\\t\\t\\t\\t\\t\\t\\t\\t<li>\\n\\t\\t\\t\\t\\t\\t\\t\\t\\t<a href=\"http://search.daum.net/search?w=tot&DA=23W&rtmaxcoll=Z8T&q=인천광역시날씨\" class=\"link_cont\" data-tiara-layer=\"GNB default widget_weather\">\\n\\t\\t\\t\\t\\t\\t\\t\\t\\t\\t<span class=\"ico_weather ico_weather3\">구름많음</span>\\n\\t\\t\\t\\t\\t\\t\\t\\t\\t\\t<span class=\"txt_weather\">\\n\\t\\t\\t\\t\\t\\t\\t\\t\\t\\t\\t인천\\n\\t\\t\\t\\t\\t\\t\\t\\t\\t\\t\\t<span class=\"num_heat\">27</span> ℃\\n                                \\t\\t</span>\\n\\t\\t\\t\\t\\t\\t\\t\\t\\t</a>\\n\\t\\t\\t\\t\\t\\t\\t\\t</li>\\n\\t\\t\\t\\t\\t\\t\\t\\t<li>\\n\\t\\t\\t\\t\\t\\t\\t\\t\\t<a href=\"http://search.daum.net/search?w=tot&DA=23W&rtmaxcoll=Z8T&q=대구광역시날씨\" class=\"link_cont\" data-tiara-layer=\"GNB default widget_weather\">\\n\\t\\t\\t\\t\\t\\t\\t\\t\\t\\t<span class=\"ico_weather ico_weather4\">흐림</span>\\n\\t\\t\\t\\t\\t\\t\\t\\t\\t\\t<span class=\"txt_weather\">\\n\\t\\t\\t\\t\\t\\t\\t\\t\\t\\t\\t대구\\n\\t\\t\\t\\t\\t\\t\\t\\t\\t\\t\\t<span class=\"num_heat\">32</span> ℃\\n                                \\t\\t</span>\\n\\t\\t\\t\\t\\t\\t\\t\\t\\t</a>\\n\\t\\t\\t\\t\\t\\t\\t\\t</li>\\n\\t\\t\\t\\t\\t\\t\\t\\t<li>\\n\\t\\t\\t\\t\\t\\t\\t\\t\\t<a href=\"http://search.daum.net/search?w=tot&DA=23W&rtmaxcoll=Z8T&q=대전광역시날씨\" class=\"link_cont\" data-tiara-layer=\"GNB default widget_weather\">\\n\\t\\t\\t\\t\\t\\t\\t\\t\\t\\t<span class=\"ico_weather ico_weather3\">구름많음</span>\\n\\t\\t\\t\\t\\t\\t\\t\\t\\t\\t<span class=\"txt_weather\">\\n\\t\\t\\t\\t\\t\\t\\t\\t\\t\\t\\t대전\\n\\t\\t\\t\\t\\t\\t\\t\\t\\t\\t\\t<span class=\"num_heat\">31</span> ℃\\n                                \\t\\t</span>\\n\\t\\t\\t\\t\\t\\t\\t\\t\\t</a>\\n\\t\\t\\t\\t\\t\\t\\t\\t</li>\\n\\t\\t\\t\\t\\t\\t\\t\\t<li>\\n\\t\\t\\t\\t\\t\\t\\t\\t\\t<a href=\"http://search.daum.net/search?w=tot&DA=23W&rtmaxcoll=Z8T&q=광주광역시날씨\" class=\"link_cont\" data-tiara-layer=\"GNB default widget_weather\">\\n\\t\\t\\t\\t\\t\\t\\t\\t\\t\\t<span class=\"ico_weather ico_weather4\">흐림</span>\\n\\t\\t\\t\\t\\t\\t\\t\\t\\t\\t<span class=\"txt_weather\">\\n\\t\\t\\t\\t\\t\\t\\t\\t\\t\\t\\t광주\\n\\t\\t\\t\\t\\t\\t\\t\\t\\t\\t\\t<span class=\"num_heat\">31</span> ℃\\n                                \\t\\t</span>\\n\\t\\t\\t\\t\\t\\t\\t\\t\\t</a>\\n\\t\\t\\t\\t\\t\\t\\t\\t</li>\\n\\t\\t\\t\\t\\t\\t\\t\\t<li>\\n\\t\\t\\t\\t\\t\\t\\t\\t\\t<a href=\"http://search.daum.net/search?w=tot&DA=23W&rtmaxcoll=Z8T&q=부산광역시날씨\" class=\"link_cont\" data-tiara-layer=\"GNB default widget_weather\">\\n\\t\\t\\t\\t\\t\\t\\t\\t\\t\\t<span class=\"ico_weather ico_weather3\">구름많음</span>\\n\\t\\t\\t\\t\\t\\t\\t\\t\\t\\t<span class=\"txt_weather\">\\n\\t\\t\\t\\t\\t\\t\\t\\t\\t\\t\\t부산\\n\\t\\t\\t\\t\\t\\t\\t\\t\\t\\t\\t<span class=\"num_heat\">28</span> ℃\\n                                \\t\\t</span>\\n\\t\\t\\t\\t\\t\\t\\t\\t\\t</a>\\n\\t\\t\\t\\t\\t\\t\\t\\t</li>\\n\\t\\t\\t\\t\\t\\t\\t\\t<li>\\n\\t\\t\\t\\t\\t\\t\\t\\t\\t<a href=\"http://search.daum.net/search?w=tot&DA=23W&rtmaxcoll=Z8T&q=울산광역시날씨\" class=\"link_cont\" data-tiara-layer=\"GNB default widget_weather\">\\n\\t\\t\\t\\t\\t\\t\\t\\t\\t\\t<span class=\"ico_weather ico_weather3\">구름많음</span>\\n\\t\\t\\t\\t\\t\\t\\t\\t\\t\\t<span class=\"txt_weather\">\\n\\t\\t\\t\\t\\t\\t\\t\\t\\t\\t\\t울산\\n\\t\\t\\t\\t\\t\\t\\t\\t\\t\\t\\t<span class=\"num_heat\">30</span> ℃\\n                                \\t\\t</span>\\n\\t\\t\\t\\t\\t\\t\\t\\t\\t</a>\\n\\t\\t\\t\\t\\t\\t\\t\\t</li>\\n\\t\\t\\t\\t\\t\\t\\t\\t<li>\\n\\t\\t\\t\\t\\t\\t\\t\\t\\t<a href=\"http://search.daum.net/search?w=tot&DA=23W&rtmaxcoll=Z8T&q=울릉군날씨\" class=\"link_cont\" data-tiara-layer=\"GNB default widget_weather\">\\n\\t\\t\\t\\t\\t\\t\\t\\t\\t\\t<span class=\"ico_weather ico_weather1\">맑음</span>\\n\\t\\t\\t\\t\\t\\t\\t\\t\\t\\t<span class=\"txt_weather\">\\n\\t\\t\\t\\t\\t\\t\\t\\t\\t\\t\\t울릉/독도\\n\\t\\t\\t\\t\\t\\t\\t\\t\\t\\t\\t<span class=\"num_heat\">24</span> ℃\\n                                \\t\\t</span>\\n\\t\\t\\t\\t\\t\\t\\t\\t\\t</a>\\n\\t\\t\\t\\t\\t\\t\\t\\t</li>\\n\\t\\t\\t\\t\\t\\t\\t\\t<li>\\n\\t\\t\\t\\t\\t\\t\\t\\t\\t<a href=\"http://search.daum.net/search?w=tot&DA=23W&rtmaxcoll=Z8T&q=춘천시날씨\" class=\"link_cont\" data-tiara-layer=\"GNB default widget_weather\">\\n\\t\\t\\t\\t\\t\\t\\t\\t\\t\\t<span class=\"ico_weather ico_weather9\">비</span>\\n\\t\\t\\t\\t\\t\\t\\t\\t\\t\\t<span class=\"txt_weather\">\\n\\t\\t\\t\\t\\t\\t\\t\\t\\t\\t\\t춘천\\n\\t\\t\\t\\t\\t\\t\\t\\t\\t\\t\\t<span class=\"num_heat\">30</span> ℃\\n                                \\t\\t</span>\\n\\t\\t\\t\\t\\t\\t\\t\\t\\t</a>\\n\\t\\t\\t\\t\\t\\t\\t\\t</li>\\n\\t\\t\\t\\t\\t\\t\\t\\t<li>\\n\\t\\t\\t\\t\\t\\t\\t\\t\\t<a href=\"http://search.daum.net/search?w=tot&DA=23W&rtmaxcoll=Z8T&q=강릉시날씨\" class=\"link_cont\" data-tiara-layer=\"GNB default widget_weather\">\\n\\t\\t\\t\\t\\t\\t\\t\\t\\t\\t<span class=\"ico_weather ico_weather9\">비</span>\\n\\t\\t\\t\\t\\t\\t\\t\\t\\t\\t<span class=\"txt_weather\">\\n\\t\\t\\t\\t\\t\\t\\t\\t\\t\\t\\t강릉\\n\\t\\t\\t\\t\\t\\t\\t\\t\\t\\t\\t<span class=\"num_heat\">27</span> ℃\\n                                \\t\\t</span>\\n\\t\\t\\t\\t\\t\\t\\t\\t\\t</a>\\n\\t\\t\\t\\t\\t\\t\\t\\t</li>\\n\\t\\t\\t\\t\\t\\t\\t\\t<li>\\n\\t\\t\\t\\t\\t\\t\\t\\t\\t<a href=\"http://search.daum.net/search?w=tot&DA=23W&rtmaxcoll=Z8T&q=백령면날씨\" class=\"link_cont\" data-tiara-layer=\"GNB default widget_weather\">\\n\\t\\t\\t\\t\\t\\t\\t\\t\\t\\t<span class=\"ico_weather ico_weather1\">맑음</span>\\n\\t\\t\\t\\t\\t\\t\\t\\t\\t\\t<span class=\"txt_weather\">\\n\\t\\t\\t\\t\\t\\t\\t\\t\\t\\t\\t백령\\n\\t\\t\\t\\t\\t\\t\\t\\t\\t\\t\\t<span class=\"num_heat\">26</span> ℃\\n                                \\t\\t</span>\\n\\t\\t\\t\\t\\t\\t\\t\\t\\t</a>\\n\\t\\t\\t\\t\\t\\t\\t\\t</li>\\n\\t\\t\\t\\t\\t\\t\\t\\t<li>\\n\\t\\t\\t\\t\\t\\t\\t\\t\\t<a href=\"http://search.daum.net/search?w=tot&DA=23W&rtmaxcoll=Z8T&q=청주시 상당구날씨\" class=\"link_cont\" data-tiara-layer=\"GNB default widget_weather\">\\n\\t\\t\\t\\t\\t\\t\\t\\t\\t\\t<span class=\"ico_weather ico_weather4\">흐림</span>\\n\\t\\t\\t\\t\\t\\t\\t\\t\\t\\t<span class=\"txt_weather\">\\n\\t\\t\\t\\t\\t\\t\\t\\t\\t\\t\\t청주\\n\\t\\t\\t\\t\\t\\t\\t\\t\\t\\t\\t<span class=\"num_heat\">30</span> ℃\\n                                \\t\\t</span>\\n\\t\\t\\t\\t\\t\\t\\t\\t\\t</a>\\n\\t\\t\\t\\t\\t\\t\\t\\t</li>\\n\\t\\t\\t\\t\\t\\t\\t\\t<li>\\n\\t\\t\\t\\t\\t\\t\\t\\t\\t<a href=\"http://search.daum.net/search?w=tot&DA=23W&rtmaxcoll=Z8T&q=전주시 완산구날씨\" class=\"link_cont\" data-tiara-layer=\"GNB default widget_weather\">\\n\\t\\t\\t\\t\\t\\t\\t\\t\\t\\t<span class=\"ico_weather ico_weather1\">맑음</span>\\n\\t\\t\\t\\t\\t\\t\\t\\t\\t\\t<span class=\"txt_weather\">\\n\\t\\t\\t\\t\\t\\t\\t\\t\\t\\t\\t전주\\n\\t\\t\\t\\t\\t\\t\\t\\t\\t\\t\\t<span class=\"num_heat\">32</span> ℃\\n                                \\t\\t</span>\\n\\t\\t\\t\\t\\t\\t\\t\\t\\t</a>\\n\\t\\t\\t\\t\\t\\t\\t\\t</li>\\n\\t\\t\\t\\t\\t\\t\\t\\t<li>\\n\\t\\t\\t\\t\\t\\t\\t\\t\\t<a href=\"http://search.daum.net/search?w=tot&DA=23W&rtmaxcoll=Z8T&q=목포시날씨\" class=\"link_cont\" data-tiara-layer=\"GNB default widget_weather\">\\n\\t\\t\\t\\t\\t\\t\\t\\t\\t\\t<span class=\"ico_weather ico_weather3\">구름많음</span>\\n\\t\\t\\t\\t\\t\\t\\t\\t\\t\\t<span class=\"txt_weather\">\\n\\t\\t\\t\\t\\t\\t\\t\\t\\t\\t\\t목포\\n\\t\\t\\t\\t\\t\\t\\t\\t\\t\\t\\t<span class=\"num_heat\">28</span> ℃\\n                                \\t\\t</span>\\n\\t\\t\\t\\t\\t\\t\\t\\t\\t</a>\\n\\t\\t\\t\\t\\t\\t\\t\\t</li>\\n\\t\\t\\t\\t\\t\\t\\t\\t<li>\\n\\t\\t\\t\\t\\t\\t\\t\\t\\t<a href=\"http://search.daum.net/search?w=tot&DA=23W&rtmaxcoll=Z8T&q=여수시날씨\" class=\"link_cont\" data-tiara-layer=\"GNB default widget_weather\">\\n\\t\\t\\t\\t\\t\\t\\t\\t\\t\\t<span class=\"ico_weather ico_weather3\">구름많음</span>\\n\\t\\t\\t\\t\\t\\t\\t\\t\\t\\t<span class=\"txt_weather\">\\n\\t\\t\\t\\t\\t\\t\\t\\t\\t\\t\\t여수\\n\\t\\t\\t\\t\\t\\t\\t\\t\\t\\t\\t<span class=\"num_heat\">27</span> ℃\\n                                \\t\\t</span>\\n\\t\\t\\t\\t\\t\\t\\t\\t\\t</a>\\n\\t\\t\\t\\t\\t\\t\\t\\t</li>\\n\\t\\t\\t\\t\\t\\t\\t\\t<li>\\n\\t\\t\\t\\t\\t\\t\\t\\t\\t<a href=\"http://search.daum.net/search?w=tot&DA=23W&rtmaxcoll=Z8T&q=제주특별자치도날씨\" class=\"link_cont\" data-tiara-layer=\"GNB default widget_weather\">\\n\\t\\t\\t\\t\\t\\t\\t\\t\\t\\t<span class=\"ico_weather ico_weather3\">구름많음</span>\\n\\t\\t\\t\\t\\t\\t\\t\\t\\t\\t<span class=\"txt_weather\">\\n\\t\\t\\t\\t\\t\\t\\t\\t\\t\\t\\t제주\\n\\t\\t\\t\\t\\t\\t\\t\\t\\t\\t\\t<span class=\"num_heat\">30</span> ℃\\n                                \\t\\t</span>\\n\\t\\t\\t\\t\\t\\t\\t\\t\\t</a>\\n\\t\\t\\t\\t\\t\\t\\t\\t</li>\\n\\t\\t\\t\\t\\t\\t\\t\\t<li>\\n\\t\\t\\t\\t\\t\\t\\t\\t\\t<a href=\"http://search.daum.net/search?w=tot&DA=23W&rtmaxcoll=Z8T&q=안동시날씨\" class=\"link_cont\" data-tiara-layer=\"GNB default widget_weather\">\\n\\t\\t\\t\\t\\t\\t\\t\\t\\t\\t<span class=\"ico_weather ico_weather3\">구름많음</span>\\n\\t\\t\\t\\t\\t\\t\\t\\t\\t\\t<span class=\"txt_weather\">\\n\\t\\t\\t\\t\\t\\t\\t\\t\\t\\t\\t안동\\n\\t\\t\\t\\t\\t\\t\\t\\t\\t\\t\\t<span class=\"num_heat\">31</span> ℃\\n                                \\t\\t</span>\\n\\t\\t\\t\\t\\t\\t\\t\\t\\t</a>\\n\\t\\t\\t\\t\\t\\t\\t\\t</li>\\n\\t\\t\\t\\t\\t\\t\\t\\t<li>\\n\\t\\t\\t\\t\\t\\t\\t\\t\\t<a href=\"http://search.daum.net/search?w=tot&DA=23W&rtmaxcoll=Z8T&q=창원시 의창구날씨\" class=\"link_cont\" data-tiara-layer=\"GNB default widget_weather\">\\n\\t\\t\\t\\t\\t\\t\\t\\t\\t\\t<span class=\"ico_weather ico_weather3\">구름많음</span>\\n\\t\\t\\t\\t\\t\\t\\t\\t\\t\\t<span class=\"txt_weather\">\\n\\t\\t\\t\\t\\t\\t\\t\\t\\t\\t\\t창원\\n\\t\\t\\t\\t\\t\\t\\t\\t\\t\\t\\t<span class=\"num_heat\">30</span> ℃\\n                                \\t\\t</span>\\n\\t\\t\\t\\t\\t\\t\\t\\t\\t</a>\\n\\t\\t\\t\\t\\t\\t\\t\\t</li>\\n\\t\\t\\t\\t\\t\\t</ul>\\n\\t\\t\\t\\t\\t</div>\\n\\t\\t\\t</div>\\n\\t\\t</div>\\n\\t</div>\\n\\n\\t<script src=\"//t1.daumcdn.net/media/kraken/news/5dbfb0e/gnb.merged.js\"></script>\\n\\n\\t<style>\\n\\t\\t.gnb_comm .link_gnb .bar_gnb .inner_bar {width:0;background-color:#1e88e5}\\n\\t\\t.gnb_comm .on .link_gnb .bar_gnb .inner_bar {width:100%}\\n\\t</style>\\n\\n</div>\\n\\n<hr class=\"hide\" />\\n<div id=\"kakaoContent\" class=\"cont_ranking\" role=\"main\">\\n    <h2 id=\"kakaoBody\" class=\"screen_out\">랭킹</h2>\\n    <div id=\"cMain\">\\n        <div id=\"mArticle\">\\n            <div class=\"head_rank\">\\n    <h3 class=\"tit_news\">랭킹뉴스</h3>\\n    \\n\\n\\n<div class=\"wrap_calendar\">\\n    <strong class=\"screen_out\">날짜선택</strong>\\n    <div class=\"box_calendar\">\\n        <span class=\"screen_out\">2021년 07월 10일</span>\\n        <span class=\"num_news num2\"></span>\\n        <span class=\"num_news num0\"></span>\\n        <span class=\"num_news num2\"></span>\\n        <span class=\"num_news num1\"></span>\\n        <span class=\"txt_point\"></span>\\n        <span class=\"num_news num0\"></span>\\n        <span class=\"num_news num7\"></span>\\n        <span class=\"txt_point\"></span>\\n        <span class=\"num_news num1\"></span>\\n        <span class=\"num_news num0\"></span>\\n\\n        <a href=\"#none\" class=\"btn_calendar\" data-tiara-layer=\"schedule calendar\"><span class=\"ico_news\">달력에서 선택하기</span></a>\\n\\n        <a href=\"/ranking/bestreply?regDate=20210709\" class=\"btn_date btn_prev\" data-tiara-layer=\"schedule btn_prev\"><span class=\"ico_news ico_prev\">이전 날짜</span></a>\\n            <span class=\"btn_date btn_off\"><span class=\"ico_news ico_next\">다음 날짜</span></span>\\n    </div>\\n    <a href=\"/ranking/bestreply\" class=\"btn_today\" data-tiara-layer=\"schedule today\">오늘<span class=\"screen_out\">날짜보기</span></a>\\n    <div id=\"JESMCalender\" class=\"\" style=\"top: 41px; left: -79px;\"></div>\\n</div>\\n</div>\\n            <div class=\"rank_news\">\\n<ul class=\"tab_nav tab_nav2\" data-tiara-layer=\"lnb tab\">\\n    <li  data-tiara-layer=\"popular\">\\n        <a href=\"/ranking/popular\" class=\"link_tab\">\\n            <span class=\"ico_news ico_checks\"></span>많이 본\\n        </a>\\n    </li>\\n    <li  data-tiara-layer=\"dri\">\\n        <a href=\"/ranking/kkomkkom\" class=\"link_tab\">\\n            <span class=\"ico_news ico_checks\"></span>열독률 높은\\n        </a>\\n    </li>\\n    <li class=\"on\" data-tiara-layer=\"bestreply\">\\n        <a href=\"/ranking/bestreply\" class=\"link_tab\">\\n                <span class=\"screen_out\">선택됨</span>\\n            <span class=\"ico_news ico_checks\"></span>댓글 많은\\n        </a>\\n    </li>\\n    <li  data-tiara-layer=\"age\">\\n        <a href=\"/ranking/age\" class=\"link_tab\">\\n            <span class=\"ico_news ico_checks\"></span>연령별\\n        </a>\\n    </li>\\n</ul>\\n                <h4 class=\"screen_out\">댓글많은뉴스</h4>\\n                    <ul class=\"list_news2\">\\n            <li data-tiara-layer=\"news_list\" data-tiara-ordnum=\"1\" data-tiara-type=\"article\">\\n            <div class=\"rank_num \">\\n                <span class=\"wrap_num\">\\n                    <span class=\"num_rank\">\\n                            <span class=\"num_news num1\"></span>\\n                        <span class=\"screen_out\">1</span>\\n                    </span>\\n                </span>\\n                    <span class=\"info_rank\">\\n                        <span class=\"screen_out\">댓글수</span>\\n                        <span class=\"ico_news2\">3,847</span>\\n                    </span>\\n            </div>\\n                <a href=\"https://news.v.daum.net/v/20210709221934964\" class=\"link_thumb\">\\n                    <img src=\"https://img1.daumcdn.net/thumb/S95x77ht.u/?fname=https%3A%2F%2Ft1.daumcdn.net%2Fnews%2F202107%2F09%2Fkhan%2F20210709221935906urbu.jpg&scode=media\" class=\"thumb_g\" alt=\"윤석열 &quot;정부는 백신을 빠르게 수급해오시길 촉구드린다&quot;\" aria-hidden=\"true\" />\\n                </a>\\n            <div class=\"cont_thumb\">\\n                <strong class=\"tit_thumb\">\\n                    <a href=\"https://news.v.daum.net/v/20210709221934964\" class=\"link_txt\">윤석열 \"정부는 백신을 빠르게 수급해오시길 촉구드린다\"</a>\\n                    <span class=\"info_news\">경향신문</span>\\n                </strong>\\n                <div class=\"desc_thumb\">\\n                    <span class=\"link_txt\">\\n                        [경향신문] 윤석열 전 검찰총장이 9일 코로나19 재확산과 관련해 “정부는 이 펜데믹을 해결하는데 필요한 백신을 빠르게 수급해오시길 촉구드린다”고 밝혔다. 윤 전 ...\\n                    </span>\\n                </div>\\n            </div>\\n        </li>\\n        <li data-tiara-layer=\"news_list\" data-tiara-ordnum=\"2\" data-tiara-type=\"article\">\\n            <div class=\"rank_num \">\\n                <span class=\"wrap_num\">\\n                    <span class=\"num_rank\">\\n                            <span class=\"num_news num2\"></span>\\n                        <span class=\"screen_out\">2</span>\\n                    </span>\\n                </span>\\n                    <span class=\"info_rank\">\\n                        <span class=\"screen_out\">댓글수</span>\\n                        <span class=\"ico_news2\">3,531</span>\\n                    </span>\\n            </div>\\n                <a href=\"https://news.v.daum.net/v/20210710120930857\" class=\"link_thumb\">\\n                    <img src=\"https://img1.daumcdn.net/thumb/S95x77ht.u/?fname=https%3A%2F%2Ft1.daumcdn.net%2Fnews%2F202107%2F10%2Fakn%2F20210710120931929kvry.jpg&scode=media\" class=\"thumb_g\" alt=\"&quot;망신도 이런 X망신이&quot; 김건희 논문 표절 의혹, 국민대생도 뿔났다\" aria-hidden=\"true\" />\\n                </a>\\n            <div class=\"cont_thumb\">\\n                <strong class=\"tit_thumb\">\\n                    <a href=\"https://news.v.daum.net/v/20210710120930857\" class=\"link_txt\">\"망신도 이런 X망신이\" 김건희 논문 표절 의혹, 국민대생도 뿔났다</a>\\n                    <span class=\"info_news\">아시아경제</span>\\n                </strong>\\n                <div class=\"desc_thumb\">\\n                    <span class=\"link_txt\">\\n                        [아시아경제 황수미 기자] 윤석열 전 검찰총장 배우자 김건희 씨의 박사 학위 논문 표절 의혹과 관련해 국민대 측에 진상 규명과 재발 방지를 요구하는 학내 구성원들의...\\n                    </span>\\n                </div>\\n            </div>\\n        </li>\\n        <li data-tiara-layer=\"news_list\" data-tiara-ordnum=\"3\" data-tiara-type=\"article\">\\n            <div class=\"rank_num \">\\n                <span class=\"wrap_num\">\\n                    <span class=\"num_rank\">\\n                            <span class=\"num_news num3\"></span>\\n                        <span class=\"screen_out\">3</span>\\n                    </span>\\n                </span>\\n                    <span class=\"info_rank\">\\n                        <span class=\"screen_out\">댓글수</span>\\n                        <span class=\"ico_news2\">3,314</span>\\n                    </span>\\n            </div>\\n                <a href=\"https://news.v.daum.net/v/20210710102707693\" class=\"link_thumb\">\\n                    <img src=\"https://img1.daumcdn.net/thumb/S95x77ht.u/?fname=https%3A%2F%2Ft1.daumcdn.net%2Fnews%2F202107%2F10%2Fmoneytoday%2F20210710102710122zkcf.jpg&scode=media\" class=\"thumb_g\" alt=\"\\'통일부 폐지\\' 띄운 이준석, 이인영 반발에 &quot;그럼 일 못한 장관 바꿔야&quot;\" aria-hidden=\"true\" />\\n                </a>\\n            <div class=\"cont_thumb\">\\n                <strong class=\"tit_thumb\">\\n                    <a href=\"https://news.v.daum.net/v/20210710102707693\" class=\"link_txt\">\\'통일부 폐지\\' 띄운 이준석, 이인영 반발에 \"그럼 일 못한 장관 바꿔야\"</a>\\n                    <span class=\"info_news\">머니투데이</span>\\n                </strong>\\n                <div class=\"desc_thumb\">\\n                    <span class=\"link_txt\">\\n                        이준석 국민의힘 대표는 자신의 \\'통일부 폐지론\\'에 유감을 표한 이인영 통일부 장관을 향해 \"이 장관이 \\'필요한 부처\\'라고 생각하신다면 \\'필요한 부처\\'에서 장관이 제대...\\n                    </span>\\n                </div>\\n            </div>\\n        </li>\\n        <li data-tiara-layer=\"news_list\" data-tiara-ordnum=\"4\" data-tiara-type=\"article\">\\n            <div class=\"rank_num \">\\n                <span class=\"wrap_num\">\\n                    <span class=\"num_rank\">\\n                            <span class=\"num_news num4\"></span>\\n                        <span class=\"screen_out\">4</span>\\n                    </span>\\n                </span>\\n                    <span class=\"info_rank\">\\n                        <span class=\"screen_out\">댓글수</span>\\n                        <span class=\"ico_news2\">3,051</span>\\n                    </span>\\n            </div>\\n                <a href=\"https://news.v.daum.net/v/20210710121411889\" class=\"link_thumb\">\\n                    <img src=\"https://img1.daumcdn.net/thumb/S95x77ht.u/?fname=https%3A%2F%2Ft1.daumcdn.net%2Fnews%2F202107%2F10%2FNEWS1%2F20210710121411586uliw.jpg&scode=media\" class=\"thumb_g\" alt=\"윤석열, \\'경찰 사칭\\' MBC 취재진 3명 경찰 고발..&quot;윗선 개입&quot;\" aria-hidden=\"true\" />\\n                </a>\\n            <div class=\"cont_thumb\">\\n                <strong class=\"tit_thumb\">\\n                    <a href=\"https://news.v.daum.net/v/20210710121411889\" class=\"link_txt\">윤석열, \\'경찰 사칭\\' MBC 취재진 3명 경찰 고발..\"윗선 개입\"</a>\\n                    <span class=\"info_news\">뉴스1</span>\\n                </strong>\\n                <div class=\"desc_thumb\">\\n                    <span class=\"link_txt\">\\n                        (서울=뉴스1) 최동현 기자 = 윤석열 전 검찰총장이 10일 부인 김건희씨 취재 과정에서 경찰을 사칭한 의혹을 받는 MBC 취재진을 경찰에 고발했다. 윤 전 총장 대선캠프...\\n                    </span>\\n                </div>\\n            </div>\\n        </li>\\n        <li data-tiara-layer=\"news_list\" data-tiara-ordnum=\"5\" data-tiara-type=\"article\">\\n            <div class=\"rank_num \">\\n                <span class=\"wrap_num\">\\n                    <span class=\"num_rank\">\\n                            <span class=\"num_news num5\"></span>\\n                        <span class=\"screen_out\">5</span>\\n                    </span>\\n                </span>\\n                    <span class=\"info_rank\">\\n                        <span class=\"screen_out\">댓글수</span>\\n                        <span class=\"ico_news2\">2,859</span>\\n                    </span>\\n            </div>\\n                <a href=\"https://news.v.daum.net/v/20210710120602820\" class=\"link_thumb\">\\n                    <img src=\"https://img1.daumcdn.net/thumb/S95x77ht.u/?fname=https%3A%2F%2Ft1.daumcdn.net%2Fnews%2F202107%2F10%2Fseoul%2F20210710120605863attq.jpg&scode=media\" class=\"thumb_g\" alt=\"박원순 1주기, 피해자는 온몸에 변호사는 눈에 피멍이 들었다\" aria-hidden=\"true\" />\\n                </a>\\n            <div class=\"cont_thumb\">\\n                <strong class=\"tit_thumb\">\\n                    <a href=\"https://news.v.daum.net/v/20210710120602820\" class=\"link_txt\">박원순 1주기, 피해자는 온몸에 변호사는 눈에 피멍이 들었다</a>\\n                    <span class=\"info_news\">서울신문</span>\\n                </strong>\\n                <div class=\"desc_thumb\">\\n                    <span class=\"link_txt\">\\n                        고 박원순 서울시장의 성추행 피해자를 대리했던 김재련 변호사가 10일 여성가족부 폐지에 반대한다는 입장을 밝혔다. 김 변호사는 전날인 9일이 박 전 시장을 고소한지...\\n                    </span>\\n                </div>\\n            </div>\\n        </li>\\n        <li data-tiara-layer=\"news_list\" data-tiara-ordnum=\"6\" data-tiara-type=\"article\">\\n            <div class=\"rank_num \">\\n                <span class=\"wrap_num\">\\n                    <span class=\"num_rank\">\\n                            <span class=\"num_news num6\"></span>\\n                        <span class=\"screen_out\">6</span>\\n                    </span>\\n                </span>\\n                    <span class=\"info_rank\">\\n                        <span class=\"screen_out\">댓글수</span>\\n                        <span class=\"ico_news2\">2,672</span>\\n                    </span>\\n            </div>\\n                <a href=\"https://news.v.daum.net/v/20210710112400367\" class=\"link_thumb\">\\n                    <img src=\"https://img1.daumcdn.net/thumb/S95x77ht.u/?fname=https%3A%2F%2Ft1.daumcdn.net%2Fnews%2F202107%2F10%2Fohmynews%2F20210710112401382qcld.jpg&scode=media\" class=\"thumb_g\" alt=\"&quot;감옥에서 8년, 이석기를 석방하라&quot;\" aria-hidden=\"true\" />\\n                </a>\\n            <div class=\"cont_thumb\">\\n                <strong class=\"tit_thumb\">\\n                    <a href=\"https://news.v.daum.net/v/20210710112400367\" class=\"link_txt\">\"감옥에서 8년, 이석기를 석방하라\"</a>\\n                    <span class=\"info_news\">오마이뉴스</span>\\n                </strong>\\n                <div class=\"desc_thumb\">\\n                    <span class=\"link_txt\">\\n                        [이윤경 기자] ▲ \\xa0이석기 의원 석방 및 사면 복권을 위한 부산 문화제    ⓒ 이윤경  \\xa0\\xa0이석기 전 통합진보당 의원 석방에 대한 각계각층의 요구가 연일 터져 나오...\\n                    </span>\\n                </div>\\n            </div>\\n        </li>\\n        <li data-tiara-layer=\"news_list\" data-tiara-ordnum=\"7\" data-tiara-type=\"article\">\\n            <div class=\"rank_num \">\\n                <span class=\"wrap_num\">\\n                    <span class=\"num_rank\">\\n                            <span class=\"num_news num7\"></span>\\n                        <span class=\"screen_out\">7</span>\\n                    </span>\\n                </span>\\n                    <span class=\"info_rank\">\\n                        <span class=\"screen_out\">댓글수</span>\\n                        <span class=\"ico_news2\">2,351</span>\\n                    </span>\\n            </div>\\n                <a href=\"https://news.v.daum.net/v/20210709210901017\" class=\"link_thumb\">\\n                    <img src=\"https://img1.daumcdn.net/thumb/S95x77ht.u/?fname=https%3A%2F%2Ft1.daumcdn.net%2Fnews%2F202107%2F09%2Fohmynews%2F20210709210904779nuuh.jpg&scode=media\" class=\"thumb_g\" alt=\"[단독] \\'표절 논란\\' 김건희, 애초부터 박사 청구 자격미달 논란\" aria-hidden=\"true\" />\\n                </a>\\n            <div class=\"cont_thumb\">\\n                <strong class=\"tit_thumb\">\\n                    <a href=\"https://news.v.daum.net/v/20210709210901017\" class=\"link_txt\">[단독] \\'표절 논란\\' 김건희, 애초부터 박사 청구 자격미달 논란</a>\\n                    <span class=\"info_news\">오마이뉴스</span>\\n                </strong>\\n                <div class=\"desc_thumb\">\\n                    <span class=\"link_txt\">\\n                        [윤근혁 기자] \\xa0        ▲ \\xa0국민대학교에서 김건희씨의 박사학위 논문에 대해 연구윤리위 조사에 들어간 가운데, 다른 논문도 연달아 표절 의혹이 불거졌다. 사진은 ...\\n                    </span>\\n                </div>\\n            </div>\\n        </li>\\n        <li data-tiara-layer=\"news_list\" data-tiara-ordnum=\"8\" data-tiara-type=\"article\">\\n            <div class=\"rank_num \">\\n                <span class=\"wrap_num\">\\n                    <span class=\"num_rank\">\\n                            <span class=\"num_news num8\"></span>\\n                        <span class=\"screen_out\">8</span>\\n                    </span>\\n                </span>\\n                    <span class=\"info_rank\">\\n                        <span class=\"screen_out\">댓글수</span>\\n                        <span class=\"ico_news2\">1,899</span>\\n                    </span>\\n            </div>\\n                <a href=\"https://news.v.daum.net/v/20210710141954889\" class=\"link_thumb\">\\n                    <img src=\"https://img1.daumcdn.net/thumb/S95x77ht.u/?fname=https%3A%2F%2Ft1.daumcdn.net%2Fnews%2F202107%2F10%2Fnewsis%2F20210710141954373emkj.jpg&scode=media\" class=\"thumb_g\" alt=\"이준석 &quot;대만·北도 \\'통일부\\' 없어&quot; vs 여야 &quot;서독엔 있었다&quot;(종합)\" aria-hidden=\"true\" />\\n                </a>\\n            <div class=\"cont_thumb\">\\n                <strong class=\"tit_thumb\">\\n                    <a href=\"https://news.v.daum.net/v/20210710141954889\" class=\"link_txt\">이준석 \"대만·北도 \\'통일부\\' 없어\" vs 여야 \"서독엔 있었다\"(종합)</a>\\n                    <span class=\"info_news\">뉴시스</span>\\n                </strong>\\n                <div class=\"desc_thumb\">\\n                    <span class=\"link_txt\">\\n                        [서울=뉴시스]정진형 기자 = 이준석 국민의힘 대표가 여성가족부에 이어 통일부 폐지를 주장해 논란이 일고 있다. 여당에선 이 대표의 \\'통일 의지\\'가 의심된다는 비판과...\\n                    </span>\\n                </div>\\n            </div>\\n        </li>\\n        <li data-tiara-layer=\"news_list\" data-tiara-ordnum=\"9\" data-tiara-type=\"article\">\\n            <div class=\"rank_num \">\\n                <span class=\"wrap_num\">\\n                    <span class=\"num_rank\">\\n                            <span class=\"num_news num9\"></span>\\n                        <span class=\"screen_out\">9</span>\\n                    </span>\\n                </span>\\n                    <span class=\"info_rank\">\\n                        <span class=\"screen_out\">댓글수</span>\\n                        <span class=\"ico_news2\">1,869</span>\\n                    </span>\\n            </div>\\n                <a href=\"https://news.v.daum.net/v/20210710074603903\" class=\"link_thumb\">\\n                    <img src=\"https://img1.daumcdn.net/thumb/S95x77ht.u/?fname=https%3A%2F%2Ft1.daumcdn.net%2Fnews%2F202107%2F10%2FTHEFACT%2F20210710074605457ilhd.jpg&scode=media\" class=\"thumb_g\" alt=\"[단독] 검찰, \\'요양급여 부정 수급\\' 윤석열 장모 판결 항소 포기\" aria-hidden=\"true\" />\\n                </a>\\n            <div class=\"cont_thumb\">\\n                <strong class=\"tit_thumb\">\\n                    <a href=\"https://news.v.daum.net/v/20210710074603903\" class=\"link_txt\">[단독] 검찰, \\'요양급여 부정 수급\\' 윤석열 장모 판결 항소 포기</a>\\n                    <span class=\"info_news\">더팩트</span>\\n                </strong>\\n                <div class=\"desc_thumb\">\\n                    <span class=\"link_txt\">\\n                        장모 최씨 항소심, 검찰 반박 없이 진행 [더팩트ㅣ윤용민 기자] 1심에서 구형대로 형량을 선고 받은 윤석열 전 검찰총장의 장모 최모(74) 씨가 결과에 불복해 항소를 제...\\n                    </span>\\n                </div>\\n            </div>\\n        </li>\\n        <li data-tiara-layer=\"news_list\" data-tiara-ordnum=\"10\" data-tiara-type=\"article\">\\n            <div class=\"rank_num \">\\n                <span class=\"wrap_num\">\\n                    <span class=\"num_rank\">\\n                            <span class=\"num_news num1\"></span>\\n                            <span class=\"num_news num0\"></span>\\n                        <span class=\"screen_out\">10</span>\\n                    </span>\\n                </span>\\n                    <span class=\"info_rank\">\\n                        <span class=\"screen_out\">댓글수</span>\\n                        <span class=\"ico_news2\">1,630</span>\\n                    </span>\\n            </div>\\n                <a href=\"https://news.v.daum.net/v/20210710134946581\" class=\"link_thumb\">\\n                    <img src=\"https://img1.daumcdn.net/thumb/S95x77ht.u/?fname=https%3A%2F%2Ft1.daumcdn.net%2Fnews%2F202107%2F10%2Fhankooki%2F20210710134949761mexh.jpg&scode=media\" class=\"thumb_g\" alt=\"&quot;기본소득은 하나님께서 약속하신 은혜입니다&quot;\" aria-hidden=\"true\" />\\n                </a>\\n            <div class=\"cont_thumb\">\\n                <strong class=\"tit_thumb\">\\n                    <a href=\"https://news.v.daum.net/v/20210710134946581\" class=\"link_txt\">\"기본소득은 하나님께서 약속하신 은혜입니다\"</a>\\n                    <span class=\"info_news\">한국일보</span>\\n                </strong>\\n                <div class=\"desc_thumb\">\\n                    <span class=\"link_txt\">\\n                        정치권이 기본소득 논의로 뜨겁다. 모든 사람에게 조건 없이 현금을 지급해 보편적 소득을 보장하는 ‘복지제도의 이상’이라는 주장과 재원 마련이 불가능한 ‘동화 같...\\n                    </span>\\n                </div>\\n            </div>\\n        </li>\\n        <li data-tiara-layer=\"news_list\" data-tiara-ordnum=\"11\" data-tiara-type=\"article\">\\n            <div class=\"rank_num \">\\n                <span class=\"wrap_num\">\\n                    <span class=\"num_rank\">\\n                            <span class=\"num_news num1\"></span>\\n                            <span class=\"num_news num1\"></span>\\n                        <span class=\"screen_out\">11</span>\\n                    </span>\\n                </span>\\n                    <span class=\"info_rank\">\\n                        <span class=\"screen_out\">댓글수</span>\\n                        <span class=\"ico_news2\">1,265</span>\\n                    </span>\\n            </div>\\n                <a href=\"https://news.v.daum.net/v/20210710101421582\" class=\"link_thumb\">\\n                    <img src=\"https://img1.daumcdn.net/thumb/S95x77ht.u/?fname=https%3A%2F%2Ft1.daumcdn.net%2Fnews%2F202107%2F10%2Fjoongang%2F20210710101424980etnw.jpg&scode=media\" class=\"thumb_g\" alt=\"&quot;박원순 숨졌는데 독기 품었다며..&quot; 김재련이 저격한 한 의원\" aria-hidden=\"true\" />\\n                </a>\\n            <div class=\"cont_thumb\">\\n                <strong class=\"tit_thumb\">\\n                    <a href=\"https://news.v.daum.net/v/20210710101421582\" class=\"link_txt\">\"박원순 숨졌는데 독기 품었다며..\" 김재련이 저격한 한 의원</a>\\n                    <span class=\"info_news\">중앙일보</span>\\n                </strong>\\n                <div class=\"desc_thumb\">\\n                    <span class=\"link_txt\">\\n                        김재련 변호사는 10일 박원순 전 서울시장 성폭력 사건 후 1년이 지났다며 그간의 소회를 밝혔다. 김 변호사는 이날 오전  자신의 페이스북에 올린 글에서 “어제는 고...\\n                    </span>\\n                </div>\\n            </div>\\n        </li>\\n        <li data-tiara-layer=\"news_list\" data-tiara-ordnum=\"12\" data-tiara-type=\"article\">\\n            <div class=\"rank_num \">\\n                <span class=\"wrap_num\">\\n                    <span class=\"num_rank\">\\n                            <span class=\"num_news num1\"></span>\\n                            <span class=\"num_news num2\"></span>\\n                        <span class=\"screen_out\">12</span>\\n                    </span>\\n                </span>\\n                    <span class=\"info_rank\">\\n                        <span class=\"screen_out\">댓글수</span>\\n                        <span class=\"ico_news2\">1,011</span>\\n                    </span>\\n            </div>\\n                <a href=\"https://news.v.daum.net/v/20210710110809218\" class=\"link_thumb\">\\n                    <img src=\"https://img1.daumcdn.net/thumb/S95x77ht.u/?fname=https%3A%2F%2Ft1.daumcdn.net%2Fnews%2F202107%2F10%2Fhani21%2F20210710110810485klne.jpg&scode=media\" class=\"thumb_g\" alt=\"개와 중국인은 출입금지\" aria-hidden=\"true\" />\\n                </a>\\n            <div class=\"cont_thumb\">\\n                <strong class=\"tit_thumb\">\\n                    <a href=\"https://news.v.daum.net/v/20210710110809218\" class=\"link_txt\">개와 중국인은 출입금지</a>\\n                    <span class=\"info_news\">한겨레21</span>\\n                </strong>\\n                <div class=\"desc_thumb\">\\n                    <span class=\"link_txt\">\\n                        1894년 2월, 31살의 젊은 오스트레일리아 청년이 배를 타고 일본을 거쳐 중국 상하이로 왔다. 그는 창장(长江·양쯔강)을 거슬러 올라가 충칭으로 간 다음, 중국인처럼 ...\\n                    </span>\\n                </div>\\n            </div>\\n        </li>\\n        <li data-tiara-layer=\"news_list\" data-tiara-ordnum=\"13\" data-tiara-type=\"article\">\\n            <div class=\"rank_num \">\\n                <span class=\"wrap_num\">\\n                    <span class=\"num_rank\">\\n                            <span class=\"num_news num1\"></span>\\n                            <span class=\"num_news num3\"></span>\\n                        <span class=\"screen_out\">13</span>\\n                    </span>\\n                </span>\\n                    <span class=\"info_rank\">\\n                        <span class=\"screen_out\">댓글수</span>\\n                        <span class=\"ico_news2\">923</span>\\n                    </span>\\n            </div>\\n            <div class=\"cont_thumb\">\\n                <strong class=\"tit_thumb\">\\n                    <a href=\"https://news.v.daum.net/v/20210710030255042\" class=\"link_txt\">쥴리면 워떻고 캔디면 또 워뗘서?</a>\\n                    <span class=\"info_news\">조선일보</span>\\n                </strong>\\n                <div class=\"desc_thumb\">\\n                    <span class=\"link_txt\">\\n                        ‘토사구팽’이란 사자성어를 유행시킨 김재순 전 국회의장을 생전에 부인과 함께 뵌 적이 있습니다. 김 전 의장이 “이 사람이 젊어서는 참 곱고 얌전했는데 지금은 아...\\n                    </span>\\n                </div>\\n            </div>\\n        </li>\\n        <li data-tiara-layer=\"news_list\" data-tiara-ordnum=\"14\" data-tiara-type=\"article\">\\n            <div class=\"rank_num \">\\n                <span class=\"wrap_num\">\\n                    <span class=\"num_rank\">\\n                            <span class=\"num_news num1\"></span>\\n                            <span class=\"num_news num4\"></span>\\n                        <span class=\"screen_out\">14</span>\\n                    </span>\\n                </span>\\n                    <span class=\"info_rank\">\\n                        <span class=\"screen_out\">댓글수</span>\\n                        <span class=\"ico_news2\">921</span>\\n                    </span>\\n            </div>\\n                <a href=\"https://news.v.daum.net/v/20210710114646621\" class=\"link_thumb\">\\n                    <img src=\"https://img1.daumcdn.net/thumb/S95x77ht.u/?fname=https%3A%2F%2Ft1.daumcdn.net%2Fnews%2F202107%2F10%2Fjoongang%2F20210710114649964dmhk.jpg&scode=media\" class=\"thumb_g\" alt=\"김경수 살면 경선판 요동친다..21일 대법 선고 주목하는 與\" aria-hidden=\"true\" />\\n                </a>\\n            <div class=\"cont_thumb\">\\n                <strong class=\"tit_thumb\">\\n                    <a href=\"https://news.v.daum.net/v/20210710114646621\" class=\"link_txt\">김경수 살면 경선판 요동친다..21일 대법 선고 주목하는 與</a>\\n                    <span class=\"info_news\">중앙일보</span>\\n                </strong>\\n                <div class=\"desc_thumb\">\\n                    <span class=\"link_txt\">\\n                        더불어민주당이 21일로 예정된 김경수 경남지사의 대법원 선고에 촉각을 곤두세우고 있다. 김 지사 선고 결과가 향후 민주당 대선 경선의 변수가 될 수 있어서다. 김 지...\\n                    </span>\\n                </div>\\n            </div>\\n        </li>\\n        <li data-tiara-layer=\"news_list\" data-tiara-ordnum=\"15\" data-tiara-type=\"article\">\\n            <div class=\"rank_num \">\\n                <span class=\"wrap_num\">\\n                    <span class=\"num_rank\">\\n                            <span class=\"num_news num1\"></span>\\n                            <span class=\"num_news num5\"></span>\\n                        <span class=\"screen_out\">15</span>\\n                    </span>\\n                </span>\\n                    <span class=\"info_rank\">\\n                        <span class=\"screen_out\">댓글수</span>\\n                        <span class=\"ico_news2\">820</span>\\n                    </span>\\n            </div>\\n                <a href=\"https://news.v.daum.net/v/20210709191632498\" class=\"link_thumb\">\\n                    <img src=\"https://img1.daumcdn.net/thumb/S95x77ht.u/?fname=https%3A%2F%2Ft1.daumcdn.net%2Fnews%2F202107%2F09%2FChannela%2F20210709191633213pqeq.jpg&scode=media\" class=\"thumb_g\" alt=\"\\'김건희 논문\\' 공세에 윤석열 맞불 놨다\" aria-hidden=\"true\" />\\n                </a>\\n            <div class=\"cont_thumb\">\\n                <strong class=\"tit_thumb\">\\n                    <a href=\"https://news.v.daum.net/v/20210709191632498\" class=\"link_txt\">\\'김건희 논문\\' 공세에 윤석열 맞불 놨다</a>\\n                    <span class=\"info_news\">채널A</span>\\n                </strong>\\n                <div class=\"desc_thumb\">\\n                    <span class=\"link_txt\">\\n                        ■ 방송 : 채널A 뉴스 TOP10 (17:30~19:00) ■ 방송일 : 2021년 7월 9일 (금요일) ■ 진행 : 김종석 앵커 ■ 출연 : 구자홍 동아일보 신동아팀 차장, 소종섭 전 시사저...\\n                    </span>\\n                </div>\\n            </div>\\n        </li>\\n        <li data-tiara-layer=\"news_list\" data-tiara-ordnum=\"16\" data-tiara-type=\"article\">\\n            <div class=\"rank_num \">\\n                <span class=\"wrap_num\">\\n                    <span class=\"num_rank\">\\n                            <span class=\"num_news num1\"></span>\\n                            <span class=\"num_news num6\"></span>\\n                        <span class=\"screen_out\">16</span>\\n                    </span>\\n                </span>\\n                    <span class=\"info_rank\">\\n                        <span class=\"screen_out\">댓글수</span>\\n                        <span class=\"ico_news2\">729</span>\\n                    </span>\\n            </div>\\n                <a href=\"https://news.v.daum.net/v/20210710120305790\" class=\"link_thumb\">\\n                    <img src=\"https://img1.daumcdn.net/thumb/S95x77ht.u/?fname=https%3A%2F%2Ft1.daumcdn.net%2Fnews%2F202107%2F10%2Fyonhap%2F20210710120306130tkag.jpg&scode=media\" class=\"thumb_g\" alt=\"대낮 음주 뺑소니에 오른발 절단 피해..집행유예 깨고 실형\" aria-hidden=\"true\" />\\n                </a>\\n            <div class=\"cont_thumb\">\\n                <strong class=\"tit_thumb\">\\n                    <a href=\"https://news.v.daum.net/v/20210710120305790\" class=\"link_txt\">대낮 음주 뺑소니에 오른발 절단 피해..집행유예 깨고 실형</a>\\n                    <span class=\"info_news\">연합뉴스</span>\\n                </strong>\\n                <div class=\"desc_thumb\">\\n                    <span class=\"link_txt\">\\n                        (춘천=연합뉴스) 박영서 기자 = 대낮에 음주운전 뺑소니 사고를 내고도 1심에서 실형을 면한 50대가 항소심에서 실형을 선고받고 법정에서 구속됐다. 춘천지법 형사1부(...\\n                    </span>\\n                </div>\\n            </div>\\n        </li>\\n        <li data-tiara-layer=\"news_list\" data-tiara-ordnum=\"17\" data-tiara-type=\"article\">\\n            <div class=\"rank_num \">\\n                <span class=\"wrap_num\">\\n                    <span class=\"num_rank\">\\n                            <span class=\"num_news num1\"></span>\\n                            <span class=\"num_news num7\"></span>\\n                        <span class=\"screen_out\">17</span>\\n                    </span>\\n                </span>\\n                    <span class=\"info_rank\">\\n                        <span class=\"screen_out\">댓글수</span>\\n                        <span class=\"ico_news2\">701</span>\\n                    </span>\\n            </div>\\n                <a href=\"https://news.v.daum.net/v/20210710113400476\" class=\"link_thumb\">\\n                    <img src=\"https://img1.daumcdn.net/thumb/S95x77ht.u/?fname=https%3A%2F%2Ft1.daumcdn.net%2Fnews%2F202107%2F10%2Fyonhap%2F20210710115256164mwlz.jpg&scode=media\" class=\"thumb_g\" alt=\"\\'초등생 사망\\' 인천 스쿨존서 또 화물차 사고..60대 숨져\" aria-hidden=\"true\" />\\n                </a>\\n            <div class=\"cont_thumb\">\\n                <strong class=\"tit_thumb\">\\n                    <a href=\"https://news.v.daum.net/v/20210710113400476\" class=\"link_txt\">\\'초등생 사망\\' 인천 스쿨존서 또 화물차 사고..60대 숨져</a>\\n                    <span class=\"info_news\">연합뉴스</span>\\n                </strong>\\n                <div class=\"desc_thumb\">\\n                    <span class=\"link_txt\">\\n                        (인천=연합뉴스) 김상연 기자 = 인천 한 초등학교 앞 어린이보호구역(스쿨존)에서 초등학생이 화물차에 치여 숨진 지 4개월 만에 또다시 60대 남성이 덤프트럭 치여 사...\\n                    </span>\\n                </div>\\n            </div>\\n        </li>\\n        <li data-tiara-layer=\"news_list\" data-tiara-ordnum=\"18\" data-tiara-type=\"article\">\\n            <div class=\"rank_num \">\\n                <span class=\"wrap_num\">\\n                    <span class=\"num_rank\">\\n                            <span class=\"num_news num1\"></span>\\n                            <span class=\"num_news num8\"></span>\\n                        <span class=\"screen_out\">18</span>\\n                    </span>\\n                </span>\\n                    <span class=\"info_rank\">\\n                        <span class=\"screen_out\">댓글수</span>\\n                        <span class=\"ico_news2\">604</span>\\n                    </span>\\n            </div>\\n                <a href=\"https://news.v.daum.net/v/20210710121213878\" class=\"link_thumb\">\\n                    <img src=\"https://img1.daumcdn.net/thumb/S95x77ht.u/?fname=https%3A%2F%2Ft1.daumcdn.net%2Fnews%2F202107%2F10%2FNEWS1%2F20210710121214512svng.jpg&scode=media\" class=\"thumb_g\" alt=\"이재명 &quot;텃밭 농사 못 짓는데 큰밭 농사 짓나..광역단체 1위&quot;\" aria-hidden=\"true\" />\\n                </a>\\n            <div class=\"cont_thumb\">\\n                <strong class=\"tit_thumb\">\\n                    <a href=\"https://news.v.daum.net/v/20210710121213878\" class=\"link_txt\">이재명 \"텃밭 농사 못 짓는데 큰밭 농사 짓나..광역단체 1위\"</a>\\n                    <span class=\"info_news\">뉴스1</span>\\n                </strong>\\n                <div class=\"desc_thumb\">\\n                    <span class=\"link_txt\">\\n                        (수원=뉴스1) 진현권 기자,정재민 기자 = 이재명 경기도지사는 10일 \"도민께 인정받은 사람이어야 국민께도 인정받을 수 있다\"고 밝혔다. 이 지사는 이날 오전 자신의 ...\\n                    </span>\\n                </div>\\n            </div>\\n        </li>\\n        <li data-tiara-layer=\"news_list\" data-tiara-ordnum=\"19\" data-tiara-type=\"article\">\\n            <div class=\"rank_num \">\\n                <span class=\"wrap_num\">\\n                    <span class=\"num_rank\">\\n                            <span class=\"num_news num1\"></span>\\n                            <span class=\"num_news num9\"></span>\\n                        <span class=\"screen_out\">19</span>\\n                    </span>\\n                </span>\\n                    <span class=\"info_rank\">\\n                        <span class=\"screen_out\">댓글수</span>\\n                        <span class=\"ico_news2\">576</span>\\n                    </span>\\n            </div>\\n                <a href=\"https://news.v.daum.net/v/20210710133922483\" class=\"link_thumb\">\\n                    <img src=\"https://img1.daumcdn.net/thumb/S95x77ht.u/?fname=https%3A%2F%2Ft1.daumcdn.net%2Fnews%2F202107%2F10%2Fmediatoday%2F20210710133925896quvy.jpg&scode=media\" class=\"thumb_g\" alt=\"윤석열 &quot;기자 단독행위 아냐&quot; MBC &quot;무리한 주장&quot;\" aria-hidden=\"true\" />\\n                </a>\\n            <div class=\"cont_thumb\">\\n                <strong class=\"tit_thumb\">\\n                    <a href=\"https://news.v.daum.net/v/20210710133922483\" class=\"link_txt\">윤석열 \"기자 단독행위 아냐\" MBC \"무리한 주장\"</a>\\n                    <span class=\"info_news\">미디어오늘</span>\\n                </strong>\\n                <div class=\"desc_thumb\">\\n                    <span class=\"link_txt\">\\n                        취재중 경찰사칭 MBC 사과하자 윤석열, 서초서에 기자-책임자 고발 \"방통위, 채널A처럼 MBC 조사해야\" MBC 보도국장 \"윤석열 전 총장에도 사과, 정치적 의도 의심은 받...\\n                    </span>\\n                </div>\\n            </div>\\n        </li>\\n        <li data-tiara-layer=\"news_list\" data-tiara-ordnum=\"20\" data-tiara-type=\"article\">\\n            <div class=\"rank_num \">\\n                <span class=\"wrap_num\">\\n                    <span class=\"num_rank\">\\n                            <span class=\"num_news num2\"></span>\\n                            <span class=\"num_news num0\"></span>\\n                        <span class=\"screen_out\">20</span>\\n                    </span>\\n                </span>\\n                    <span class=\"info_rank\">\\n                        <span class=\"screen_out\">댓글수</span>\\n                        <span class=\"ico_news2\">567</span>\\n                    </span>\\n            </div>\\n                <a href=\"https://news.v.daum.net/v/20210710113627504\" class=\"link_thumb\">\\n                    <img src=\"https://img1.daumcdn.net/thumb/S95x77ht.u/?fname=https%3A%2F%2Ft1.daumcdn.net%2Fnews%2F202107%2F10%2FNEWS1%2F20210710113627608wfza.jpg&scode=media\" class=\"thumb_g\" alt=\"유승민 &quot;文대통령, 방역실패 사과하고 추경 재검토해야&quot;\" aria-hidden=\"true\" />\\n                </a>\\n            <div class=\"cont_thumb\">\\n                <strong class=\"tit_thumb\">\\n                    <a href=\"https://news.v.daum.net/v/20210710113627504\" class=\"link_txt\">유승민 \"文대통령, 방역실패 사과하고 추경 재검토해야\"</a>\\n                    <span class=\"info_news\">뉴스1</span>\\n                </strong>\\n                <div class=\"desc_thumb\">\\n                    <span class=\"link_txt\">\\n                        (서울=뉴스1) 최동현 기자 = 유승민 전 국민의힘 의원은 10일 코로나19 4차 대확산에 대해 문재인 대통령이 사과하고, 제2차 추가경정예산(추경)을 원점에서 재검토해야...\\n                    </span>\\n                </div>\\n            </div>\\n        </li>\\n        <li data-tiara-layer=\"news_list\" data-tiara-ordnum=\"21\" data-tiara-type=\"article\">\\n            <div class=\"rank_num \">\\n                <span class=\"wrap_num\">\\n                    <span class=\"num_rank\">\\n                            <span class=\"num_news num2\"></span>\\n                            <span class=\"num_news num1\"></span>\\n                        <span class=\"screen_out\">21</span>\\n                    </span>\\n                </span>\\n                    <span class=\"info_rank\">\\n                        <span class=\"screen_out\">댓글수</span>\\n                        <span class=\"ico_news2\">554</span>\\n                    </span>\\n            </div>\\n                <a href=\"https://news.v.daum.net/v/20210710140502742\" class=\"link_thumb\">\\n                    <img src=\"https://img1.daumcdn.net/thumb/S95x77ht.u/?fname=https%3A%2F%2Ft1.daumcdn.net%2Fnews%2F202107%2F10%2Fked%2F20210710140503547butc.jpg&scode=media\" class=\"thumb_g\" alt=\"수도권 첫 1000명 돌파..봉쇄 직전 \\'금토일\\' 대확산 \\'뇌관\\'\" aria-hidden=\"true\" />\\n                </a>\\n            <div class=\"cont_thumb\">\\n                <strong class=\"tit_thumb\">\\n                    <a href=\"https://news.v.daum.net/v/20210710140502742\" class=\"link_txt\">수도권 첫 1000명 돌파..봉쇄 직전 \\'금토일\\' 대확산 \\'뇌관\\'</a>\\n                    <span class=\"info_news\">한국경제</span>\\n                </strong>\\n                <div class=\"desc_thumb\">\\n                    <span class=\"link_txt\">\\n                        하루 새 서울, 경기, 인천 등 수도권에서만 코로나19(신종 코로나바이러스 감염증) 확진자가 사상 처음 1000명을 넘었다. 10일 0시 기준 서울시(509명), 경기도(451명),...\\n                    </span>\\n                </div>\\n            </div>\\n        </li>\\n        <li data-tiara-layer=\"news_list\" data-tiara-ordnum=\"22\" data-tiara-type=\"article\">\\n            <div class=\"rank_num \">\\n                <span class=\"wrap_num\">\\n                    <span class=\"num_rank\">\\n                            <span class=\"num_news num2\"></span>\\n                            <span class=\"num_news num2\"></span>\\n                        <span class=\"screen_out\">22</span>\\n                    </span>\\n                </span>\\n                    <span class=\"info_rank\">\\n                        <span class=\"screen_out\">댓글수</span>\\n                        <span class=\"ico_news2\">483</span>\\n                    </span>\\n            </div>\\n                <a href=\"https://news.v.daum.net/v/20210710135404607\" class=\"link_thumb\">\\n                    <img src=\"https://img1.daumcdn.net/thumb/S95x77ht.u/?fname=https%3A%2F%2Ft1.daumcdn.net%2Fnews%2F202107%2F10%2FTHEFACT%2F20210710135407958jbgm.jpg&scode=media\" class=\"thumb_g\" alt=\"코로나 검사 기다리는데..\\'옆에서 담배 피우는 시민들\\' [TF사진관]\" aria-hidden=\"true\" />\\n                </a>\\n            <div class=\"cont_thumb\">\\n                <strong class=\"tit_thumb\">\\n                    <a href=\"https://news.v.daum.net/v/20210710135404607\" class=\"link_txt\">코로나 검사 기다리는데..\\'옆에서 담배 피우는 시민들\\' [TF사진관]</a>\\n                    <span class=\"info_news\">더팩트</span>\\n                </strong>\\n                <div class=\"desc_thumb\">\\n                    <span class=\"link_txt\">\\n                        [더팩트ㅣ남윤호 기자] 코로나19 확진자가 1378명으로 집계된 10일 서울역 광장 임시선별검사소에 코로나19 검사를 기다리는 줄이 인근 흡연구역 가까이 이어진 가운데 ...\\n                    </span>\\n                </div>\\n            </div>\\n        </li>\\n        <li data-tiara-layer=\"news_list\" data-tiara-ordnum=\"23\" data-tiara-type=\"article\">\\n            <div class=\"rank_num \">\\n                <span class=\"wrap_num\">\\n                    <span class=\"num_rank\">\\n                            <span class=\"num_news num2\"></span>\\n                            <span class=\"num_news num3\"></span>\\n                        <span class=\"screen_out\">23</span>\\n                    </span>\\n                </span>\\n                    <span class=\"info_rank\">\\n                        <span class=\"screen_out\">댓글수</span>\\n                        <span class=\"ico_news2\">419</span>\\n                    </span>\\n            </div>\\n                <a href=\"https://news.v.daum.net/v/20210710131105267\" class=\"link_thumb\">\\n                    <img src=\"https://img1.daumcdn.net/thumb/S95x77ht.u/?fname=https%3A%2F%2Ft1.daumcdn.net%2Fnews%2F202107%2F10%2Fseoul%2F20210710131106957khcv.jpg&scode=media\" class=\"thumb_g\" alt=\"번식은 곧 죽음.. 14시간 짝짓기 후 죽는 동물\" aria-hidden=\"true\" />\\n                </a>\\n            <div class=\"cont_thumb\">\\n                <strong class=\"tit_thumb\">\\n                    <a href=\"https://news.v.daum.net/v/20210710131105267\" class=\"link_txt\">번식은 곧 죽음.. 14시간 짝짓기 후 죽는 동물</a>\\n                    <span class=\"info_news\">서울신문</span>\\n                </strong>\\n                <div class=\"desc_thumb\">\\n                    <span class=\"link_txt\">\\n                        번식이 곧 죽음인 동물이 있다. 죽을 때까지 사랑을 나누는 아주 작은 포유류 동물 엔테치누스(Antechinus) 이야기다. 엔테치누스는 매해 8월 한 달 중 2주 간이 번식 ...\\n                    </span>\\n                </div>\\n            </div>\\n        </li>\\n        <li data-tiara-layer=\"news_list\" data-tiara-ordnum=\"24\" data-tiara-type=\"article\">\\n            <div class=\"rank_num \">\\n                <span class=\"wrap_num\">\\n                    <span class=\"num_rank\">\\n                            <span class=\"num_news num2\"></span>\\n                            <span class=\"num_news num4\"></span>\\n                        <span class=\"screen_out\">24</span>\\n                    </span>\\n                </span>\\n                    <span class=\"info_rank\">\\n                        <span class=\"screen_out\">댓글수</span>\\n                        <span class=\"ico_news2\">417</span>\\n                    </span>\\n            </div>\\n                <a href=\"https://news.v.daum.net/v/20210710112837403\" class=\"link_thumb\">\\n                    <img src=\"https://img1.daumcdn.net/thumb/S95x77ht.u/?fname=https%3A%2F%2Ft1.daumcdn.net%2Fnews%2F202107%2F10%2Fnewsis%2F20210710112837469ivwy.jpg&scode=media\" class=\"thumb_g\" alt=\"與 전용기 &quot;이준석, 서독 \\'내독관계부\\'는 슬그머니 숨겨&quot;\" aria-hidden=\"true\" />\\n                </a>\\n            <div class=\"cont_thumb\">\\n                <strong class=\"tit_thumb\">\\n                    <a href=\"https://news.v.daum.net/v/20210710112837403\" class=\"link_txt\">與 전용기 \"이준석, 서독 \\'내독관계부\\'는 슬그머니 숨겨\"</a>\\n                    <span class=\"info_news\">뉴시스</span>\\n                </strong>\\n                <div class=\"desc_thumb\">\\n                    <span class=\"link_txt\">\\n                        [서울=뉴시스]정진형 기자 = 전용기 더불어민주당 의원은 10일 이준석 국민의힘 대표가 통일부 폐지론을 연일 주장하는 데 대해 \"서독이 내독관계\\'부\\'(내독관계성)를 설...\\n                    </span>\\n                </div>\\n            </div>\\n        </li>\\n        <li data-tiara-layer=\"news_list\" data-tiara-ordnum=\"25\" data-tiara-type=\"article\">\\n            <div class=\"rank_num \">\\n                <span class=\"wrap_num\">\\n                    <span class=\"num_rank\">\\n                            <span class=\"num_news num2\"></span>\\n                            <span class=\"num_news num5\"></span>\\n                        <span class=\"screen_out\">25</span>\\n                    </span>\\n                </span>\\n                    <span class=\"info_rank\">\\n                        <span class=\"screen_out\">댓글수</span>\\n                        <span class=\"ico_news2\">385</span>\\n                    </span>\\n            </div>\\n                <a href=\"https://news.v.daum.net/v/20210709173904367\" class=\"link_thumb\">\\n                    <img src=\"https://img1.daumcdn.net/thumb/S95x77ht.u/?fname=https%3A%2F%2Ft1.daumcdn.net%2Fnews%2F202107%2F09%2Fmk%2F20210709173906746txnq.jpg&scode=media\" class=\"thumb_g\" alt=\"[정치실록] &quot;쥴리·무상연애에 묶여있다&quot;.. &quot;집사람, 쉴 틈 없이 공부하고 일해&quot;\" aria-hidden=\"true\" />\\n                </a>\\n            <div class=\"cont_thumb\">\\n                <strong class=\"tit_thumb\">\\n                    <a href=\"https://news.v.daum.net/v/20210709173904367\" class=\"link_txt\">[정치실록] \"쥴리·무상연애에 묶여있다\".. \"집사람, 쉴 틈 없이 공부하고 일해\"</a>\\n                    <span class=\"info_news\">매일경제</span>\\n                </strong>\\n                <div class=\"desc_thumb\">\\n                    <span class=\"link_txt\">\\n                        7월 5일1. \" \\'대깨문\\'이라고 떠드는 사람들이 \\'누가 (민주당 후보가) 되면 야당이 낫다\\'라고 안일하게 생각하는 순간 문 대통령을 지킬 수 없다.\" (송영길 더불어민주당...\\n                    </span>\\n                </div>\\n            </div>\\n        </li>\\n        <li data-tiara-layer=\"news_list\" data-tiara-ordnum=\"26\" data-tiara-type=\"article\">\\n            <div class=\"rank_num \">\\n                <span class=\"wrap_num\">\\n                    <span class=\"num_rank\">\\n                            <span class=\"num_news num2\"></span>\\n                            <span class=\"num_news num6\"></span>\\n                        <span class=\"screen_out\">26</span>\\n                    </span>\\n                </span>\\n                    <span class=\"info_rank\">\\n                        <span class=\"screen_out\">댓글수</span>\\n                        <span class=\"ico_news2\">380</span>\\n                    </span>\\n            </div>\\n                <a href=\"https://news.v.daum.net/v/20210710142102901\" class=\"link_thumb\">\\n                    <img src=\"https://img1.daumcdn.net/thumb/S95x77ht.u/?fname=https%3A%2F%2Ft1.daumcdn.net%2Fnews%2F202107%2F10%2Fseoul%2F20210710142104579some.jpg&scode=media\" class=\"thumb_g\" alt=\"&quot;짠돌이와 무상연애&quot; 이재명 신체감정 신청한 김부선\" aria-hidden=\"true\" />\\n                </a>\\n            <div class=\"cont_thumb\">\\n                <strong class=\"tit_thumb\">\\n                    <a href=\"https://news.v.daum.net/v/20210710142102901\" class=\"link_txt\">\"짠돌이와 무상연애\" 이재명 신체감정 신청한 김부선</a>\\n                    <span class=\"info_news\">서울신문</span>\\n                </strong>\\n                <div class=\"desc_thumb\">\\n                    <span class=\"link_txt\">\\n                        더불어민주당 대권주자인 이재명 경기도지사에게 허언증 환자로 몰렸다며 손해배상 청구 소송을 제기한 배우 김부선이 연일 SNS에서 비판을 이어가고 있다. 김부선은 9...\\n                    </span>\\n                </div>\\n            </div>\\n        </li>\\n        <li data-tiara-layer=\"news_list\" data-tiara-ordnum=\"27\" data-tiara-type=\"article\">\\n            <div class=\"rank_num \">\\n                <span class=\"wrap_num\">\\n                    <span class=\"num_rank\">\\n                            <span class=\"num_news num2\"></span>\\n                            <span class=\"num_news num7\"></span>\\n                        <span class=\"screen_out\">27</span>\\n                    </span>\\n                </span>\\n                    <span class=\"info_rank\">\\n                        <span class=\"screen_out\">댓글수</span>\\n                        <span class=\"ico_news2\">380</span>\\n                    </span>\\n            </div>\\n                <a href=\"https://news.v.daum.net/v/20210710140101687\" class=\"link_thumb\">\\n                    <img src=\"https://img1.daumcdn.net/thumb/S95x77ht.u/?fname=https%3A%2F%2Ft1.daumcdn.net%2Fnews%2F202107%2F10%2Fjoongang%2F20210710140102354tqmt.jpg&scode=media\" class=\"thumb_g\" alt=\"4년전 &quot;이니&quot; 외친 그들..文 후계자 두고 친문 사이트 갈라섰다\" aria-hidden=\"true\" />\\n                </a>\\n            <div class=\"cont_thumb\">\\n                <strong class=\"tit_thumb\">\\n                    <a href=\"https://news.v.daum.net/v/20210710140101687\" class=\"link_txt\">4년전 \"이니\" 외친 그들..文 후계자 두고 친문 사이트 갈라섰다</a>\\n                    <span class=\"info_news\">중앙일보</span>\\n                </strong>\\n                <div class=\"desc_thumb\">\\n                    <span class=\"link_txt\">\\n                        문재인 대통령은 2017년 대선을 앞둔 그해 4~5월 온라인 커뮤니티 11곳에 인증 동영상을 올렸다. “(○○ 회원 여러분께) 안녕하세요 문재인입니다”라는 제목으로, 각 ...\\n                    </span>\\n                </div>\\n            </div>\\n        </li>\\n        <li data-tiara-layer=\"news_list\" data-tiara-ordnum=\"28\" data-tiara-type=\"article\">\\n            <div class=\"rank_num \">\\n                <span class=\"wrap_num\">\\n                    <span class=\"num_rank\">\\n                            <span class=\"num_news num2\"></span>\\n                            <span class=\"num_news num8\"></span>\\n                        <span class=\"screen_out\">28</span>\\n                    </span>\\n                </span>\\n                    <span class=\"info_rank\">\\n                        <span class=\"screen_out\">댓글수</span>\\n                        <span class=\"ico_news2\">378</span>\\n                    </span>\\n            </div>\\n                <a href=\"https://news.v.daum.net/v/20210710103700825\" class=\"link_thumb\">\\n                    <img src=\"https://img1.daumcdn.net/thumb/S95x77ht.u/?fname=https%3A%2F%2Ft1.daumcdn.net%2Fnews%2F202107%2F10%2Fchosun%2F20210710135526884rzic.jpg&scode=media\" class=\"thumb_g\" alt=\"채널A 기자는 \\'검언유착\\' 구속.. 경찰 사칭 MBC는?\" aria-hidden=\"true\" />\\n                </a>\\n            <div class=\"cont_thumb\">\\n                <strong class=\"tit_thumb\">\\n                    <a href=\"https://news.v.daum.net/v/20210710103700825\" class=\"link_txt\">채널A 기자는 \\'검언유착\\' 구속.. 경찰 사칭 MBC는?</a>\\n                    <span class=\"info_news\">조선일보</span>\\n                </strong>\\n                <div class=\"desc_thumb\">\\n                    <span class=\"link_txt\">\\n                        MBC 앵커 출신 모 기자와 영상취재 PD가 윤석열 전 검찰총장 아내 김건희씨의 논문 검증 취재를 한다며 경찰 신분을 사칭한 것으로 드러나 논란이 되고 있다. MBC는 지...\\n                    </span>\\n                </div>\\n            </div>\\n        </li>\\n        <li data-tiara-layer=\"news_list\" data-tiara-ordnum=\"29\" data-tiara-type=\"article\">\\n            <div class=\"rank_num \">\\n                <span class=\"wrap_num\">\\n                    <span class=\"num_rank\">\\n                            <span class=\"num_news num2\"></span>\\n                            <span class=\"num_news num9\"></span>\\n                        <span class=\"screen_out\">29</span>\\n                    </span>\\n                </span>\\n                    <span class=\"info_rank\">\\n                        <span class=\"screen_out\">댓글수</span>\\n                        <span class=\"ico_news2\">372</span>\\n                    </span>\\n            </div>\\n                <a href=\"https://news.v.daum.net/v/20210710103027738\" class=\"link_thumb\">\\n                    <img src=\"https://img1.daumcdn.net/thumb/S95x77ht.u/?fname=https%3A%2F%2Ft1.daumcdn.net%2Fnews%2F202107%2F10%2FNEWS1%2F20210710103027665busu.jpg&scode=media\" class=\"thumb_g\" alt=\"이준석 &quot;통일부, 文 정부서 뭘 했나&quot;..이인영 장관 직격\" aria-hidden=\"true\" />\\n                </a>\\n            <div class=\"cont_thumb\">\\n                <strong class=\"tit_thumb\">\\n                    <a href=\"https://news.v.daum.net/v/20210710103027738\" class=\"link_txt\">이준석 \"통일부, 文 정부서 뭘 했나\"..이인영 장관 직격</a>\\n                    <span class=\"info_news\">뉴스1</span>\\n                </strong>\\n                <div class=\"desc_thumb\">\\n                    <span class=\"link_txt\">\\n                        (서울=뉴스1) 최동현 기자 = 이준석 국민의힘 대표는 10일 이인영 통일부 장관을 향해 \"통일부가 \\'필요한 부처\\'라고 생각하신다면 필요한 부처에서 장관이 제대로 일을 ...\\n                    </span>\\n                </div>\\n            </div>\\n        </li>\\n        <li data-tiara-layer=\"news_list\" data-tiara-ordnum=\"30\" data-tiara-type=\"article\">\\n            <div class=\"rank_num \">\\n                <span class=\"wrap_num\">\\n                    <span class=\"num_rank\">\\n                            <span class=\"num_news num3\"></span>\\n                            <span class=\"num_news num0\"></span>\\n                        <span class=\"screen_out\">30</span>\\n                    </span>\\n                </span>\\n                    <span class=\"info_rank\">\\n                        <span class=\"screen_out\">댓글수</span>\\n                        <span class=\"ico_news2\">356</span>\\n                    </span>\\n            </div>\\n                <a href=\"https://news.v.daum.net/v/20210710110006094\" class=\"link_thumb\">\\n                    <img src=\"https://img1.daumcdn.net/thumb/S95x77ht.u/?fname=https%3A%2F%2Ft1.daumcdn.net%2Fnews%2F202107%2F10%2FBUSINESSWATCH%2F20210710110008752rnou.jpg&scode=media\" class=\"thumb_g\" alt=\"\\'용진이형\\'은 다 계획이 있었다\" aria-hidden=\"true\" />\\n                </a>\\n            <div class=\"cont_thumb\">\\n                <strong class=\"tit_thumb\">\\n                    <a href=\"https://news.v.daum.net/v/20210710110006094\" class=\"link_txt\">\\'용진이형\\'은 다 계획이 있었다</a>\\n                    <span class=\"info_news\">비즈니스워치</span>\\n                </strong>\\n                <div class=\"desc_thumb\">\\n                    <span class=\"link_txt\">\\n                        \\'용진이형\\'이 그린\\xa0큰 그림 \\'○○이형\\'. 아무한테나 이렇게 부르지 않습니다. 친하지도 않은데 형한테 함부로 이렇게 불렀다가는 혼쭐이 납니다. \\'○○이형\\'이라고 부...\\n                    </span>\\n                </div>\\n            </div>\\n        </li>\\n        <li data-tiara-layer=\"news_list\" data-tiara-ordnum=\"31\" data-tiara-type=\"article\">\\n            <div class=\"rank_num \">\\n                <span class=\"wrap_num\">\\n                    <span class=\"num_rank\">\\n                            <span class=\"num_news num3\"></span>\\n                            <span class=\"num_news num1\"></span>\\n                        <span class=\"screen_out\">31</span>\\n                    </span>\\n                </span>\\n                    <span class=\"info_rank\">\\n                        <span class=\"screen_out\">댓글수</span>\\n                        <span class=\"ico_news2\">279</span>\\n                    </span>\\n            </div>\\n                <a href=\"https://news.v.daum.net/v/20210710120138771\" class=\"link_thumb\">\\n                    <img src=\"https://img1.daumcdn.net/thumb/S95x77ht.u/?fname=https%3A%2F%2Ft1.daumcdn.net%2Fnews%2F202107%2F10%2Fsegye%2F20210710120138871cyfp.jpg&scode=media\" class=\"thumb_g\" alt=\"&quot;예비 부부가 뭘 잘못했나&quot;.. 결혼식 참석 인원 제한에 靑국민청원\" aria-hidden=\"true\" />\\n                </a>\\n            <div class=\"cont_thumb\">\\n                <strong class=\"tit_thumb\">\\n                    <a href=\"https://news.v.daum.net/v/20210710120138771\" class=\"link_txt\">\"예비 부부가 뭘 잘못했나\".. 결혼식 참석 인원 제한에 靑국민청원</a>\\n                    <span class=\"info_news\">세계일보</span>\\n                </strong>\\n                <div class=\"desc_thumb\">\\n                    <span class=\"link_txt\">\\n                        사진=뉴스1  사회적 거리두기가 4단계로 격상돼 결혼식 참석이 친족 49인만 허용된 가운데 결혼식장에 인원제한 해제를 요구하는 청와대 국민청원 글이 올라왔다. 10일 ...\\n                    </span>\\n                </div>\\n            </div>\\n        </li>\\n        <li data-tiara-layer=\"news_list\" data-tiara-ordnum=\"32\" data-tiara-type=\"article\">\\n            <div class=\"rank_num \">\\n                <span class=\"wrap_num\">\\n                    <span class=\"num_rank\">\\n                            <span class=\"num_news num3\"></span>\\n                            <span class=\"num_news num2\"></span>\\n                        <span class=\"screen_out\">32</span>\\n                    </span>\\n                </span>\\n                    <span class=\"info_rank\">\\n                        <span class=\"screen_out\">댓글수</span>\\n                        <span class=\"ico_news2\">258</span>\\n                    </span>\\n            </div>\\n                <a href=\"https://news.v.daum.net/v/20210710110308153\" class=\"link_thumb\">\\n                    <img src=\"https://img1.daumcdn.net/thumb/S95x77ht.u/?fname=https%3A%2F%2Ft1.daumcdn.net%2Fnews%2F202107%2F10%2Fmk%2F20210710110310373xjae.jpg&scode=media\" class=\"thumb_g\" alt=\"\\'매출 200조 벽\\' 8년째 갇혔다..삼성전자 최고 실적에도 못 웃는다\" aria-hidden=\"true\" />\\n                </a>\\n            <div class=\"cont_thumb\">\\n                <strong class=\"tit_thumb\">\\n                    <a href=\"https://news.v.daum.net/v/20210710110308153\" class=\"link_txt\">\\'매출 200조 벽\\' 8년째 갇혔다..삼성전자 최고 실적에도 못 웃는다</a>\\n                    <span class=\"info_news\">매일경제</span>\\n                </strong>\\n                <div class=\"desc_thumb\">\\n                    <span class=\"link_txt\">\\n                        [MK위클리반도체] 삼성전자가 지난 7일 발표한 2분기 잠정 실적은 매출액 63조원, 영업이익 12조5000억원이다. 매출액과 영업이익은 1년 전 같은 기간보다 각각 18.94%,...\\n                    </span>\\n                </div>\\n            </div>\\n        </li>\\n        <li data-tiara-layer=\"news_list\" data-tiara-ordnum=\"33\" data-tiara-type=\"article\">\\n            <div class=\"rank_num \">\\n                <span class=\"wrap_num\">\\n                    <span class=\"num_rank\">\\n                            <span class=\"num_news num3\"></span>\\n                            <span class=\"num_news num3\"></span>\\n                        <span class=\"screen_out\">33</span>\\n                    </span>\\n                </span>\\n                    <span class=\"info_rank\">\\n                        <span class=\"screen_out\">댓글수</span>\\n                        <span class=\"ico_news2\">252</span>\\n                    </span>\\n            </div>\\n                <a href=\"https://news.v.daum.net/v/20210710144013046\" class=\"link_thumb\">\\n                    <img src=\"https://img1.daumcdn.net/thumb/S95x77ht.u/?fname=https%3A%2F%2Ft1.daumcdn.net%2Fnews%2F202107%2F10%2Fyonhap%2F20210710144014073gbic.jpg&scode=media\" class=\"thumb_g\" alt=\"사흘간 백신 이상반응 2천790건↑..사망 15명↑, 인과성 미확인(종합)\" aria-hidden=\"true\" />\\n                </a>\\n            <div class=\"cont_thumb\">\\n                <strong class=\"tit_thumb\">\\n                    <a href=\"https://news.v.daum.net/v/20210710144013046\" class=\"link_txt\">사흘간 백신 이상반응 2천790건↑..사망 15명↑, 인과성 미확인(종합)</a>\\n                    <span class=\"info_news\">연합뉴스</span>\\n                </strong>\\n                <div class=\"desc_thumb\">\\n                    <span class=\"link_txt\">\\n                        (서울=연합뉴스) 정윤주 기자 = 국내 신종 코로나바이러스 감염증(코로나19) 백신 접종에 속도가 점차 붙으면서 접종 후 이상반응을 신고하는 사례도 꾸준히 나오고 있...\\n                    </span>\\n                </div>\\n            </div>\\n        </li>\\n        <li data-tiara-layer=\"news_list\" data-tiara-ordnum=\"34\" data-tiara-type=\"article\">\\n            <div class=\"rank_num \">\\n                <span class=\"wrap_num\">\\n                    <span class=\"num_rank\">\\n                            <span class=\"num_news num3\"></span>\\n                            <span class=\"num_news num4\"></span>\\n                        <span class=\"screen_out\">34</span>\\n                    </span>\\n                </span>\\n                    <span class=\"info_rank\">\\n                        <span class=\"screen_out\">댓글수</span>\\n                        <span class=\"ico_news2\">239</span>\\n                    </span>\\n            </div>\\n                <a href=\"https://news.v.daum.net/v/20210710113220453\" class=\"link_thumb\">\\n                    <img src=\"https://img1.daumcdn.net/thumb/S95x77ht.u/?fname=https%3A%2F%2Ft1.daumcdn.net%2Fnews%2F202107%2F10%2Fyonhap%2F20210710113220212bksr.jpg&scode=media\" class=\"thumb_g\" alt=\"현대백화점 무역센터점 집단감염 103명으로 늘어\" aria-hidden=\"true\" />\\n                </a>\\n            <div class=\"cont_thumb\">\\n                <strong class=\"tit_thumb\">\\n                    <a href=\"https://news.v.daum.net/v/20210710113220453\" class=\"link_txt\">현대백화점 무역센터점 집단감염 103명으로 늘어</a>\\n                    <span class=\"info_news\">연합뉴스</span>\\n                </strong>\\n                <div class=\"desc_thumb\">\\n                    <span class=\"link_txt\">\\n                        (서울=연합뉴스) 임미나 기자 = 현대백화점 무역센터점에서 발생한 신종 코로나바이러스 감염증(코로나19) 집단감염이 전국 누적 103명으로 늘었다고 서울시가 10일 밝...\\n                    </span>\\n                </div>\\n            </div>\\n        </li>\\n        <li data-tiara-layer=\"news_list\" data-tiara-ordnum=\"35\" data-tiara-type=\"article\">\\n            <div class=\"rank_num \">\\n                <span class=\"wrap_num\">\\n                    <span class=\"num_rank\">\\n                            <span class=\"num_news num3\"></span>\\n                            <span class=\"num_news num5\"></span>\\n                        <span class=\"screen_out\">35</span>\\n                    </span>\\n                </span>\\n                    <span class=\"info_rank\">\\n                        <span class=\"screen_out\">댓글수</span>\\n                        <span class=\"ico_news2\">209</span>\\n                    </span>\\n            </div>\\n                <a href=\"https://news.v.daum.net/v/20210710134001487\" class=\"link_thumb\">\\n                    <img src=\"https://img1.daumcdn.net/thumb/S95x77ht.u/?fname=https%3A%2F%2Ft1.daumcdn.net%2Fnews%2F202107%2F10%2Fked%2F20210710134006601gdzo.jpg&scode=media\" class=\"thumb_g\" alt=\"신규확진 \\'사상 최고\\' 초비상인데..공항은 여행객들 \\'북적북적\\'\" aria-hidden=\"true\" />\\n                </a>\\n            <div class=\"cont_thumb\">\\n                <strong class=\"tit_thumb\">\\n                    <a href=\"https://news.v.daum.net/v/20210710134001487\" class=\"link_txt\">신규확진 \\'사상 최고\\' 초비상인데..공항은 여행객들 \\'북적북적\\'</a>\\n                    <span class=\"info_news\">한국경제</span>\\n                </strong>\\n                <div class=\"desc_thumb\">\\n                    <span class=\"link_txt\">\\n                        코로나19(신종 코로나바이러스 감염증) 사태가 4차 대유행으로 심화한 가운데 국내 공항에서 여행객 수가 최근 증가 추세를 보여 보건당국에 비상이 걸렸다. 국내 이동...\\n                    </span>\\n                </div>\\n            </div>\\n        </li>\\n        <li data-tiara-layer=\"news_list\" data-tiara-ordnum=\"36\" data-tiara-type=\"article\">\\n            <div class=\"rank_num \">\\n                <span class=\"wrap_num\">\\n                    <span class=\"num_rank\">\\n                            <span class=\"num_news num3\"></span>\\n                            <span class=\"num_news num6\"></span>\\n                        <span class=\"screen_out\">36</span>\\n                    </span>\\n                </span>\\n                    <span class=\"info_rank\">\\n                        <span class=\"screen_out\">댓글수</span>\\n                        <span class=\"ico_news2\">192</span>\\n                    </span>\\n            </div>\\n                <a href=\"https://news.v.daum.net/v/20210710115206663\" class=\"link_thumb\">\\n                    <img src=\"https://img1.daumcdn.net/thumb/S95x77ht.u/?fname=https%3A%2F%2Ft1.daumcdn.net%2Fnews%2F202107%2F10%2Fnewsis%2F20210710115206440ycbn.jpg&scode=media\" class=\"thumb_g\" alt=\"&quot;코로나 밤에 더 위험하나, 점심땐?&quot;..야간통금 개념에 \\'갸우뚱\\'\" aria-hidden=\"true\" />\\n                </a>\\n            <div class=\"cont_thumb\">\\n                <strong class=\"tit_thumb\">\\n                    <a href=\"https://news.v.daum.net/v/20210710115206663\" class=\"link_txt\">\"코로나 밤에 더 위험하나, 점심땐?\"..야간통금 개념에 \\'갸우뚱\\'</a>\\n                    <span class=\"info_news\">뉴시스</span>\\n                </strong>\\n                <div class=\"desc_thumb\">\\n                    <span class=\"link_txt\">\\n                        [서울=뉴시스] 김진아 기자 = 정부가 수도권에 대해 오후 6시 이후 3인 이상 모임 금지라는 초강수로 코로나19 확산세 저지에 나섰지만, 인원 제한을 나누는 시간 기준...\\n                    </span>\\n                </div>\\n            </div>\\n        </li>\\n        <li data-tiara-layer=\"news_list\" data-tiara-ordnum=\"37\" data-tiara-type=\"article\">\\n            <div class=\"rank_num \">\\n                <span class=\"wrap_num\">\\n                    <span class=\"num_rank\">\\n                            <span class=\"num_news num3\"></span>\\n                            <span class=\"num_news num7\"></span>\\n                        <span class=\"screen_out\">37</span>\\n                    </span>\\n                </span>\\n                    <span class=\"info_rank\">\\n                        <span class=\"screen_out\">댓글수</span>\\n                        <span class=\"ico_news2\">180</span>\\n                    </span>\\n            </div>\\n                <a href=\"https://news.v.daum.net/v/20210710131301279\" class=\"link_thumb\">\\n                    <img src=\"https://img1.daumcdn.net/thumb/S95x77ht.u/?fname=https%3A%2F%2Ft1.daumcdn.net%2Fnews%2F202107%2F10%2Fakn%2F20210710131302257xbnb.jpg&scode=media\" class=\"thumb_g\" alt=\"&quot;민주노총은 무섭고, 자영업자는 우습나&quot; 野, 정부 방역 맹비판\" aria-hidden=\"true\" />\\n                </a>\\n            <div class=\"cont_thumb\">\\n                <strong class=\"tit_thumb\">\\n                    <a href=\"https://news.v.daum.net/v/20210710131301279\" class=\"link_txt\">\"민주노총은 무섭고, 자영업자는 우습나\" 野, 정부 방역 맹비판</a>\\n                    <span class=\"info_news\">아시아경제</span>\\n                </strong>\\n                <div class=\"desc_thumb\">\\n                    <span class=\"link_txt\">\\n                        [아시아경제 황수미 기자] 최근 코로나19 대규모 감염과 관련해 야당이 지난 주말 열린 민주노총의 대규모 집회와 이를 막지 못한 정부의 대응을 두고 비판을 퍼붓고 있...\\n                    </span>\\n                </div>\\n            </div>\\n        </li>\\n        <li data-tiara-layer=\"news_list\" data-tiara-ordnum=\"38\" data-tiara-type=\"article\">\\n            <div class=\"rank_num \">\\n                <span class=\"wrap_num\">\\n                    <span class=\"num_rank\">\\n                            <span class=\"num_news num3\"></span>\\n                            <span class=\"num_news num8\"></span>\\n                        <span class=\"screen_out\">38</span>\\n                    </span>\\n                </span>\\n                    <span class=\"info_rank\">\\n                        <span class=\"screen_out\">댓글수</span>\\n                        <span class=\"ico_news2\">164</span>\\n                    </span>\\n            </div>\\n                <a href=\"https://news.v.daum.net/v/20210710120912856\" class=\"link_thumb\">\\n                    <img src=\"https://img1.daumcdn.net/thumb/S95x77ht.u/?fname=https%3A%2F%2Ft1.daumcdn.net%2Fnews%2F202107%2F10%2Fnewsis%2F20210710120912260nbyi.jpg&scode=media\" class=\"thumb_g\" alt=\"\\'수도권 4단계\\' 앞둔 토요일..고속도로 양방향 혼잡\" aria-hidden=\"true\" />\\n                </a>\\n            <div class=\"cont_thumb\">\\n                <strong class=\"tit_thumb\">\\n                    <a href=\"https://news.v.daum.net/v/20210710120912856\" class=\"link_txt\">\\'수도권 4단계\\' 앞둔 토요일..고속도로 양방향 혼잡</a>\\n                    <span class=\"info_news\">뉴시스</span>\\n                </strong>\\n                <div class=\"desc_thumb\">\\n                    <span class=\"link_txt\">\\n                        [서울=뉴시스]정유선 기자 = 토요일인 10일은 주말 전국에 예보된 비소식으로 교통량이 감소하지만 고속도로 양방향 모두 다소 혼잡할 전망이다. 한국도로공사에 따르면...\\n                    </span>\\n                </div>\\n            </div>\\n        </li>\\n        <li data-tiara-layer=\"news_list\" data-tiara-ordnum=\"39\" data-tiara-type=\"article\">\\n            <div class=\"rank_num \">\\n                <span class=\"wrap_num\">\\n                    <span class=\"num_rank\">\\n                            <span class=\"num_news num3\"></span>\\n                            <span class=\"num_news num9\"></span>\\n                        <span class=\"screen_out\">39</span>\\n                    </span>\\n                </span>\\n                    <span class=\"info_rank\">\\n                        <span class=\"screen_out\">댓글수</span>\\n                        <span class=\"ico_news2\">154</span>\\n                    </span>\\n            </div>\\n                <a href=\"https://news.v.daum.net/v/20210710143702026\" class=\"link_thumb\">\\n                    <img src=\"https://img1.daumcdn.net/thumb/S95x77ht.u/?fname=https%3A%2F%2Ft1.daumcdn.net%2Fnews%2F202107%2F10%2Fdailian%2F20210710145246514uwsb.png&scode=media\" class=\"thumb_g\" alt=\"참다못한 예비부부, 靑 청원 올려..&quot;왜 결혼식만 쥐어짜나&quot;\" aria-hidden=\"true\" />\\n                </a>\\n            <div class=\"cont_thumb\">\\n                <strong class=\"tit_thumb\">\\n                    <a href=\"https://news.v.daum.net/v/20210710143702026\" class=\"link_txt\">참다못한 예비부부, 靑 청원 올려..\"왜 결혼식만 쥐어짜나\"</a>\\n                    <span class=\"info_news\">데일리안</span>\\n                </strong>\\n                <div class=\"desc_thumb\">\\n                    <span class=\"link_txt\">\\n                        수도권 사회적 거리두기가 4단계로 격상되면서 결혼식을 앞둔 예비부부들의 불만이 끊이지 않고 있다. 최근 청와대 국민청원 게시판에도 인원 제한 완화를 요구하는 글...\\n                    </span>\\n                </div>\\n            </div>\\n        </li>\\n        <li data-tiara-layer=\"news_list\" data-tiara-ordnum=\"40\" data-tiara-type=\"article\">\\n            <div class=\"rank_num \">\\n                <span class=\"wrap_num\">\\n                    <span class=\"num_rank\">\\n                            <span class=\"num_news num4\"></span>\\n                            <span class=\"num_news num0\"></span>\\n                        <span class=\"screen_out\">40</span>\\n                    </span>\\n                </span>\\n                    <span class=\"info_rank\">\\n                        <span class=\"screen_out\">댓글수</span>\\n                        <span class=\"ico_news2\">124</span>\\n                    </span>\\n            </div>\\n                <a href=\"https://news.v.daum.net/v/20210710143754033\" class=\"link_thumb\">\\n                    <img src=\"https://img1.daumcdn.net/thumb/S95x77ht.u/?fname=https%3A%2F%2Ft1.daumcdn.net%2Fnews%2F202107%2F10%2Fnewsis%2F20210710143754477ojln.jpg&scode=media\" class=\"thumb_g\" alt=\"이재명 &quot;민주당 선거인단 50만명 돌파..원팀으로 보답&quot;\" aria-hidden=\"true\" />\\n                </a>\\n            <div class=\"cont_thumb\">\\n                <strong class=\"tit_thumb\">\\n                    <a href=\"https://news.v.daum.net/v/20210710143754033\" class=\"link_txt\">이재명 \"민주당 선거인단 50만명 돌파..원팀으로 보답\"</a>\\n                    <span class=\"info_news\">뉴시스</span>\\n                </strong>\\n                <div class=\"desc_thumb\">\\n                    <span class=\"link_txt\">\\n                        [서울=뉴시스]정진형 기자 = 더불어민주당 유력 대선주자인 이재명 경기지사는 10일 민주당 대선경선 선거인단이 모집 5일 만에 50만 명을 넘어선 데 대해 \"뜨거운 성원...\\n                    </span>\\n                </div>\\n            </div>\\n        </li>\\n        <li data-tiara-layer=\"news_list\" data-tiara-ordnum=\"41\" data-tiara-type=\"article\">\\n            <div class=\"rank_num \">\\n                <span class=\"wrap_num\">\\n                    <span class=\"num_rank\">\\n                            <span class=\"num_news num4\"></span>\\n                            <span class=\"num_news num1\"></span>\\n                        <span class=\"screen_out\">41</span>\\n                    </span>\\n                </span>\\n                    <span class=\"info_rank\">\\n                        <span class=\"screen_out\">댓글수</span>\\n                        <span class=\"ico_news2\">121</span>\\n                    </span>\\n            </div>\\n                <a href=\"https://news.v.daum.net/v/20210710101739614\" class=\"link_thumb\">\\n                    <img src=\"https://img1.daumcdn.net/thumb/S95x77ht.u/?fname=https%3A%2F%2Ft1.daumcdn.net%2Fnews%2F202107%2F10%2Fyonhap%2F20210710101739626wgmn.jpg&scode=media\" class=\"thumb_g\" alt=\"사흘간 백신 이상반응 2천790건↑..사망 15명↑, 인과성 미확인\" aria-hidden=\"true\" />\\n                </a>\\n            <div class=\"cont_thumb\">\\n                <strong class=\"tit_thumb\">\\n                    <a href=\"https://news.v.daum.net/v/20210710101739614\" class=\"link_txt\">사흘간 백신 이상반응 2천790건↑..사망 15명↑, 인과성 미확인</a>\\n                    <span class=\"info_news\">연합뉴스</span>\\n                </strong>\\n                <div class=\"desc_thumb\">\\n                    <span class=\"link_txt\">\\n                        (서울=연합뉴스) 정윤주 기자 = 국내 신종 코로나바이러스 감염증(코로나19) 백신 접종에 속도가 점차 붙으면서 접종 후 이상반응을 신고하는 사례도 꾸준히 나오고 있...\\n                    </span>\\n                </div>\\n            </div>\\n        </li>\\n        <li data-tiara-layer=\"news_list\" data-tiara-ordnum=\"42\" data-tiara-type=\"article\">\\n            <div class=\"rank_num \">\\n                <span class=\"wrap_num\">\\n                    <span class=\"num_rank\">\\n                            <span class=\"num_news num4\"></span>\\n                            <span class=\"num_news num2\"></span>\\n                        <span class=\"screen_out\">42</span>\\n                    </span>\\n                </span>\\n                    <span class=\"info_rank\">\\n                        <span class=\"screen_out\">댓글수</span>\\n                        <span class=\"ico_news2\">114</span>\\n                    </span>\\n            </div>\\n                <a href=\"https://news.v.daum.net/v/20210710123033037\" class=\"link_thumb\">\\n                    <img src=\"https://img1.daumcdn.net/thumb/S95x77ht.u/?fname=https%3A%2F%2Ft1.daumcdn.net%2Fnews%2F202107%2F10%2FNEWS1%2F20210710123033742vmbq.jpg&scode=media\" class=\"thumb_g\" alt=\"수도권 첫 1000명 돌파 ..4단계 봉쇄 전 마지막 \\'불금\\' 즐겼다\" aria-hidden=\"true\" />\\n                </a>\\n            <div class=\"cont_thumb\">\\n                <strong class=\"tit_thumb\">\\n                    <a href=\"https://news.v.daum.net/v/20210710123033037\" class=\"link_txt\">수도권 첫 1000명 돌파 ..4단계 봉쇄 전 마지막 \\'불금\\' 즐겼다</a>\\n                    <span class=\"info_news\">뉴스1</span>\\n                </strong>\\n                <div class=\"desc_thumb\">\\n                    <span class=\"link_txt\">\\n                        (서울·경기=뉴스1) 이상휼 기자,최일 기자,장지훈 기자 = 하루 새 수도권 코로나19 확진자가 사상 처음 1000명을 넘었다. 10일 0시 기준 서울시(509명), 경기도(451명)...\\n                    </span>\\n                </div>\\n            </div>\\n        </li>\\n        <li data-tiara-layer=\"news_list\" data-tiara-ordnum=\"43\" data-tiara-type=\"article\">\\n            <div class=\"rank_num \">\\n                <span class=\"wrap_num\">\\n                    <span class=\"num_rank\">\\n                            <span class=\"num_news num4\"></span>\\n                            <span class=\"num_news num3\"></span>\\n                        <span class=\"screen_out\">43</span>\\n                    </span>\\n                </span>\\n                    <span class=\"info_rank\">\\n                        <span class=\"screen_out\">댓글수</span>\\n                        <span class=\"ico_news2\">109</span>\\n                    </span>\\n            </div>\\n                <a href=\"https://news.v.daum.net/v/20210710142602945\" class=\"link_thumb\">\\n                    <img src=\"https://img1.daumcdn.net/thumb/S95x77ht.u/?fname=https%3A%2F%2Ft1.daumcdn.net%2Fnews%2F202107%2F10%2Fsisapress%2F20210710142603640ywsb.jpg&scode=media\" class=\"thumb_g\" alt=\"윤석열 측, 경찰 사칭한 MBC 기자 고발..&quot;강도 높은 수사 촉구&quot;\" aria-hidden=\"true\" />\\n                </a>\\n            <div class=\"cont_thumb\">\\n                <strong class=\"tit_thumb\">\\n                    <a href=\"https://news.v.daum.net/v/20210710142602945\" class=\"link_txt\">윤석열 측, 경찰 사칭한 MBC 기자 고발..\"강도 높은 수사 촉구\"</a>\\n                    <span class=\"info_news\">시사저널</span>\\n                </strong>\\n                <div class=\"desc_thumb\">\\n                    <span class=\"link_txt\">\\n                        (시사저널=유경민 디지털팀 기자) 야권 유력 대선주자인 윤석열 전 검찰총장 측이 10일 부인 김건희씨의 박사학위 논문 표절 의혹을 취재하던 중 경찰을 사칭한 MBC 취...\\n                    </span>\\n                </div>\\n            </div>\\n        </li>\\n        <li data-tiara-layer=\"news_list\" data-tiara-ordnum=\"44\" data-tiara-type=\"article\">\\n            <div class=\"rank_num \">\\n                <span class=\"wrap_num\">\\n                    <span class=\"num_rank\">\\n                            <span class=\"num_news num4\"></span>\\n                            <span class=\"num_news num4\"></span>\\n                        <span class=\"screen_out\">44</span>\\n                    </span>\\n                </span>\\n                    <span class=\"info_rank\">\\n                        <span class=\"screen_out\">댓글수</span>\\n                        <span class=\"ico_news2\">103</span>\\n                    </span>\\n            </div>\\n                <a href=\"https://news.v.daum.net/v/20210710131643304\" class=\"link_thumb\">\\n                    <img src=\"https://img1.daumcdn.net/thumb/S95x77ht.u/?fname=https%3A%2F%2Ft1.daumcdn.net%2Fnews%2F202107%2F10%2Fjoongang%2F20210710134659725mzrl.jpg&scode=media\" class=\"thumb_g\" alt=\"탑차 처참히 구겨졌다..청담대교 교각 받은 40대 사망 [영상]\" aria-hidden=\"true\" />\\n                </a>\\n            <div class=\"cont_thumb\">\\n                <strong class=\"tit_thumb\">\\n                    <a href=\"https://news.v.daum.net/v/20210710131643304\" class=\"link_txt\">탑차 처참히 구겨졌다..청담대교 교각 받은 40대 사망 [영상]</a>\\n                    <span class=\"info_news\">중앙일보</span>\\n                </strong>\\n                <div class=\"desc_thumb\">\\n                    <span class=\"link_txt\">\\n                        주말인 10일 오전 서울 강변북로 청담대교 아래에서 탑차 한 대가 교각에 끼이는 사고가 발생했다. 이 사고로 40대 운전자 1명이 사망했다. 소방당국에 따르면 이날 오...\\n                    </span>\\n                </div>\\n            </div>\\n        </li>\\n        <li data-tiara-layer=\"news_list\" data-tiara-ordnum=\"45\" data-tiara-type=\"article\">\\n            <div class=\"rank_num \">\\n                <span class=\"wrap_num\">\\n                    <span class=\"num_rank\">\\n                            <span class=\"num_news num4\"></span>\\n                            <span class=\"num_news num5\"></span>\\n                        <span class=\"screen_out\">45</span>\\n                    </span>\\n                </span>\\n                    <span class=\"info_rank\">\\n                        <span class=\"screen_out\">댓글수</span>\\n                        <span class=\"ico_news2\">101</span>\\n                    </span>\\n            </div>\\n                <a href=\"https://news.v.daum.net/v/20210710134306520\" class=\"link_thumb\">\\n                    <img src=\"https://img1.daumcdn.net/thumb/S95x77ht.u/?fname=https%3A%2F%2Ft1.daumcdn.net%2Fnews%2F202107%2F10%2Fmoneytoday%2F20210710134307182offz.jpg&scode=media\" class=\"thumb_g\" alt=\"\\'델타 잡는 mRNA백신\\' 이르면 8월 임상..한달만에 개발 가능?\" aria-hidden=\"true\" />\\n                </a>\\n            <div class=\"cont_thumb\">\\n                <strong class=\"tit_thumb\">\\n                    <a href=\"https://news.v.daum.net/v/20210710134306520\" class=\"link_txt\">\\'델타 잡는 mRNA백신\\' 이르면 8월 임상..한달만에 개발 가능?</a>\\n                    <span class=\"info_news\">머니투데이</span>\\n                </strong>\\n                <div class=\"desc_thumb\">\\n                    <span class=\"link_txt\">\\n                        mRNA(메신저RNA) 백신의 코로나19(COVID-19) 변이 바이러스 정복 \\'속도전\\'이 실현될지 주목된다. 대표적 mRNA 계열 백신 개발사인 미국 화이자와 독일 바이오엔테크가 ...\\n                    </span>\\n                </div>\\n            </div>\\n        </li>\\n        <li data-tiara-layer=\"news_list\" data-tiara-ordnum=\"46\" data-tiara-type=\"article\">\\n            <div class=\"rank_num \">\\n                <span class=\"wrap_num\">\\n                    <span class=\"num_rank\">\\n                            <span class=\"num_news num4\"></span>\\n                            <span class=\"num_news num6\"></span>\\n                        <span class=\"screen_out\">46</span>\\n                    </span>\\n                </span>\\n                    <span class=\"info_rank\">\\n                        <span class=\"screen_out\">댓글수</span>\\n                        <span class=\"ico_news2\">98</span>\\n                    </span>\\n            </div>\\n                <a href=\"https://news.v.daum.net/v/20210710130004187\" class=\"link_thumb\">\\n                    <img src=\"https://img1.daumcdn.net/thumb/S95x77ht.u/?fname=https%3A%2F%2Ft1.daumcdn.net%2Fnews%2F202107%2F10%2Fnewsis%2F20210710130004867jaff.jpg&scode=media\" class=\"thumb_g\" alt=\"[법대로]난간 없는 벽에 앉아있다 추락사..&quot;2억 배상&quot;\" aria-hidden=\"true\" />\\n                </a>\\n            <div class=\"cont_thumb\">\\n                <strong class=\"tit_thumb\">\\n                    <a href=\"https://news.v.daum.net/v/20210710130004187\" class=\"link_txt\">[법대로]난간 없는 벽에 앉아있다 추락사..\"2억 배상\"</a>\\n                    <span class=\"info_news\">뉴시스</span>\\n                </strong>\\n                <div class=\"desc_thumb\">\\n                    <span class=\"link_txt\">\\n                        [서울=뉴시스] 옥성구 기자 = 술에 취해 울타리가 설치되지 않은 구청의 주차장에 앉았다가 뒤로 넘어져 3m 바닥으로 추락해 사망한 경우 배상받을 수 있을까. 법원은 ...\\n                    </span>\\n                </div>\\n            </div>\\n        </li>\\n        <li data-tiara-layer=\"news_list\" data-tiara-ordnum=\"47\" data-tiara-type=\"article\">\\n            <div class=\"rank_num \">\\n                <span class=\"wrap_num\">\\n                    <span class=\"num_rank\">\\n                            <span class=\"num_news num4\"></span>\\n                            <span class=\"num_news num7\"></span>\\n                        <span class=\"screen_out\">47</span>\\n                    </span>\\n                </span>\\n                    <span class=\"info_rank\">\\n                        <span class=\"screen_out\">댓글수</span>\\n                        <span class=\"ico_news2\">89</span>\\n                    </span>\\n            </div>\\n                <a href=\"https://news.v.daum.net/v/20210710140603760\" class=\"link_thumb\">\\n                    <img src=\"https://img1.daumcdn.net/thumb/S95x77ht.u/?fname=https%3A%2F%2Ft1.daumcdn.net%2Fnews%2F202107%2F10%2Fhani%2F20210710141604176kken.jpg&scode=media\" class=\"thumb_g\" alt=\"이상돈 &quot;여권 불리한 지형이지만 한쪽 쏠리는 대선은 아닐 것&quot;\" aria-hidden=\"true\" />\\n                </a>\\n            <div class=\"cont_thumb\">\\n                <strong class=\"tit_thumb\">\\n                    <a href=\"https://news.v.daum.net/v/20210710140603760\" class=\"link_txt\">이상돈 \"여권 불리한 지형이지만 한쪽 쏠리는 대선은 아닐 것\"</a>\\n                    <span class=\"info_news\">한겨레</span>\\n                </strong>\\n                <div class=\"desc_thumb\">\\n                    <span class=\"link_txt\">\\n                        이상돈 중앙대 명예교수(70·이하 호칭 생략)는 줏대 있는 깔끔한 보수주의자다. 진영 논리가 아니라 상식과 합리에 바탕해 판단하고 행동한다. 박근혜 당선을 열심히 ...\\n                    </span>\\n                </div>\\n            </div>\\n        </li>\\n        <li data-tiara-layer=\"news_list\" data-tiara-ordnum=\"48\" data-tiara-type=\"article\">\\n            <div class=\"rank_num \">\\n                <span class=\"wrap_num\">\\n                    <span class=\"num_rank\">\\n                            <span class=\"num_news num4\"></span>\\n                            <span class=\"num_news num8\"></span>\\n                        <span class=\"screen_out\">48</span>\\n                    </span>\\n                </span>\\n                    <span class=\"info_rank\">\\n                        <span class=\"screen_out\">댓글수</span>\\n                        <span class=\"ico_news2\">88</span>\\n                    </span>\\n            </div>\\n                <a href=\"https://news.v.daum.net/v/20210710133103429\" class=\"link_thumb\">\\n                    <img src=\"https://img1.daumcdn.net/thumb/S95x77ht.u/?fname=https%3A%2F%2Ft1.daumcdn.net%2Fnews%2F202107%2F10%2Fseoul%2F20210710133106211iamb.jpg&scode=media\" class=\"thumb_g\" alt=\"[김대영의 무기 인사이드] \\'국산 SLBM\\' 운용하게 될 전략부대 해군 잠수함 사령부\" aria-hidden=\"true\" />\\n                </a>\\n            <div class=\"cont_thumb\">\\n                <strong class=\"tit_thumb\">\\n                    <a href=\"https://news.v.daum.net/v/20210710133103429\" class=\"link_txt\">[김대영의 무기 인사이드] \\'국산 SLBM\\' 운용하게 될 전략부대 해군 잠수함 사령부</a>\\n                    <span class=\"info_news\">서울신문</span>\\n                </strong>\\n                <div class=\"desc_thumb\">\\n                    <span class=\"link_txt\">\\n                        [서울신문 나우뉴스]지난 4일 우리 군이 SLBM 즉 잠수함발사탄도미사일 수중발사 시험에 성공한 것으로 전해지면서 큰 화제가 되었다. 이와 관련해 잠수함에서 직접 발...\\n                    </span>\\n                </div>\\n            </div>\\n        </li>\\n        <li data-tiara-layer=\"news_list\" data-tiara-ordnum=\"49\" data-tiara-type=\"article\">\\n            <div class=\"rank_num \">\\n                <span class=\"wrap_num\">\\n                    <span class=\"num_rank\">\\n                            <span class=\"num_news num4\"></span>\\n                            <span class=\"num_news num9\"></span>\\n                        <span class=\"screen_out\">49</span>\\n                    </span>\\n                </span>\\n                    <span class=\"info_rank\">\\n                        <span class=\"screen_out\">댓글수</span>\\n                        <span class=\"ico_news2\">83</span>\\n                    </span>\\n            </div>\\n                <a href=\"https://news.v.daum.net/v/20210710143859039\" class=\"link_thumb\">\\n                    <img src=\"https://img1.daumcdn.net/thumb/S95x77ht.u/?fname=https%3A%2F%2Ft1.daumcdn.net%2Fnews%2F202107%2F10%2Fnewsis%2F20210710143859214zhat.jpg&scode=media\" class=\"thumb_g\" alt=\"최악 코로나 공포에 수도권이 멈춘다(종합)\" aria-hidden=\"true\" />\\n                </a>\\n            <div class=\"cont_thumb\">\\n                <strong class=\"tit_thumb\">\\n                    <a href=\"https://news.v.daum.net/v/20210710143859039\" class=\"link_txt\">최악 코로나 공포에 수도권이 멈춘다(종합)</a>\\n                    <span class=\"info_news\">뉴시스</span>\\n                </strong>\\n                <div class=\"desc_thumb\">\\n                    <span class=\"link_txt\">\\n                        [서울=뉴시스] 이종희 기자 = 정부가 연일 코로나19 신규 확진자 수가 최대치를 경신하면서 4차 대유행을 차단하기 위해 사상 초유의 수도권 사회적 거리두기 4단계라는...\\n                    </span>\\n                </div>\\n            </div>\\n        </li>\\n        <li data-tiara-layer=\"news_list\" data-tiara-ordnum=\"50\" data-tiara-type=\"article\">\\n            <div class=\"rank_num \">\\n                <span class=\"wrap_num\">\\n                    <span class=\"num_rank\">\\n                            <span class=\"num_news num5\"></span>\\n                            <span class=\"num_news num0\"></span>\\n                        <span class=\"screen_out\">50</span>\\n                    </span>\\n                </span>\\n                    <span class=\"info_rank\">\\n                        <span class=\"screen_out\">댓글수</span>\\n                        <span class=\"ico_news2\">64</span>\\n                    </span>\\n            </div>\\n                <a href=\"https://news.v.daum.net/v/20210710140059686\" class=\"link_thumb\">\\n                    <img src=\"https://img1.daumcdn.net/thumb/S95x77ht.u/?fname=https%3A%2F%2Ft1.daumcdn.net%2Fnews%2F202107%2F10%2Ffnnewsi%2F20210710140059130mtkq.jpg&scode=media\" class=\"thumb_g\" alt=\"이재명 &quot;왜 기본주택 없냐고? 법적 정의 안됐으니까&quot;\" aria-hidden=\"true\" />\\n                </a>\\n            <div class=\"cont_thumb\">\\n                <strong class=\"tit_thumb\">\\n                    <a href=\"https://news.v.daum.net/v/20210710140059686\" class=\"link_txt\">이재명 \"왜 기본주택 없냐고? 법적 정의 안됐으니까\"</a>\\n                    <span class=\"info_news\">파이낸셜뉴스</span>\\n                </strong>\\n                <div class=\"desc_thumb\">\\n                    <span class=\"link_txt\">\\n                        이재명 경기도지사와 박용진 더불어민주당 의원이 지난 1일 서울 여의도 글래드호텔에서 열린 공명선거 실천 서약식 및 프레스데이 사전행사 \\'너 나와\\'에서 기념촬영을 ...\\n                    </span>\\n                </div>\\n            </div>\\n        </li>\\n</ul>\\n \\n                <div class=\"box_info\">\\n                    <p class=\"ico_news2\">당일 댓글 많은 뉴스 랭킹은 <em class=\"emph_g2\">최근 일정시간 동안 작성된 댓글의 수</em>로 집계되며 해당 기사에 작성된 총 댓글수와 다를 수 있습니다.</p> \\n                </div>\\n            </div>\\n        </div>\\n<div id=\"mAside\" role=\"complementary\">\\n    <div class=\"aside_g aside_ad\" style=\"height:250px\">\\n    <h3 class=\"screen_out\">광고</h3>\\n    <ins class=\"kakao_ad_area\" style=\"display:block\"\\n         data-ad-param-channel=\"media\"\\n         data-ad-param-cp=\"pc_media_news\"\\n         data-ad-frame-id = \"AMS_250exp\"\\n         data-ad-frame-name = \"AMS_250exp\"\\n         data-ad-unit = \"05d22\"\\n         data-ad-type = \"D\"\\n         data-ad-width = \"250\"\\n         data-ad-height = \"250\"></ins>\\n</div>\\n<div class=\"aside_g aside_ranking\">\\n    <h3 class=\"tit_news\">많이 본 뉴스</h3>\\n    <ul class=\"tab_aside tab_media\">\\n            <li class=\"on\" data-index=\"0\">\\n                <a href=\"#none\" class=\"link_tab link_tab2\" data-tiara-layer=\"RIGHT popular_tab news\">뉴스</a>\\n                <div class=\"cont_aside\" data-totalpage=\"3\" data-index=\"0\" >\\n                    <strong class=\"screen_out\">뉴스</strong>\\n                        <ol class=\"list_ranking\" data-page=\"1\" >\\n                            <li>\\n                                <em class=\"num_news num1\">1위</em>\\n                                <strong class=\"tit_g\">\\n                                    <a href=\"https://v.daum.net/v/20210710131105267\" class=\"link_txt\" data-tiara-layer=\"RIGHT popular_news news_list\" data-tiara-id=\"20210710131105267\" data-tiara-type=\"harmony\" data-tiara-ordnum=\"1\" data-tiara-custom=\"contentUniqueKey=hamny-20210710131105267\">\\n                                        번식은 곧 죽음.. 14시간 짝짓기 후 죽는 동물\\n                                    </a>\\n                                </strong>\\n                            </li>\\n                            <li>\\n                                <em class=\"num_news num2\">2위</em>\\n                                <strong class=\"tit_g\">\\n                                    <a href=\"https://v.daum.net/v/20210710120930857\" class=\"link_txt\" data-tiara-layer=\"RIGHT popular_news news_list\" data-tiara-id=\"20210710120930857\" data-tiara-type=\"harmony\" data-tiara-ordnum=\"2\" data-tiara-custom=\"contentUniqueKey=hamny-20210710120930857\">\\n                                        \"망신도 이런 X망신이\" 김건희 논문 표절 의혹, 국민대생도 뿔났다\\n                                    </a>\\n                                </strong>\\n                            </li>\\n                            <li>\\n                                <em class=\"num_news num3\">3위</em>\\n                                <strong class=\"tit_g\">\\n                                    <a href=\"https://v.daum.net/v/20210710134946581\" class=\"link_txt\" data-tiara-layer=\"RIGHT popular_news news_list\" data-tiara-id=\"20210710134946581\" data-tiara-type=\"harmony\" data-tiara-ordnum=\"3\" data-tiara-custom=\"contentUniqueKey=hamny-20210710134946581\">\\n                                        \"기본소득은 하나님께서 약속하신 은혜입니다\"\\n                                    </a>\\n                                </strong>\\n                            </li>\\n                            <li>\\n                                <em class=\"num_news num4\">4위</em>\\n                                <strong class=\"tit_g\">\\n                                    <a href=\"https://v.daum.net/v/20210710120602820\" class=\"link_txt\" data-tiara-layer=\"RIGHT popular_news news_list\" data-tiara-id=\"20210710120602820\" data-tiara-type=\"harmony\" data-tiara-ordnum=\"4\" data-tiara-custom=\"contentUniqueKey=hamny-20210710120602820\">\\n                                        박원순 1주기, 피해자는 온몸에 변호사는 눈에 피멍이 들었다\\n                                    </a>\\n                                </strong>\\n                            </li>\\n                            <li>\\n                                <em class=\"num_news num5\">5위</em>\\n                                <strong class=\"tit_g\">\\n                                    <a href=\"https://v.daum.net/v/20210710110809218\" class=\"link_txt\" data-tiara-layer=\"RIGHT popular_news news_list\" data-tiara-id=\"20210710110809218\" data-tiara-type=\"harmony\" data-tiara-ordnum=\"5\" data-tiara-custom=\"contentUniqueKey=hamny-20210710110809218\">\\n                                        개와 중국인은 출입금지\\n                                    </a>\\n                                </strong>\\n                            </li>\\n                            <li>\\n                                <em class=\"num_news num6\">6위</em>\\n                                <strong class=\"tit_g\">\\n                                    <a href=\"https://v.daum.net/v/20210710121411889\" class=\"link_txt\" data-tiara-layer=\"RIGHT popular_news news_list\" data-tiara-id=\"20210710121411889\" data-tiara-type=\"harmony\" data-tiara-ordnum=\"6\" data-tiara-custom=\"contentUniqueKey=hamny-20210710121411889\">\\n                                        윤석열, \\'경찰 사칭\\' MBC 취재진 3명 경찰 고발..\"윗선 개입\"\\n                                    </a>\\n                                </strong>\\n                            </li>\\n                            <li>\\n                                <em class=\"num_news num7\">7위</em>\\n                                <strong class=\"tit_g\">\\n                                    <a href=\"https://v.daum.net/v/20210710140502742\" class=\"link_txt\" data-tiara-layer=\"RIGHT popular_news news_list\" data-tiara-id=\"20210710140502742\" data-tiara-type=\"harmony\" data-tiara-ordnum=\"7\" data-tiara-custom=\"contentUniqueKey=hamny-20210710140502742\">\\n                                        수도권 첫 1000명 돌파..봉쇄 직전 \\'금토일\\' 대확산 \\'뇌관\\'\\n                                    </a>\\n                                </strong>\\n                            </li>\\n                            <li>\\n                                <em class=\"num_news num8\">8위</em>\\n                                <strong class=\"tit_g\">\\n                                    <a href=\"https://v.daum.net/v/20210710141954889\" class=\"link_txt\" data-tiara-layer=\"RIGHT popular_news news_list\" data-tiara-id=\"20210710141954889\" data-tiara-type=\"harmony\" data-tiara-ordnum=\"8\" data-tiara-custom=\"contentUniqueKey=hamny-20210710141954889\">\\n                                        이준석 \"대만·北도 \\'통일부\\' 없어\" vs 여야 \"서독엔 있었다\"\\n                                    </a>\\n                                </strong>\\n                            </li>\\n                            <li>\\n                                <em class=\"num_news num9\">9위</em>\\n                                <strong class=\"tit_g\">\\n                                    <a href=\"https://v.daum.net/v/20210710135404607\" class=\"link_txt\" data-tiara-layer=\"RIGHT popular_news news_list\" data-tiara-id=\"20210710135404607\" data-tiara-type=\"harmony\" data-tiara-ordnum=\"9\" data-tiara-custom=\"contentUniqueKey=hamny-20210710135404607\">\\n                                        코로나 검사 기다리는데..\\'옆에서 담배 피우는 시민들\\' \\n                                    </a>\\n                                </strong>\\n                            </li>\\n                            <li>\\n                                <em class=\"num_news num10\">10위</em>\\n                                <strong class=\"tit_g\">\\n                                    <a href=\"https://v.daum.net/v/20210710144013046\" class=\"link_txt\" data-tiara-layer=\"RIGHT popular_news news_list\" data-tiara-id=\"20210710144013046\" data-tiara-type=\"harmony\" data-tiara-ordnum=\"10\" data-tiara-custom=\"contentUniqueKey=hamny-20210710144013046\">\\n                                        사흘간 백신 이상반응 2천790건↑..사망 15명↑, 인과성 미확인\\n                                    </a>\\n                                </strong>\\n                            </li>\\n                        </ol>\\n                        <ol class=\"list_ranking\" data-page=\"2\" style=\"display:none\">\\n                            <li>\\n                                <em class=\"num_news num11\">11위</em>\\n                                <strong class=\"tit_g\">\\n                                    <a href=\"https://v.daum.net/v/20210710114836647\" class=\"link_txt\" data-tiara-layer=\"RIGHT popular_news news_list\" data-tiara-id=\"20210710114836647\" data-tiara-type=\"harmony\" data-tiara-ordnum=\"11\" data-tiara-custom=\"contentUniqueKey=hamny-20210710114836647\">\\n                                        서두르세요, 마트에서 반짝하고 사라져 버립니다 \\n                                    </a>\\n                                </strong>\\n                            </li>\\n                            <li>\\n                                <em class=\"num_news num12\">12위</em>\\n                                <strong class=\"tit_g\">\\n                                    <a href=\"https://v.daum.net/v/20210710120305790\" class=\"link_txt\" data-tiara-layer=\"RIGHT popular_news news_list\" data-tiara-id=\"20210710120305790\" data-tiara-type=\"harmony\" data-tiara-ordnum=\"12\" data-tiara-custom=\"contentUniqueKey=hamny-20210710120305790\">\\n                                        대낮 음주 뺑소니에 오른발 절단 피해..집행유예 깨고 실형\\n                                    </a>\\n                                </strong>\\n                            </li>\\n                            <li>\\n                                <em class=\"num_news num13\">13위</em>\\n                                <strong class=\"tit_g\">\\n                                    <a href=\"https://v.daum.net/v/20210710134306520\" class=\"link_txt\" data-tiara-layer=\"RIGHT popular_news news_list\" data-tiara-id=\"20210710134306520\" data-tiara-type=\"harmony\" data-tiara-ordnum=\"13\" data-tiara-custom=\"contentUniqueKey=hamny-20210710134306520\">\\n                                        \\'델타 잡는 mRNA백신\\' 이르면 8월 임상..한달만에 개발 가능?\\n                                    </a>\\n                                </strong>\\n                            </li>\\n                            <li>\\n                                <em class=\"num_news num14\">14위</em>\\n                                <strong class=\"tit_g\">\\n                                    <a href=\"https://v.daum.net/v/20210710131643304\" class=\"link_txt\" data-tiara-layer=\"RIGHT popular_news news_list\" data-tiara-id=\"20210710131643304\" data-tiara-type=\"harmony\" data-tiara-ordnum=\"14\" data-tiara-custom=\"contentUniqueKey=hamny-20210710131643304\">\\n                                        탑차 처참히 구겨졌다..청담대교 교각 받은 40대 사망 \\n                                    </a>\\n                                </strong>\\n                            </li>\\n                            <li>\\n                                <em class=\"num_news num15\">15위</em>\\n                                <strong class=\"tit_g\">\\n                                    <a href=\"https://v.daum.net/v/20210710110006094\" class=\"link_txt\" data-tiara-layer=\"RIGHT popular_news news_list\" data-tiara-id=\"20210710110006094\" data-tiara-type=\"harmony\" data-tiara-ordnum=\"15\" data-tiara-custom=\"contentUniqueKey=hamny-20210710110006094\">\\n                                        \\'용진이형\\'은 다 계획이 있었다\\n                                    </a>\\n                                </strong>\\n                            </li>\\n                            <li>\\n                                <em class=\"num_news num16\">16위</em>\\n                                <strong class=\"tit_g\">\\n                                    <a href=\"https://v.daum.net/v/20210710140101687\" class=\"link_txt\" data-tiara-layer=\"RIGHT popular_news news_list\" data-tiara-id=\"20210710140101687\" data-tiara-type=\"harmony\" data-tiara-ordnum=\"16\" data-tiara-custom=\"contentUniqueKey=hamny-20210710140101687\">\\n                                        4년전 \"이니\" 외친 그들..文 후계자 두고 친문 사이트 갈라섰다\\n                                    </a>\\n                                </strong>\\n                            </li>\\n                            <li>\\n                                <em class=\"num_news num17\">17위</em>\\n                                <strong class=\"tit_g\">\\n                                    <a href=\"https://v.daum.net/v/20210710113400476\" class=\"link_txt\" data-tiara-layer=\"RIGHT popular_news news_list\" data-tiara-id=\"20210710113400476\" data-tiara-type=\"harmony\" data-tiara-ordnum=\"17\" data-tiara-custom=\"contentUniqueKey=hamny-20210710113400476\">\\n                                        \\'초등생 사망\\' 인천 스쿨존서 또 화물차 사고..60대 숨져\\n                                    </a>\\n                                </strong>\\n                            </li>\\n                            <li>\\n                                <em class=\"num_news num18\">18위</em>\\n                                <strong class=\"tit_g\">\\n                                    <a href=\"https://v.daum.net/v/20210710114646621\" class=\"link_txt\" data-tiara-layer=\"RIGHT popular_news news_list\" data-tiara-id=\"20210710114646621\" data-tiara-type=\"harmony\" data-tiara-ordnum=\"18\" data-tiara-custom=\"contentUniqueKey=hamny-20210710114646621\">\\n                                        김경수 살면 경선판 요동친다..21일 대법 선고 주목하는 與\\n                                    </a>\\n                                </strong>\\n                            </li>\\n                            <li>\\n                                <em class=\"num_news num19\">19위</em>\\n                                <strong class=\"tit_g\">\\n                                    <a href=\"https://v.daum.net/v/20210710130006189\" class=\"link_txt\" data-tiara-layer=\"RIGHT popular_news news_list\" data-tiara-id=\"20210710130006189\" data-tiara-type=\"harmony\" data-tiara-ordnum=\"19\" data-tiara-custom=\"contentUniqueKey=hamny-20210710130006189\">\\n                                        지금 은행주를 주목해야 할 3가지 이유\\n                                    </a>\\n                                </strong>\\n                            </li>\\n                            <li>\\n                                <em class=\"num_news num20\">20위</em>\\n                                <strong class=\"tit_g\">\\n                                    <a href=\"https://v.daum.net/v/20210710123155051\" class=\"link_txt\" data-tiara-layer=\"RIGHT popular_news news_list\" data-tiara-id=\"20210710123155051\" data-tiara-type=\"harmony\" data-tiara-ordnum=\"20\" data-tiara-custom=\"contentUniqueKey=hamny-20210710123155051\">\\n                                        국가직 7급 공무원 필기시험 실시..응시생 중 확진자 \\'0명\\'\\n                                    </a>\\n                                </strong>\\n                            </li>\\n                        </ol>\\n                        <ol class=\"list_ranking\" data-page=\"3\" style=\"display:none\">\\n                            <li>\\n                                <em class=\"num_news num21\">21위</em>\\n                                <strong class=\"tit_g\">\\n                                    <a href=\"https://v.daum.net/v/20210710134001487\" class=\"link_txt\" data-tiara-layer=\"RIGHT popular_news news_list\" data-tiara-id=\"20210710134001487\" data-tiara-type=\"harmony\" data-tiara-ordnum=\"21\" data-tiara-custom=\"contentUniqueKey=hamny-20210710134001487\">\\n                                        신규확진 \\'사상 최고\\' 초비상인데..공항은 여행객들 \\'북적북적\\'\\n                                    </a>\\n                                </strong>\\n                            </li>\\n                            <li>\\n                                <em class=\"num_news num22\">22위</em>\\n                                <strong class=\"tit_g\">\\n                                    <a href=\"https://v.daum.net/v/20210710111601297\" class=\"link_txt\" data-tiara-layer=\"RIGHT popular_news news_list\" data-tiara-id=\"20210710111601297\" data-tiara-type=\"harmony\" data-tiara-ordnum=\"22\" data-tiara-custom=\"contentUniqueKey=hamny-20210710111601297\">\\n                                         지구보다 큰 목성의 신비로운 \\'오로라 비밀\\' 풀렸다\\n                                    </a>\\n                                </strong>\\n                            </li>\\n                            <li>\\n                                <em class=\"num_news num23\">23위</em>\\n                                <strong class=\"tit_g\">\\n                                    <a href=\"https://v.daum.net/v/20210710140603760\" class=\"link_txt\" data-tiara-layer=\"RIGHT popular_news news_list\" data-tiara-id=\"20210710140603760\" data-tiara-type=\"harmony\" data-tiara-ordnum=\"23\" data-tiara-custom=\"contentUniqueKey=hamny-20210710140603760\">\\n                                        이상돈 \"여권 불리한 지형이지만 한쪽 쏠리는 대선은 아닐 것\"\\n                                    </a>\\n                                </strong>\\n                            </li>\\n                            <li>\\n                                <em class=\"num_news num24\">24위</em>\\n                                <strong class=\"tit_g\">\\n                                    <a href=\"https://v.daum.net/v/20210710142102901\" class=\"link_txt\" data-tiara-layer=\"RIGHT popular_news news_list\" data-tiara-id=\"20210710142102901\" data-tiara-type=\"harmony\" data-tiara-ordnum=\"24\" data-tiara-custom=\"contentUniqueKey=hamny-20210710142102901\">\\n                                        \"짠돌이와 무상연애\" 이재명 신체감정 신청한 김부선\\n                                    </a>\\n                                </strong>\\n                            </li>\\n                            <li>\\n                                <em class=\"num_news num25\">25위</em>\\n                                <strong class=\"tit_g\">\\n                                    <a href=\"https://v.daum.net/v/20210710130004187\" class=\"link_txt\" data-tiara-layer=\"RIGHT popular_news news_list\" data-tiara-id=\"20210710130004187\" data-tiara-type=\"harmony\" data-tiara-ordnum=\"25\" data-tiara-custom=\"contentUniqueKey=hamny-20210710130004187\">\\n                                        난간 없는 벽에 앉아있다 추락사..\"2억 배상\"\\n                                    </a>\\n                                </strong>\\n                            </li>\\n                            <li>\\n                                <em class=\"num_news num26\">26위</em>\\n                                <strong class=\"tit_g\">\\n                                    <a href=\"https://v.daum.net/v/20210710122139968\" class=\"link_txt\" data-tiara-layer=\"RIGHT popular_news news_list\" data-tiara-id=\"20210710122139968\" data-tiara-type=\"harmony\" data-tiara-ordnum=\"26\" data-tiara-custom=\"contentUniqueKey=hamny-20210710122139968\">\\n                                        \"춘천시장 어디서 뭐하냐\"..단수 9시간 만에 복구 이번엔 흙탕물\\n                                    </a>\\n                                </strong>\\n                            </li>\\n                            <li>\\n                                <em class=\"num_news num27\">27위</em>\\n                                <strong class=\"tit_g\">\\n                                    <a href=\"https://v.daum.net/v/20210710141601861\" class=\"link_txt\" data-tiara-layer=\"RIGHT popular_news news_list\" data-tiara-id=\"20210710141601861\" data-tiara-type=\"harmony\" data-tiara-ordnum=\"27\" data-tiara-custom=\"contentUniqueKey=hamny-20210710141601861\">\\n                                        아이티 대통령 암살단은 왜 대만 대사관으로 도망갔나\\n                                    </a>\\n                                </strong>\\n                            </li>\\n                            <li>\\n                                <em class=\"num_news num28\">28위</em>\\n                                <strong class=\"tit_g\">\\n                                    <a href=\"https://v.daum.net/v/20210710125939181\" class=\"link_txt\" data-tiara-layer=\"RIGHT popular_news news_list\" data-tiara-id=\"20210710125939181\" data-tiara-type=\"harmony\" data-tiara-ordnum=\"28\" data-tiara-custom=\"contentUniqueKey=hamny-20210710125939181\">\\n                                        \\'대통령 암살\\' 아이티, 미국에 병력 지원 요청..암살 가담 미국인 \\'원래 계획은 납치\"\\n                                    </a>\\n                                </strong>\\n                            </li>\\n                            <li>\\n                                <em class=\"num_news num29\">29위</em>\\n                                <strong class=\"tit_g\">\\n                                    <a href=\"https://v.daum.net/v/20210710110308153\" class=\"link_txt\" data-tiara-layer=\"RIGHT popular_news news_list\" data-tiara-id=\"20210710110308153\" data-tiara-type=\"harmony\" data-tiara-ordnum=\"29\" data-tiara-custom=\"contentUniqueKey=hamny-20210710110308153\">\\n                                        \\'매출 200조 벽\\' 8년째 갇혔다..삼성전자 최고 실적에도 못 웃는다\\n                                    </a>\\n                                </strong>\\n                            </li>\\n                            <li>\\n                                <em class=\"num_news num30\">30위</em>\\n                                <strong class=\"tit_g\">\\n                                    <a href=\"https://v.daum.net/v/20210710112400367\" class=\"link_txt\" data-tiara-layer=\"RIGHT popular_news news_list\" data-tiara-id=\"20210710112400367\" data-tiara-type=\"harmony\" data-tiara-ordnum=\"30\" data-tiara-custom=\"contentUniqueKey=hamny-20210710112400367\">\\n                                        \"감옥에서 8년, 이석기를 석방하라\"\\n                                    </a>\\n                                </strong>\\n                            </li>\\n                        </ol>\\n                </div>\\n            </li>\\n            <li  data-index=\"1\">\\n                <a href=\"#none\" class=\"link_tab link_tab3\" data-tiara-layer=\"RIGHT popular_tab enter\">연예</a>\\n                <div class=\"cont_aside\" data-totalpage=\"3\" data-index=\"1\" style=\"display: none\">\\n                    <strong class=\"screen_out\">연예</strong>\\n                        <ol class=\"list_ranking\" data-page=\"1\" >\\n                            <li>\\n                                <em class=\"num_news num1\">1위</em>\\n                                <strong class=\"tit_g\">\\n                                    <a href=\"https://v.daum.net/v/20210710134943580?s=eRIGHT_MANY_TOT=R\" class=\"link_txt\" data-tiara-layer=\"RIGHT popular_news enter_list\" data-tiara-id=\"20210710134943580\" data-tiara-type=\"harmony\" data-tiara-ordnum=\"1\" data-tiara-custom=\"contentUniqueKey=hamny-20210710134943580\">\\n                                        황정음, 이혼조정 도중 남편과 화해.. 함께 하와이 갔다\\n                                    </a>\\n                                </strong>\\n                            </li>\\n                            <li>\\n                                <em class=\"num_news num2\">2위</em>\\n                                <strong class=\"tit_g\">\\n                                    <a href=\"https://v.daum.net/v/20210710111159262?s=eRIGHT_MANY_TOT=R\" class=\"link_txt\" data-tiara-layer=\"RIGHT popular_news enter_list\" data-tiara-id=\"20210710111159262\" data-tiara-type=\"harmony\" data-tiara-ordnum=\"2\" data-tiara-custom=\"contentUniqueKey=hamny-20210710111159262\">\\n                                        조윤희 \"딸 로아, 이동건과 일주일에 한 번 만나..아빠 언급 부담 NO\" \\n                                    </a>\\n                                </strong>\\n                            </li>\\n                            <li>\\n                                <em class=\"num_news num3\">3위</em>\\n                                <strong class=\"tit_g\">\\n                                    <a href=\"https://v.daum.net/v/20210710102050644?s=eRIGHT_MANY_TOT=R\" class=\"link_txt\" data-tiara-layer=\"RIGHT popular_news enter_list\" data-tiara-id=\"20210710102050644\" data-tiara-type=\"harmony\" data-tiara-ordnum=\"3\" data-tiara-custom=\"contentUniqueKey=hamny-20210710102050644\">\\n                                        \"남편 구속·이혼 후 숨고 싶었다\" 싱글맘 김나영 \\'눈물\\'\\n                                    </a>\\n                                </strong>\\n                            </li>\\n                            <li>\\n                                <em class=\"num_news num4\">4위</em>\\n                                <strong class=\"tit_g\">\\n                                    <a href=\"https://v.daum.net/v/20210710102219664?s=eRIGHT_MANY_TOT=R\" class=\"link_txt\" data-tiara-layer=\"RIGHT popular_news enter_list\" data-tiara-id=\"20210710102219664\" data-tiara-type=\"harmony\" data-tiara-ordnum=\"4\" data-tiara-custom=\"contentUniqueKey=hamny-20210710102219664\">\\n                                        이승환 뮤비 속 지하철 귀신 정체, 20년만 밝혀져 \"기관사 퇴직 후에야\"\\n                                    </a>\\n                                </strong>\\n                            </li>\\n                            <li>\\n                                <em class=\"num_news num5\">5위</em>\\n                                <strong class=\"tit_g\">\\n                                    <a href=\"https://v.daum.net/v/20210710065310496?s=eRIGHT_MANY_TOT=R\" class=\"link_txt\" data-tiara-layer=\"RIGHT popular_news enter_list\" data-tiara-id=\"20210710065310496\" data-tiara-type=\"harmony\" data-tiara-ordnum=\"5\" data-tiara-custom=\"contentUniqueKey=hamny-20210710065310496\">\\n                                        \"욕도 과분..\" 기안84, 독자들에게 마지막 인사 →\"이제 뭐 해먹고 살지?\" 현실고민 \\n                                    </a>\\n                                </strong>\\n                            </li>\\n                            <li>\\n                                <em class=\"num_news num6\">6위</em>\\n                                <strong class=\"tit_g\">\\n                                    <a href=\"https://v.daum.net/v/20210710143255000?s=eRIGHT_MANY_TOT=R\" class=\"link_txt\" data-tiara-layer=\"RIGHT popular_news enter_list\" data-tiara-id=\"20210710143255000\" data-tiara-type=\"harmony\" data-tiara-ordnum=\"6\" data-tiara-custom=\"contentUniqueKey=hamny-20210710143255000\">\\n                                        \\'정형돈♥︎\\' 한유라, 장사 잘되던 4년 운영 커피숍 폐업 왜? \"급하게 결정\"\\n                                    </a>\\n                                </strong>\\n                            </li>\\n                            <li>\\n                                <em class=\"num_news num7\">7위</em>\\n                                <strong class=\"tit_g\">\\n                                    <a href=\"https://v.daum.net/v/20210710130606238?s=eRIGHT_MANY_TOT=R\" class=\"link_txt\" data-tiara-layer=\"RIGHT popular_news enter_list\" data-tiara-id=\"20210710130606238\" data-tiara-type=\"harmony\" data-tiara-ordnum=\"7\" data-tiara-custom=\"contentUniqueKey=hamny-20210710130606238\">\\n                                        \\'결사곡2\\' 박주미, 불륜남편 이태곤 손길 거부 \"오해와 불신의 컬래버\"\\n                                    </a>\\n                                </strong>\\n                            </li>\\n                            <li>\\n                                <em class=\"num_news num8\">8위</em>\\n                                <strong class=\"tit_g\">\\n                                    <a href=\"https://v.daum.net/v/20210710142609948?s=eRIGHT_MANY_TOT=R\" class=\"link_txt\" data-tiara-layer=\"RIGHT popular_news enter_list\" data-tiara-id=\"20210710142609948\" data-tiara-type=\"harmony\" data-tiara-ordnum=\"8\" data-tiara-custom=\"contentUniqueKey=hamny-20210710142609948\">\\n                                        정형돈 아내 한유라, 카페 폐업 \"불가피한 결정\" \\n                                    </a>\\n                                </strong>\\n                            </li>\\n                            <li>\\n                                <em class=\"num_news num9\">9위</em>\\n                                <strong class=\"tit_g\">\\n                                    <a href=\"https://v.daum.net/v/20210710125701176?s=eRIGHT_MANY_TOT=R\" class=\"link_txt\" data-tiara-layer=\"RIGHT popular_news enter_list\" data-tiara-id=\"20210710125701176\" data-tiara-type=\"harmony\" data-tiara-ordnum=\"9\" data-tiara-custom=\"contentUniqueKey=hamny-20210710125701176\">\\n                                        싸이월드 시대에 등장했던 한 고교생의 기괴한 행동\\n                                    </a>\\n                                </strong>\\n                            </li>\\n                            <li>\\n                                <em class=\"num_news num10\">10위</em>\\n                                <strong class=\"tit_g\">\\n                                    <a href=\"https://v.daum.net/v/20210710093118935?s=eRIGHT_MANY_TOT=R\" class=\"link_txt\" data-tiara-layer=\"RIGHT popular_news enter_list\" data-tiara-id=\"20210710093118935\" data-tiara-type=\"harmony\" data-tiara-ordnum=\"10\" data-tiara-custom=\"contentUniqueKey=hamny-20210710093118935\">\\n                                        김구라 \"재혼한 ♥︎아내와 12살차다\"\\n                                    </a>\\n                                </strong>\\n                            </li>\\n                        </ol>\\n                        <ol class=\"list_ranking\" data-page=\"2\" style=\"display:none\">\\n                            <li>\\n                                <em class=\"num_news num11\">11위</em>\\n                                <strong class=\"tit_g\">\\n                                    <a href=\"https://v.daum.net/v/20210709205001778?s=eRIGHT_MANY_TOT=R\" class=\"link_txt\" data-tiara-layer=\"RIGHT popular_news enter_list\" data-tiara-id=\"20210709205001778\" data-tiara-type=\"harmony\" data-tiara-ordnum=\"11\" data-tiara-custom=\"contentUniqueKey=hamny-20210709205001778\">\\n                                        \"깊은 대화 나눠\" 황정음♥이영돈, 4년만 파경→이혼 조정 후 재결합 \\n                                    </a>\\n                                </strong>\\n                            </li>\\n                            <li>\\n                                <em class=\"num_news num12\">12위</em>\\n                                <strong class=\"tit_g\">\\n                                    <a href=\"https://v.daum.net/v/20210710145807219?s=eRIGHT_MANY_TOT=R\" class=\"link_txt\" data-tiara-layer=\"RIGHT popular_news enter_list\" data-tiara-id=\"20210710145807219\" data-tiara-type=\"harmony\" data-tiara-ordnum=\"12\" data-tiara-custom=\"contentUniqueKey=hamny-20210710145807219\">\\n                                         하승진, 코로나19 확진 판정\\n                                    </a>\\n                                </strong>\\n                            </li>\\n                            <li>\\n                                <em class=\"num_news num13\">13위</em>\\n                                <strong class=\"tit_g\">\\n                                    <a href=\"https://v.daum.net/v/20210710100009317?s=eRIGHT_MANY_TOT=R\" class=\"link_txt\" data-tiara-layer=\"RIGHT popular_news enter_list\" data-tiara-id=\"20210710100009317\" data-tiara-type=\"harmony\" data-tiara-ordnum=\"13\" data-tiara-custom=\"contentUniqueKey=hamny-20210710100009317\">\\n                                        임영웅 \\'어느 60대 노부부 이야기\\', 욕심을 버리고 원칙을 채우다 \\n                                    </a>\\n                                </strong>\\n                            </li>\\n                            <li>\\n                                <em class=\"num_news num14\">14위</em>\\n                                <strong class=\"tit_g\">\\n                                    <a href=\"https://v.daum.net/v/20210710091730746?s=eRIGHT_MANY_TOT=R\" class=\"link_txt\" data-tiara-layer=\"RIGHT popular_news enter_list\" data-tiara-id=\"20210710091730746\" data-tiara-type=\"harmony\" data-tiara-ordnum=\"14\" data-tiara-custom=\"contentUniqueKey=hamny-20210710091730746\">\\n                                        \\'알고있지만\\' 송강♥한소희, 짙어진 스킨십..24시간 꽁냥꽁냥\\n                                    </a>\\n                                </strong>\\n                            </li>\\n                            <li>\\n                                <em class=\"num_news num15\">15위</em>\\n                                <strong class=\"tit_g\">\\n                                    <a href=\"https://v.daum.net/v/20210710134016492?s=eRIGHT_MANY_TOT=R\" class=\"link_txt\" data-tiara-layer=\"RIGHT popular_news enter_list\" data-tiara-id=\"20210710134016492\" data-tiara-type=\"harmony\" data-tiara-ordnum=\"15\" data-tiara-custom=\"contentUniqueKey=hamny-20210710134016492\">\\n                                        \\'전참시\\' 아이린, 손연재에 리듬체조 과외받는 이유\\n                                    </a>\\n                                </strong>\\n                            </li>\\n                            <li>\\n                                <em class=\"num_news num16\">16위</em>\\n                                <strong class=\"tit_g\">\\n                                    <a href=\"https://v.daum.net/v/20210710085155462?s=eRIGHT_MANY_TOT=R\" class=\"link_txt\" data-tiara-layer=\"RIGHT popular_news enter_list\" data-tiara-id=\"20210710085155462\" data-tiara-type=\"harmony\" data-tiara-ordnum=\"16\" data-tiara-custom=\"contentUniqueKey=hamny-20210710085155462\">\\n                                        김나영 \"전 남편 기사 접하고 황급히 녹화 떠나, 김구라는 전화할 줄\" 서운\\n                                    </a>\\n                                </strong>\\n                            </li>\\n                            <li>\\n                                <em class=\"num_news num17\">17위</em>\\n                                <strong class=\"tit_g\">\\n                                    <a href=\"https://v.daum.net/v/20210710080402119?s=eRIGHT_MANY_TOT=R\" class=\"link_txt\" data-tiara-layer=\"RIGHT popular_news enter_list\" data-tiara-id=\"20210710080402119\" data-tiara-type=\"harmony\" data-tiara-ordnum=\"17\" data-tiara-custom=\"contentUniqueKey=hamny-20210710080402119\">\\n                                         정준하, \\'아침마당\\'→\\'6시 내고향\\' 교양프로 휩쓴다\\n                                    </a>\\n                                </strong>\\n                            </li>\\n                            <li>\\n                                <em class=\"num_news num18\">18위</em>\\n                                <strong class=\"tit_g\">\\n                                    <a href=\"https://v.daum.net/v/20210710135739638?s=eRIGHT_MANY_TOT=R\" class=\"link_txt\" data-tiara-layer=\"RIGHT popular_news enter_list\" data-tiara-id=\"20210710135739638\" data-tiara-type=\"harmony\" data-tiara-ordnum=\"18\" data-tiara-custom=\"contentUniqueKey=hamny-20210710135739638\">\\n                                        김나영 \"전 남편 구속, 녹화 중 접해..숨고 싶었다\"  \\n                                    </a>\\n                                </strong>\\n                            </li>\\n                            <li>\\n                                <em class=\"num_news num19\">19위</em>\\n                                <strong class=\"tit_g\">\\n                                    <a href=\"https://v.daum.net/v/20210710135533617?s=eRIGHT_MANY_TOT=R\" class=\"link_txt\" data-tiara-layer=\"RIGHT popular_news enter_list\" data-tiara-id=\"20210710135533617\" data-tiara-type=\"harmony\" data-tiara-ordnum=\"19\" data-tiara-custom=\"contentUniqueKey=hamny-20210710135533617\">\\n                                        이태곤, 박주미에 불륜 딱 걸렸다..송지인과 포옹 보고 실신\\n                                    </a>\\n                                </strong>\\n                            </li>\\n                            <li>\\n                                <em class=\"num_news num20\">20위</em>\\n                                <strong class=\"tit_g\">\\n                                    <a href=\"https://v.daum.net/v/20210710070009536?s=eRIGHT_MANY_TOT=R\" class=\"link_txt\" data-tiara-layer=\"RIGHT popular_news enter_list\" data-tiara-id=\"20210710070009536\" data-tiara-type=\"harmony\" data-tiara-ordnum=\"20\" data-tiara-custom=\"contentUniqueKey=hamny-20210710070009536\">\\n                                        폴 버호벤 감독 \"\\'원초적 본능\\' 샤론 스톤, 속옷 벗고 다리꼬는 이유 정확히 알았다\"\\n                                    </a>\\n                                </strong>\\n                            </li>\\n                        </ol>\\n                        <ol class=\"list_ranking\" data-page=\"3\" style=\"display:none\">\\n                            <li>\\n                                <em class=\"num_news num21\">21위</em>\\n                                <strong class=\"tit_g\">\\n                                    <a href=\"https://v.daum.net/v/20210710113148450?s=eRIGHT_MANY_TOT=R\" class=\"link_txt\" data-tiara-layer=\"RIGHT popular_news enter_list\" data-tiara-id=\"20210710113148450\" data-tiara-type=\"harmony\" data-tiara-ordnum=\"21\" data-tiara-custom=\"contentUniqueKey=hamny-20210710113148450\">\\n                                        국민엄마 김혜자→응삼이 故박윤배 추억, 6.3% 자체 최고 경신\\n                                    </a>\\n                                </strong>\\n                            </li>\\n                            <li>\\n                                <em class=\"num_news num22\">22위</em>\\n                                <strong class=\"tit_g\">\\n                                    <a href=\"https://v.daum.net/v/20210710065012488?s=eRIGHT_MANY_TOT=R\" class=\"link_txt\" data-tiara-layer=\"RIGHT popular_news enter_list\" data-tiara-id=\"20210710065012488\" data-tiara-type=\"harmony\" data-tiara-ordnum=\"22\" data-tiara-custom=\"contentUniqueKey=hamny-20210710065012488\">\\n                                        \"숨고 싶었다\" 김나영, 이혼 심경 고백 → \"상황 알고도 김구라 연락 안해 서운\"\\n                                    </a>\\n                                </strong>\\n                            </li>\\n                            <li>\\n                                <em class=\"num_news num23\">23위</em>\\n                                <strong class=\"tit_g\">\\n                                    <a href=\"https://v.daum.net/v/20210710063111390?s=eRIGHT_MANY_TOT=R\" class=\"link_txt\" data-tiara-layer=\"RIGHT popular_news enter_list\" data-tiara-id=\"20210710063111390\" data-tiara-type=\"harmony\" data-tiara-ordnum=\"23\" data-tiara-custom=\"contentUniqueKey=hamny-20210710063111390\">\\n                                        한지혜, 결혼 11년 만에 득녀→출산 후 딸바보 됐네 \"너무 사랑스럽다\" \\n                                    </a>\\n                                </strong>\\n                            </li>\\n                            <li>\\n                                <em class=\"num_news num24\">24위</em>\\n                                <strong class=\"tit_g\">\\n                                    <a href=\"https://v.daum.net/v/20210710083016297?s=eRIGHT_MANY_TOT=R\" class=\"link_txt\" data-tiara-layer=\"RIGHT popular_news enter_list\" data-tiara-id=\"20210710083016297\" data-tiara-type=\"harmony\" data-tiara-ordnum=\"24\" data-tiara-custom=\"contentUniqueKey=hamny-20210710083016297\">\\n                                        \\'펜트하우스3\\' 박은석, \\'김순옥표 막장\\' 김소연 배후로 다시 부활.. 유진도 다시 살아날까? \\n                                    </a>\\n                                </strong>\\n                            </li>\\n                            <li>\\n                                <em class=\"num_news num25\">25위</em>\\n                                <strong class=\"tit_g\">\\n                                    <a href=\"https://v.daum.net/v/20210709235058807?s=eRIGHT_MANY_TOT=R\" class=\"link_txt\" data-tiara-layer=\"RIGHT popular_news enter_list\" data-tiara-id=\"20210709235058807\" data-tiara-type=\"harmony\" data-tiara-ordnum=\"25\" data-tiara-custom=\"contentUniqueKey=hamny-20210709235058807\">\\n                                        박나래, 쌍수 전 고등학교 졸업사진 공개..전현무 \"말도 못 붙이겠다\"\\n                                    </a>\\n                                </strong>\\n                            </li>\\n                            <li>\\n                                <em class=\"num_news num26\">26위</em>\\n                                <strong class=\"tit_g\">\\n                                    <a href=\"https://v.daum.net/v/20210710070005533?s=eRIGHT_MANY_TOT=R\" class=\"link_txt\" data-tiara-layer=\"RIGHT popular_news enter_list\" data-tiara-id=\"20210710070005533\" data-tiara-type=\"harmony\" data-tiara-ordnum=\"26\" data-tiara-custom=\"contentUniqueKey=hamny-20210710070005533\">\\n                                        \\'쌍둥이맘\\' 황혜영 \"다시 또 원격수업, 고구마 10개 물 없이 먹은 것 같아\"\\n                                    </a>\\n                                </strong>\\n                            </li>\\n                            <li>\\n                                <em class=\"num_news num27\">27위</em>\\n                                <strong class=\"tit_g\">\\n                                    <a href=\"https://v.daum.net/v/20210710091046700?s=eRIGHT_MANY_TOT=R\" class=\"link_txt\" data-tiara-layer=\"RIGHT popular_news enter_list\" data-tiara-id=\"20210710091046700\" data-tiara-type=\"harmony\" data-tiara-ordnum=\"27\" data-tiara-custom=\"contentUniqueKey=hamny-20210710091046700\">\\n                                        \\'놀면 뭐하니?\\' 역대 최고의 1분, 유재석vs이효리 일촉즉발 대치\\n                                    </a>\\n                                </strong>\\n                            </li>\\n                            <li>\\n                                <em class=\"num_news num28\">28위</em>\\n                                <strong class=\"tit_g\">\\n                                    <a href=\"https://v.daum.net/v/20210710090458641?s=eRIGHT_MANY_TOT=R\" class=\"link_txt\" data-tiara-layer=\"RIGHT popular_news enter_list\" data-tiara-id=\"20210710090458641\" data-tiara-type=\"harmony\" data-tiara-ordnum=\"28\" data-tiara-custom=\"contentUniqueKey=hamny-20210710090458641\">\\n                                        \"다 공짜\" 이혜영, 절친 오연수 母 104억 잭팟 덕에 \\'라돌체비타\\' 뮤비 찍었다\\n                                    </a>\\n                                </strong>\\n                            </li>\\n                            <li>\\n                                <em class=\"num_news num29\">29위</em>\\n                                <strong class=\"tit_g\">\\n                                    <a href=\"https://v.daum.net/v/20210710053340898?s=eRIGHT_MANY_TOT=R\" class=\"link_txt\" data-tiara-layer=\"RIGHT popular_news enter_list\" data-tiara-id=\"20210710053340898\" data-tiara-type=\"harmony\" data-tiara-ordnum=\"29\" data-tiara-custom=\"contentUniqueKey=hamny-20210710053340898\">\\n                                        김지영 \"투덜이 남성진 누가 데리고 살 지 했더니, 그게 바로 나\"\\n                                    </a>\\n                                </strong>\\n                            </li>\\n                            <li>\\n                                <em class=\"num_news num30\">30위</em>\\n                                <strong class=\"tit_g\">\\n                                    <a href=\"https://v.daum.net/v/20210710103329783?s=eRIGHT_MANY_TOT=R\" class=\"link_txt\" data-tiara-layer=\"RIGHT popular_news enter_list\" data-tiara-id=\"20210710103329783\" data-tiara-type=\"harmony\" data-tiara-ordnum=\"30\" data-tiara-custom=\"contentUniqueKey=hamny-20210710103329783\">\\n                                        정겨운 \"♥︎김우림 만났을 때 처음 연애하는 느낌, 이상형과 결혼\"\\n                                    </a>\\n                                </strong>\\n                            </li>\\n                        </ol>\\n                </div>\\n            </li>\\n            <li  data-index=\"2\">\\n                <a href=\"#none\" class=\"link_tab link_tab4\" data-tiara-layer=\"RIGHT popular_tab sports\">스포츠</a>\\n                <div class=\"cont_aside\" data-totalpage=\"3\" data-index=\"2\" style=\"display: none\">\\n                    <strong class=\"screen_out\">스포츠</strong>\\n                        <ol class=\"list_ranking\" data-page=\"1\" >\\n                            <li>\\n                                <em class=\"num_news num1\">1위</em>\\n                                <strong class=\"tit_g\">\\n                                    <a href=\"https://v.daum.net/v/20210710130202207\" class=\"link_txt\" data-tiara-layer=\"RIGHT popular_news sports_list\" data-tiara-id=\"20210710130202207\" data-tiara-type=\"harmony\" data-tiara-ordnum=\"1\" data-tiara-custom=\"contentUniqueKey=hamny-20210710130202207\">\\n                                        흥국생명과 쌍둥이 자매, 골든타임을 놓치다\\n                                    </a>\\n                                </strong>\\n                            </li>\\n                            <li>\\n                                <em class=\"num_news num2\">2위</em>\\n                                <strong class=\"tit_g\">\\n                                    <a href=\"https://v.daum.net/v/20210710120012748\" class=\"link_txt\" data-tiara-layer=\"RIGHT popular_news sports_list\" data-tiara-id=\"20210710120012748\" data-tiara-type=\"harmony\" data-tiara-ordnum=\"2\" data-tiara-custom=\"contentUniqueKey=hamny-20210710120012748\">\\n                                        日 공홈 \"한국, 에이스 없지만 \\'섬뜩한 존재\\' 있다\"..주인공은 바로\\n                                    </a>\\n                                </strong>\\n                            </li>\\n                            <li>\\n                                <em class=\"num_news num3\">3위</em>\\n                                <strong class=\"tit_g\">\\n                                    <a href=\"https://v.daum.net/v/20210710121214879\" class=\"link_txt\" data-tiara-layer=\"RIGHT popular_news sports_list\" data-tiara-id=\"20210710121214879\" data-tiara-type=\"harmony\" data-tiara-ordnum=\"3\" data-tiara-custom=\"contentUniqueKey=hamny-20210710121214879\">\\n                                        \\'새로운 직장 알아보세요\\'..토트넘, \\'라멜라 포함\\' 3명에게 방출 통보\\n                                    </a>\\n                                </strong>\\n                            </li>\\n                            <li>\\n                                <em class=\"num_news num4\">4위</em>\\n                                <strong class=\"tit_g\">\\n                                    <a href=\"https://v.daum.net/v/20210710135135598\" class=\"link_txt\" data-tiara-layer=\"RIGHT popular_news sports_list\" data-tiara-id=\"20210710135135598\" data-tiara-type=\"harmony\" data-tiara-ordnum=\"4\" data-tiara-custom=\"contentUniqueKey=hamny-20210710135135598\">\\n                                         두산 선수단 2명, NC 추가 1명 확진..10일 잠실·고척 취소\\n                                    </a>\\n                                </strong>\\n                            </li>\\n                            <li>\\n                                <em class=\"num_news num5\">5위</em>\\n                                <strong class=\"tit_g\">\\n                                    <a href=\"https://v.daum.net/v/20210710120953859\" class=\"link_txt\" data-tiara-layer=\"RIGHT popular_news sports_list\" data-tiara-id=\"20210710120953859\" data-tiara-type=\"harmony\" data-tiara-ordnum=\"5\" data-tiara-custom=\"contentUniqueKey=hamny-20210710120953859\">\\n                                        \\'고정운 딸\\' 고나래 \"아버지 이름보다 큰 동기부여가 있을까요\" \\n                                    </a>\\n                                </strong>\\n                            </li>\\n                            <li>\\n                                <em class=\"num_news num6\">6위</em>\\n                                <strong class=\"tit_g\">\\n                                    <a href=\"https://v.daum.net/v/20210710134703561\" class=\"link_txt\" data-tiara-layer=\"RIGHT popular_news sports_list\" data-tiara-id=\"20210710134703561\" data-tiara-type=\"harmony\" data-tiara-ordnum=\"6\" data-tiara-custom=\"contentUniqueKey=hamny-20210710134703561\">\\n                                        장애인 노르딕스키 간판 서보라미, 35세 일기로 별세\\n                                    </a>\\n                                </strong>\\n                            </li>\\n                            <li>\\n                                <em class=\"num_news num7\">7위</em>\\n                                <strong class=\"tit_g\">\\n                                    <a href=\"https://v.daum.net/v/20210710124419115\" class=\"link_txt\" data-tiara-layer=\"RIGHT popular_news sports_list\" data-tiara-id=\"20210710124419115\" data-tiara-type=\"harmony\" data-tiara-ordnum=\"7\" data-tiara-custom=\"contentUniqueKey=hamny-20210710124419115\">\\n                                        무리뉴 러브콜에도 잔류..\"토트넘이라서 행복해요\"\\n                                    </a>\\n                                </strong>\\n                            </li>\\n                            <li>\\n                                <em class=\"num_news num8\">8위</em>\\n                                <strong class=\"tit_g\">\\n                                    <a href=\"https://v.daum.net/v/20210710104503907\" class=\"link_txt\" data-tiara-layer=\"RIGHT popular_news sports_list\" data-tiara-id=\"20210710104503907\" data-tiara-type=\"harmony\" data-tiara-ordnum=\"8\" data-tiara-custom=\"contentUniqueKey=hamny-20210710104503907\">\\n                                        잉글랜드 선수단, 유로 우승 상금 전액 자선단체에 기부 예정\\n                                    </a>\\n                                </strong>\\n                            </li>\\n                            <li>\\n                                <em class=\"num_news num9\">9위</em>\\n                                <strong class=\"tit_g\">\\n                                    <a href=\"https://v.daum.net/v/20210710121145874\" class=\"link_txt\" data-tiara-layer=\"RIGHT popular_news sports_list\" data-tiara-id=\"20210710121145874\" data-tiara-type=\"harmony\" data-tiara-ordnum=\"9\" data-tiara-custom=\"contentUniqueKey=hamny-20210710121145874\">\\n                                        \"메시 3위 호날두 7위\"..역사상 가장 위대한 선수 50인\\n                                    </a>\\n                                </strong>\\n                            </li>\\n                            <li>\\n                                <em class=\"num_news num10\">10위</em>\\n                                <strong class=\"tit_g\">\\n                                    <a href=\"https://v.daum.net/v/20210710130238210\" class=\"link_txt\" data-tiara-layer=\"RIGHT popular_news sports_list\" data-tiara-id=\"20210710130238210\" data-tiara-type=\"harmony\" data-tiara-ordnum=\"10\" data-tiara-custom=\"contentUniqueKey=hamny-20210710130238210\">\\n                                        이천수, \"독일월드컵 스위스전 눈물? 심판판정 때문 NO..사실은\"\\n                                    </a>\\n                                </strong>\\n                            </li>\\n                        </ol>\\n                        <ol class=\"list_ranking\" data-page=\"2\" style=\"display:none\">\\n                            <li>\\n                                <em class=\"num_news num11\">11위</em>\\n                                <strong class=\"tit_g\">\\n                                    <a href=\"https://v.daum.net/v/20210710142001890\" class=\"link_txt\" data-tiara-layer=\"RIGHT popular_news sports_list\" data-tiara-id=\"20210710142001890\" data-tiara-type=\"harmony\" data-tiara-ordnum=\"11\" data-tiara-custom=\"contentUniqueKey=hamny-20210710142001890\">\\n                                        이러다 기네스북 갈 판.. 최정, 달갑지 않은 \\'세계 신기록\\' 초읽기\\n                                    </a>\\n                                </strong>\\n                            </li>\\n                            <li>\\n                                <em class=\"num_news num12\">12위</em>\\n                                <strong class=\"tit_g\">\\n                                    <a href=\"https://v.daum.net/v/20210710114151552\" class=\"link_txt\" data-tiara-layer=\"RIGHT popular_news sports_list\" data-tiara-id=\"20210710114151552\" data-tiara-type=\"harmony\" data-tiara-ordnum=\"12\" data-tiara-custom=\"contentUniqueKey=hamny-20210710114151552\">\\n                                         \\'쐐기타 포함 3타점\\' 최지만, TB 5연승..토론토 마노아 시즌 첫패\\n                                    </a>\\n                                </strong>\\n                            </li>\\n                            <li>\\n                                <em class=\"num_news num13\">13위</em>\\n                                <strong class=\"tit_g\">\\n                                    <a href=\"https://v.daum.net/v/20210710140600757\" class=\"link_txt\" data-tiara-layer=\"RIGHT popular_news sports_list\" data-tiara-id=\"20210710140600757\" data-tiara-type=\"harmony\" data-tiara-ordnum=\"13\" data-tiara-custom=\"contentUniqueKey=hamny-20210710140600757\">\\n                                        \"163km 괴물, 더 이상 괴물로 불려선 안된다\" 이유는?\\n                                    </a>\\n                                </strong>\\n                            </li>\\n                            <li>\\n                                <em class=\"num_news num14\">14위</em>\\n                                <strong class=\"tit_g\">\\n                                    <a href=\"https://v.daum.net/v/20210710130336221\" class=\"link_txt\" data-tiara-layer=\"RIGHT popular_news sports_list\" data-tiara-id=\"20210710130336221\" data-tiara-type=\"harmony\" data-tiara-ordnum=\"14\" data-tiara-custom=\"contentUniqueKey=hamny-20210710130336221\">\\n                                        오타니 연봉이 2년 뒤 10배나 뛴다고? 美 경제지 과감한 예측\\n                                    </a>\\n                                </strong>\\n                            </li>\\n                            <li>\\n                                <em class=\"num_news num15\">15위</em>\\n                                <strong class=\"tit_g\">\\n                                    <a href=\"https://v.daum.net/v/20210710135102592\" class=\"link_txt\" data-tiara-layer=\"RIGHT popular_news sports_list\" data-tiara-id=\"20210710135102592\" data-tiara-type=\"harmony\" data-tiara-ordnum=\"15\" data-tiara-custom=\"contentUniqueKey=hamny-20210710135102592\">\\n                                        회전수 줄었는데 더 강해졌다. 이의리 그 괴물 같은 진화\\n                                    </a>\\n                                </strong>\\n                            </li>\\n                            <li>\\n                                <em class=\"num_news num16\">16위</em>\\n                                <strong class=\"tit_g\">\\n                                    <a href=\"https://v.daum.net/v/20210710140927788\" class=\"link_txt\" data-tiara-layer=\"RIGHT popular_news sports_list\" data-tiara-id=\"20210710140927788\" data-tiara-type=\"harmony\" data-tiara-ordnum=\"16\" data-tiara-custom=\"contentUniqueKey=hamny-20210710140927788\">\\n                                        \\'우려가 현실로\\' 두산 \"확진자 발생에 따라 선수단 전원 자택 대기중\"\\n                                    </a>\\n                                </strong>\\n                            </li>\\n                            <li>\\n                                <em class=\"num_news num17\">17위</em>\\n                                <strong class=\"tit_g\">\\n                                    <a href=\"https://v.daum.net/v/20210710140327731\" class=\"link_txt\" data-tiara-layer=\"RIGHT popular_news sports_list\" data-tiara-id=\"20210710140327731\" data-tiara-type=\"harmony\" data-tiara-ordnum=\"17\" data-tiara-custom=\"contentUniqueKey=hamny-20210710140327731\">\\n                                        최지만 적시타, MLB.com 메인 영상 장식..TB 구단 \"가장 즐거운 순간\"\\n                                    </a>\\n                                </strong>\\n                            </li>\\n                            <li>\\n                                <em class=\"num_news num18\">18위</em>\\n                                <strong class=\"tit_g\">\\n                                    <a href=\"https://v.daum.net/v/20210710114315573\" class=\"link_txt\" data-tiara-layer=\"RIGHT popular_news sports_list\" data-tiara-id=\"20210710114315573\" data-tiara-type=\"harmony\" data-tiara-ordnum=\"18\" data-tiara-custom=\"contentUniqueKey=hamny-20210710114315573\">\\n                                        클롭이 리버풀로 데려가고 싶은 3인 공개\\n                                    </a>\\n                                </strong>\\n                            </li>\\n                            <li>\\n                                <em class=\"num_news num19\">19위</em>\\n                                <strong class=\"tit_g\">\\n                                    <a href=\"https://v.daum.net/v/20210710141426843\" class=\"link_txt\" data-tiara-layer=\"RIGHT popular_news sports_list\" data-tiara-id=\"20210710141426843\" data-tiara-type=\"harmony\" data-tiara-ordnum=\"19\" data-tiara-custom=\"contentUniqueKey=hamny-20210710141426843\">\\n                                         \\'마이어스 역전타\\' 샌디에이고, 콜로라도에 역전승..김하성 결장\\n                                    </a>\\n                                </strong>\\n                            </li>\\n                            <li>\\n                                <em class=\"num_news num20\">20위</em>\\n                                <strong class=\"tit_g\">\\n                                    <a href=\"https://v.daum.net/v/20210710140005667\" class=\"link_txt\" data-tiara-layer=\"RIGHT popular_news sports_list\" data-tiara-id=\"20210710140005667\" data-tiara-type=\"harmony\" data-tiara-ordnum=\"20\" data-tiara-custom=\"contentUniqueKey=hamny-20210710140005667\">\\n                                        \\'5G 연속 취소\\' LG 실전 공백 어쩌나, 류지현 감독 \"어쩔 수 없지만 아쉽죠\"\\n                                    </a>\\n                                </strong>\\n                            </li>\\n                        </ol>\\n                        <ol class=\"list_ranking\" data-page=\"3\" style=\"display:none\">\\n                            <li>\\n                                <em class=\"num_news num21\">21위</em>\\n                                <strong class=\"tit_g\">\\n                                    <a href=\"https://v.daum.net/v/20210710090602654\" class=\"link_txt\" data-tiara-layer=\"RIGHT popular_news sports_list\" data-tiara-id=\"20210710090602654\" data-tiara-type=\"harmony\" data-tiara-ordnum=\"21\" data-tiara-custom=\"contentUniqueKey=hamny-20210710090602654\">\\n                                        허훈 포함·이현중 제외, 아시아컵 男농구대표팀 12인 발표\\n                                    </a>\\n                                </strong>\\n                            </li>\\n                            <li>\\n                                <em class=\"num_news num22\">22위</em>\\n                                <strong class=\"tit_g\">\\n                                    <a href=\"https://v.daum.net/v/20210710093016901\" class=\"link_txt\" data-tiara-layer=\"RIGHT popular_news sports_list\" data-tiara-id=\"20210710093016901\" data-tiara-type=\"harmony\" data-tiara-ordnum=\"22\" data-tiara-custom=\"contentUniqueKey=hamny-20210710093016901\">\\n                                        \"박효준 놓치면 안되는데\" 7년 기다림 보상받을까? 양키스 매체의 걱정\\n                                    </a>\\n                                </strong>\\n                            </li>\\n                            <li>\\n                                <em class=\"num_news num23\">23위</em>\\n                                <strong class=\"tit_g\">\\n                                    <a href=\"https://v.daum.net/v/20210710140825782\" class=\"link_txt\" data-tiara-layer=\"RIGHT popular_news sports_list\" data-tiara-id=\"20210710140825782\" data-tiara-type=\"harmony\" data-tiara-ordnum=\"23\" data-tiara-custom=\"contentUniqueKey=hamny-20210710140825782\">\\n                                        \\'확진자 발생\\' 두산 \"선수단 전원 자택 대기..잠실은 방역 완료\" \\n                                    </a>\\n                                </strong>\\n                            </li>\\n                            <li>\\n                                <em class=\"num_news num24\">24위</em>\\n                                <strong class=\"tit_g\">\\n                                    <a href=\"https://v.daum.net/v/20210710131402285\" class=\"link_txt\" data-tiara-layer=\"RIGHT popular_news sports_list\" data-tiara-id=\"20210710131402285\" data-tiara-type=\"harmony\" data-tiara-ordnum=\"24\" data-tiara-custom=\"contentUniqueKey=hamny-20210710131402285\">\\n                                        PSG, 레알 주장 이어 바르사 주장도 품는다.. \\'즉시 협상 가능\\'\\n                                    </a>\\n                                </strong>\\n                            </li>\\n                            <li>\\n                                <em class=\"num_news num25\">25위</em>\\n                                <strong class=\"tit_g\">\\n                                    <a href=\"https://v.daum.net/v/20210710122018954\" class=\"link_txt\" data-tiara-layer=\"RIGHT popular_news sports_list\" data-tiara-id=\"20210710122018954\" data-tiara-type=\"harmony\" data-tiara-ordnum=\"25\" data-tiara-custom=\"contentUniqueKey=hamny-20210710122018954\">\\n                                        \\'패럴림픽 3회-장애인스키 레전드\\'서보라미 별세..향년35세\\n                                    </a>\\n                                </strong>\\n                            </li>\\n                            <li>\\n                                <em class=\"num_news num26\">26위</em>\\n                                <strong class=\"tit_g\">\\n                                    <a href=\"https://v.daum.net/v/20210709175503915\" class=\"link_txt\" data-tiara-layer=\"RIGHT popular_news sports_list\" data-tiara-id=\"20210709175503915\" data-tiara-type=\"harmony\" data-tiara-ordnum=\"26\" data-tiara-custom=\"contentUniqueKey=hamny-20210709175503915\">\\n                                        \\'병가 내고 유로 보러 간\\' 英 직장인, TV 중계 화면에 잡혀 해고\\n                                    </a>\\n                                </strong>\\n                            </li>\\n                            <li>\\n                                <em class=\"num_news num27\">27위</em>\\n                                <strong class=\"tit_g\">\\n                                    <a href=\"https://v.daum.net/v/20210710140220719\" class=\"link_txt\" data-tiara-layer=\"RIGHT popular_news sports_list\" data-tiara-id=\"20210710140220719\" data-tiara-type=\"harmony\" data-tiara-ordnum=\"27\" data-tiara-custom=\"contentUniqueKey=hamny-20210710140220719\">\\n                                         \\'강철부대\\' 김천, \\'7G 무패\\' 안양 꺾고 \\'창단 첫 6연승\\' 달성할까?\\n                                    </a>\\n                                </strong>\\n                            </li>\\n                            <li>\\n                                <em class=\"num_news num28\">28위</em>\\n                                <strong class=\"tit_g\">\\n                                    <a href=\"https://v.daum.net/v/20210709184014907\" class=\"link_txt\" data-tiara-layer=\"RIGHT popular_news sports_list\" data-tiara-id=\"20210709184014907\" data-tiara-type=\"harmony\" data-tiara-ordnum=\"28\" data-tiara-custom=\"contentUniqueKey=hamny-20210709184014907\">\\n                                        \"은혜를 원수로 갚았다\" 그리즈만 인종차별에 日 분노폭발\\xa0\\n                                    </a>\\n                                </strong>\\n                            </li>\\n                            <li>\\n                                <em class=\"num_news num29\">29위</em>\\n                                <strong class=\"tit_g\">\\n                                    <a href=\"https://v.daum.net/v/20210710115644702\" class=\"link_txt\" data-tiara-layer=\"RIGHT popular_news sports_list\" data-tiara-id=\"20210710115644702\" data-tiara-type=\"harmony\" data-tiara-ordnum=\"29\" data-tiara-custom=\"contentUniqueKey=hamny-20210710115644702\">\\n                                        오타니 또 넘겼다, 141m 대형 홈런 \\'시즌 33호-1위 질주\\'\\n                                    </a>\\n                                </strong>\\n                            </li>\\n                            <li>\\n                                <em class=\"num_news num30\">30위</em>\\n                                <strong class=\"tit_g\">\\n                                    <a href=\"https://v.daum.net/v/20210710102700687\" class=\"link_txt\" data-tiara-layer=\"RIGHT popular_news sports_list\" data-tiara-id=\"20210710102700687\" data-tiara-type=\"harmony\" data-tiara-ordnum=\"30\" data-tiara-custom=\"contentUniqueKey=hamny-20210710102700687\">\\n                                        \\'공격 본능\\' 깨어난 KIA 타이거즈, 거침없는 5연승 질주\\n                                    </a>\\n                                </strong>\\n                            </li>\\n                        </ol>\\n                </div>\\n            </li>\\n    </ul>\\n\\n    <div class=\"util_aside\" data-tiara-layer=\"RIGHT popular_news\">\\n        <button class=\"btn_slide btn_prev\" data-direction=\"prev\" data-tiara-layer=\"btn_prev\" style=\"outline: 0px;\"><span class=\"ico_news\">이전</span></button>\\n        <button class=\"btn_slide btn_next\" data-direction=\"next\" data-tiara-layer=\"btn_after\" style=\"outline: 0px;\"><span class=\"ico_news\">다음</span></button>\\n        <a href=\"/ranking/\" class=\"link_all\" data-tiara-layer=\"more\"><span class=\"txt_news\">전체보기</span><span class=\"ico_news\"></span></a>\\n    </div>\\n</div>\\n\\n\\n    <div class=\"aside_g aside_series\">\\n        <h3 class=\"tit_news\">추천연재</h3>\\n        <div class=\"cont_aside\">\\n            <ul class=\"list_thumb\">\\n                    <li>\\n                            <a href=\"https://v.daum.net/v/20210710150020247\" class=\"link_thumb\">\\n                                <img src=\"https://img1.daumcdn.net/thumb/S62x62ht.u/?fname=https%3A%2F%2Ft1.daumcdn.net%2Fnews%2F202107%2F10%2Fseouleconomy%2F20210710150023231bdvc.jpg&scode=media\" class=\"thumb_g\" alt=\"동두천도 20% 폭등..집값 고점인데 또 오르나 [집슐랭]\" width=\"62\" height=\"62\" aria-hidden=\"true\" />\\n                            </a>\\n                        <div class=\"cont_thumb\">\\n                            <em class=\"emph_g tit_series\"><a href=\"/series/5094115\" class=\"link_txt\">집슐랭</a></em>\\n                            <strong class=\"tit_thumb\"><a href=\"https://v.daum.net/v/20210710150020247\" class=\"link_txt\">동두천도 20% 폭등..집값 고점인데 또 오르나 </a></strong>\\n                        </div>\\n                    </li>\\n                    <li>\\n                            <a href=\"https://v.daum.net/v/20210710142607947\" class=\"link_thumb\">\\n                                <img src=\"https://img1.daumcdn.net/thumb/S62x62ht.u/?fname=https%3A%2F%2Ft1.daumcdn.net%2Fnews%2F202107%2F10%2Fseoul%2F20210710142608570eriv.jpg&scode=media\" class=\"thumb_g\" alt=\"[취중생] 강서구 저소득층 일가족의 비극, 막을 수 없었을까\" width=\"62\" height=\"62\" aria-hidden=\"true\" />\\n                            </a>\\n                        <div class=\"cont_thumb\">\\n                            <em class=\"emph_g tit_series\"><a href=\"/series/5120843\" class=\"link_txt\">취중생</a></em>\\n                            <strong class=\"tit_thumb\"><a href=\"https://v.daum.net/v/20210710142607947\" class=\"link_txt\"> 강서구 저소득층 일가족의 비극, 막을 수 없었을까</a></strong>\\n                        </div>\\n                    </li>\\n            </ul>\\n        </div>\\n    </div>\\n<div class=\"aside_shopping\">\\n    <h3 class=\"screen_out\">광고</h3>\\n    <div class=\"cont_aside\">\\n        <div id=\"daum-sfocus-root\">\\n            <ins class=\"kakao_ad_area\" style=\"display:block\"\\n                 data-ad-param-channel=\"media\"\\n                 data-ad-param-cp=\"pc_media_news\"\\n                 data-ad-frame-id = \"AMS_250exp\"\\n                 data-ad-frame-name = \"AMS_250exp\"\\n                                            data-ad-unit = \"DAN-WApyM79GH3N7yEg9\"\\n                 data-ad-type = \"D\"\\n                 data-ad-width = \"250\"\\n                 data-ad-height = \"250\"></ins>\\n        </div>\\n    </div>\\n</div>\\n\\n</div>\\n    </div>\\n</div>\\n\\n\\n<hr class=\"hide\">\\n<div id=\"kakaoFoot\" class=\"footer_comm\" role=\"contentinfo\">\\n\\t<div class=\"inner_foot #FOOTER\" data-tiara-layer=\"FOOTER\">\\n\\t\\t<div class=\"direct_link #direct\" data-tiara-layer=\"direct\"> \\n\\t\\t\\t<h2 class=\"tit_direct\">바로가기</h2>\\n\\t\\t\\t<div class=\"item_bundle\">\\n\\t\\t\\t\\t<a href=\"/\" class=\"link_txt #direct_newshome\" data-tiara-layer=\"direct_newshome\">뉴스홈</a>\\n\\t\\t\\t\\t<a href=\"/society\" class=\"link_txt #direct_society\" data-tiara-layer=\"direct_society\" style=\"display: none;\">사회</a>\\n\\t\\t\\t\\t<a href=\"/politics\" class=\"link_txt #direct_politics\" data-tiara-layer=\"direct_politics\" style=\"display: none;\">정치</a>\\n\\t\\t\\t\\t<a href=\"/economic\" class=\"link_txt #direct_economic\" data-tiara-layer=\"direct_economic\" style=\"display: none;\">경제</a>\\n\\t\\t\\t\\t<a href=\"/foreign\" class=\"link_txt #direct_foreign\" data-tiara-layer=\"direct_foreign\" style=\"display: none;\">국제</a>\\n\\t\\t\\t\\t<a href=\"/culture\" class=\"link_txt #direct_culture\" data-tiara-layer=\"direct_culture\" style=\"display: none;\">문화</a>\\n\\t\\t\\t\\t<a href=\"/digital\" class=\"link_txt #direct_digital\" data-tiara-layer=\"direct_digital\" style=\"display: none;\">IT</a>\\n\\t\\t\\t\\t<a href=\"/photo\" class=\"link_txt #direct_photo\" data-tiara-layer=\"direct_photo\" style=\"display: none;\">포토</a>\\n\\t\\t\\t\\t<a href=\"/tv\" class=\"link_txt #direct_tv\" data-tiara-layer=\"direct_tv\" style=\"display: none;\">TV</a>\\n\\t\\t\\t</div>\\n\\t\\t\\t<div class=\"item_bundle\">\\n\\t\\t\\t\\t<a href=\"/cp\" class=\"link_txt #direct_media\" data-tiara-layer=\"direct_media\">언론사별 뉴스</a>\\n\\t\\t\\t</div>\\n\\t\\t\\t<div class=\"item_bundle\">\\n\\t\\t\\t\\t<a href=\"/newsbox\" class=\"link_txt #direct_history\" data-tiara-layer=\"direct_history\">배열이력</a>\\n\\t\\t\\t</div>\\n\\t\\t\\t<div class=\"item_bundle\">\\n\\t\\t\\t\\t<a href=\"/breakingnews\" class=\"link_txt #direct_all\" data-tiara-layer=\"direct_all\">전체뉴스</a>\\n\\t\\t\\t\\t<a href=\"/ranking/popular\" class=\"link_txt #direct_rank\" data-tiara-layer=\"direct_rank\" style=\"display: none;\">랭킹</a>\\n\\t\\t\\t\\t<a href=\"/series\" class=\"link_txt #direct_series\" data-tiara-layer=\"direct_series\" style=\"display: none;\">연재</a>\\n\\t\\t\\t</div>\\n\\t\\t\\t<button type=\"button\" class=\"btn_fold\" style=\"outline: 0px;\"><span class=\"ico_news\">바로가기 링크 더보기/접기</span></button>\\n\\n\\t\\t</div>\\n\\t\\t<h2 class=\"screen_out\">서비스 이용정보</h2>\\n\\t\\t<div class=\"footer_link\">\\n\\t\\t\\t<a href=\"/info/intro\" class=\"link_info #info_daumnews\" data-tiara-layer=\"info_daumnews\">다음뉴스 소개</a> <span class=\"txt_dot\"> ・ </span>\\n\\t\\t\\t<a href=\"https://magazine.daum.net/daumnews_notice\" class=\"link_info #notice\" data-tiara-layer=\"notice\">공지사항</a> <span class=\"txt_dot\"> ・ </span>\\n\\t\\t\\t<a href=\"/info/bbsrule\" class=\"link_info #bbsrule\" data-tiara-layer=\"bbsrule\">게시물 운영원칙</a> <span class=\"txt_dot\"> ・ </span>\\n\\t\\t\\t<a href=\"http://policy.daum.net/info/info\" class=\"link_info #policy\" data-tiara-layer=\"policy\">서비스 약관/정책</a> <span class=\"txt_dot\"> ・ </span>\\n\\t\\t\\t<a href=\"https://with.kakao.com/media\" class=\"link_info #harmony\" data-tiara-layer=\"harmony\">뉴스제휴</a> <span class=\"txt_dot\"> ・ </span>\\n\\t\\t\\t<a href=\"https://business.kakao.com\" class=\"link_info #adinfo\" data-tiara-layer=\"adinfo\">비즈니스</a> <span class=\"txt_dot\"> ・ </span>\\n\\t\\t\\t<a href=\"https://cs.daum.net/redbell/top.html\" class=\"link_info #redbell\" data-tiara-layer=\"redbell\">권리침해신고</a> <span class=\"txt_dot\"> ・ </span>\\n\\t\\t\\t<a href=\"http://cs.daum.net/faq/63.html\" class=\"link_info #consumer\" data-tiara-layer=\"consumer\">다음뉴스 고객센터</a>\\n\\t\\t</div>\\n\\t\\t<div class=\"footer_link\">\\n\\t\\t\\t<a href=\"/info/newscenter24\" class=\"link_info #newscenter\" data-tiara-layer=\"newscenter\">24시간 뉴스센터</a> <span class=\"txt_dot\"> ・ </span>\\n\\t\\t\\t<a href=\"/info/edit\" class=\"link_info #edit\" data-tiara-layer=\"edit\">서비스원칙</a> <span class=\"txt_dot\"> ・ </span>\\n\\t\\t\\t<a href=\"/info/correct\" class=\"link_info #correct\" data-tiara-layer=\"correct\">바로잡습니다</a> <span class=\"txt_dot\"> ・ </span>\\n\\t\\t\\t<span class=\"link_info\">기사배열책임자 : 김희정</span> <span class=\"txt_dot\"> ・ </span>\\n\\t\\t\\t<span class=\"link_info\">청소년보호책임자 : 이준목</span>\\n\\t\\t</div>\\n\\t\\t<div class=\"info_copyright\">\\n\\t\\t\\t<strong class=\"info_warn\">뉴스 기사에 대한 저작권 및 법적 책임은 자료제공사 또는 <br>글쓴이에 있으며, Kakao의 입장과 다를 수 있습니다.</strong>\\n\\t\\t\\t<small class=\"txt_copyright\">Copyright © <strong class=\"txt_kakao\"><a href=\"http://www.kakaocorp.com/\" class=\"link_kakao\">Kakao Corp.</a></strong> All rights reserved.</small>\\n\\t\\t</div>\\n\\t</div>\\n</div>\\n\\n<script src=\"//t1.daumcdn.net/media/kraken/news/5dbfb0e/footer.merged.js\"></script>\\n    <script async type=\"text/javascript\" src=\"//t1.daumcdn.net/kas/static/ba.min.js\"></script>\\n</div>\\n</body>\\n</html>\\n'"
            ]
          },
          "metadata": {
            "tags": []
          },
          "execution_count": 65
        }
      ]
    },
    {
      "cell_type": "code",
      "metadata": {
        "colab": {
          "base_uri": "https://localhost:8080/"
        },
        "id": "8Ltzlb7-Af2t",
        "outputId": "36c7f032-a0d5-4539-d3ec-77fca54c5593"
      },
      "source": [
        "html = bs(wp, 'html.parser')\n",
        "type(html)"
      ],
      "execution_count": 67,
      "outputs": [
        {
          "output_type": "execute_result",
          "data": {
            "text/plain": [
              "bs4.BeautifulSoup"
            ]
          },
          "metadata": {
            "tags": []
          },
          "execution_count": 67
        }
      ]
    },
    {
      "cell_type": "code",
      "metadata": {
        "id": "jMpayEvPA9MG"
      },
      "source": [
        "lis = html.select('#mArticle > div.rank_news > ul.list_news2 > li')"
      ],
      "execution_count": 69,
      "outputs": []
    },
    {
      "cell_type": "code",
      "metadata": {
        "colab": {
          "base_uri": "https://localhost:8080/"
        },
        "id": "YhIf-UohB-ei",
        "outputId": "47d4d974-8df2-4652-afb1-f26a78cf0dcf"
      },
      "source": [
        "print(type(lis), len(lis))"
      ],
      "execution_count": 63,
      "outputs": [
        {
          "output_type": "stream",
          "text": [
            "<class 'list'> 50\n"
          ],
          "name": "stdout"
        }
      ]
    },
    {
      "cell_type": "code",
      "metadata": {
        "colab": {
          "base_uri": "https://localhost:8080/"
        },
        "id": "uTy7oYwWDLGa",
        "outputId": "85e16b47-90ed-4902-8788-f32f230438c1"
      },
      "source": [
        "lis[1]"
      ],
      "execution_count": 70,
      "outputs": [
        {
          "output_type": "execute_result",
          "data": {
            "text/plain": [
              "<li data-tiara-layer=\"news_list\" data-tiara-ordnum=\"2\" data-tiara-type=\"article\">\n",
              "<div class=\"rank_num \">\n",
              "<span class=\"wrap_num\">\n",
              "<span class=\"num_rank\">\n",
              "<span class=\"num_news num2\"></span>\n",
              "<span class=\"screen_out\">2</span>\n",
              "</span>\n",
              "</span>\n",
              "<span class=\"info_rank\">\n",
              "<span class=\"screen_out\">댓글수</span>\n",
              "<span class=\"ico_news2\">3,531</span>\n",
              "</span>\n",
              "</div>\n",
              "<a class=\"link_thumb\" href=\"https://news.v.daum.net/v/20210710120930857\">\n",
              "<img alt='\"망신도 이런 X망신이\" 김건희 논문 표절 의혹, 국민대생도 뿔났다' aria-hidden=\"true\" class=\"thumb_g\" src=\"https://img1.daumcdn.net/thumb/S95x77ht.u/?fname=https%3A%2F%2Ft1.daumcdn.net%2Fnews%2F202107%2F10%2Fakn%2F20210710120931929kvry.jpg&amp;scode=media\"/>\n",
              "</a>\n",
              "<div class=\"cont_thumb\">\n",
              "<strong class=\"tit_thumb\">\n",
              "<a class=\"link_txt\" href=\"https://news.v.daum.net/v/20210710120930857\">\"망신도 이런 X망신이\" 김건희 논문 표절 의혹, 국민대생도 뿔났다</a>\n",
              "<span class=\"info_news\">아시아경제</span>\n",
              "</strong>\n",
              "<div class=\"desc_thumb\">\n",
              "<span class=\"link_txt\">\n",
              "                        [아시아경제 황수미 기자] 윤석열 전 검찰총장 배우자 김건희 씨의 박사 학위 논문 표절 의혹과 관련해 국민대 측에 진상 규명과 재발 방지를 요구하는 학내 구성원들의...\n",
              "                    </span>\n",
              "</div>\n",
              "</div>\n",
              "</li>"
            ]
          },
          "metadata": {
            "tags": []
          },
          "execution_count": 70
        }
      ]
    },
    {
      "cell_type": "code",
      "metadata": {
        "colab": {
          "base_uri": "https://localhost:8080/",
          "height": 35
        },
        "id": "vhMD6BJICt-L",
        "outputId": "49f77d10-b76c-4aa2-b1e5-886d2d29b3cb"
      },
      "source": [
        "#순위\n",
        "rank = lis[0].select_one('.screen_out').text\n",
        "rank"
      ],
      "execution_count": 53,
      "outputs": [
        {
          "output_type": "execute_result",
          "data": {
            "application/vnd.google.colaboratory.intrinsic+json": {
              "type": "string"
            },
            "text/plain": [
              "'1'"
            ]
          },
          "metadata": {
            "tags": []
          },
          "execution_count": 53
        }
      ]
    },
    {
      "cell_type": "code",
      "metadata": {
        "colab": {
          "base_uri": "https://localhost:8080/",
          "height": 35
        },
        "id": "rlz4hTn6DJzy",
        "outputId": "5389993c-d30e-4ec1-ea06-4bce1af1eea3"
      },
      "source": [
        "#댓글수\n",
        "num = lis[0].select_one('.ico_news2').text  \n",
        "num = num.replace(',', '')\n",
        "num"
      ],
      "execution_count": 78,
      "outputs": [
        {
          "output_type": "execute_result",
          "data": {
            "application/vnd.google.colaboratory.intrinsic+json": {
              "type": "string"
            },
            "text/plain": [
              "'3847'"
            ]
          },
          "metadata": {
            "tags": []
          },
          "execution_count": 78
        }
      ]
    },
    {
      "cell_type": "code",
      "metadata": {
        "colab": {
          "base_uri": "https://localhost:8080/",
          "height": 35
        },
        "id": "dQG1GQ_wEigm",
        "outputId": "a0796663-22b7-4957-d208-4923658a30b9"
      },
      "source": [
        "#제목\n",
        "title = lis[0].select_one('.link_txt').text\n",
        "title = title.replace('\"', '')\n",
        "title = title.replace(\"'\", \"\")\n",
        "title"
      ],
      "execution_count": 72,
      "outputs": [
        {
          "output_type": "execute_result",
          "data": {
            "application/vnd.google.colaboratory.intrinsic+json": {
              "type": "string"
            },
            "text/plain": [
              "'윤석열 정부는 백신을 빠르게 수급해오시길 촉구드린다'"
            ]
          },
          "metadata": {
            "tags": []
          },
          "execution_count": 72
        }
      ]
    },
    {
      "cell_type": "code",
      "metadata": {
        "colab": {
          "base_uri": "https://localhost:8080/",
          "height": 35
        },
        "id": "5yGCHdMUE4B0",
        "outputId": "557cb785-5c1d-4128-a5e1-f32962615bd3"
      },
      "source": [
        "#언론사\n",
        "comp = lis[0].select_one('.info_news').text\n",
        "comp"
      ],
      "execution_count": 73,
      "outputs": [
        {
          "output_type": "execute_result",
          "data": {
            "application/vnd.google.colaboratory.intrinsic+json": {
              "type": "string"
            },
            "text/plain": [
              "'경향신문'"
            ]
          },
          "metadata": {
            "tags": []
          },
          "execution_count": 73
        }
      ]
    },
    {
      "cell_type": "code",
      "metadata": {
        "colab": {
          "base_uri": "https://localhost:8080/",
          "height": 136
        },
        "id": "gYWRQapSFAvf",
        "outputId": "b1ec505c-17a9-4b1d-8b58-01f8c726876b"
      },
      "source": [
        "for li in lis : \n",
        "  rank = li.select_one('.screen_out').text\n",
        "  num = li.select_one('.ico_news2').text  \n",
        "  num = num.replace(',', '')\n",
        "  title = li.select_one('.link_txt').text\n",
        "  title = title.replace('\"', '')\n",
        "  title = title.replace(\"'\", \"\")\n",
        "  comp = li.select_one('.info_news').text\n",
        "\n",
        "  line = f'{rank},{title},{num},{comp}'\n",
        "  print(line)"
      ],
      "execution_count": 80,
      "outputs": [
        {
          "output_type": "error",
          "ename": "IndentationError",
          "evalue": "ignored",
          "traceback": [
            "\u001b[0;36m  File \u001b[0;32m\"<ipython-input-80-c70d5cb2a16c>\"\u001b[0;36m, line \u001b[0;32m14\u001b[0m\n\u001b[0;31m    url = \"http://svc.saltlux.ai:31781\"\u001b[0m\n\u001b[0m      ^\u001b[0m\n\u001b[0;31mIndentationError\u001b[0m\u001b[0;31m:\u001b[0m expected an indented block\n"
          ]
        }
      ]
    },
    {
      "cell_type": "code",
      "metadata": {
        "id": "Es93IBnWKFvf"
      },
      "source": [
        "def aiData(msg) :\n",
        "  url =  \"http://svc.saltlux.ai:31781\"\n",
        "  headers={\"Content-Type\":\"application/json\" } \n",
        "\n",
        "  apiKey =  \"21d0ff7f-6c52-47d3-920f-211a5a32f6bd\"\n",
        "  rqData = {\n",
        "    \"key\": apiKey,    \n",
        "    \"serviceId\": \"11987300804\",\n",
        "    \"argument\": {\n",
        "        \"type\": \"0\",\n",
        "        \"query\": msg\n",
        "    }\n",
        "  }\n",
        "\n",
        "  # 요청 객체 생성 \n",
        "  req  = Request(url, headers=headers)\n",
        "\n",
        "  # 전달 데이터 json 형태로 만들기\n",
        "  jdata = json.dumps(rqData).encode('utf-8')\n",
        "\n",
        "  #요청\n",
        "  response = urlopen(req, jdata)\n",
        "  resp = response.read().decode('utf-8')\n",
        "  resp = json.loads(resp)\n",
        "  score = resp['score']\n",
        "  label = resp['label']\n",
        "\n",
        "  return label, score"
      ],
      "execution_count": null,
      "outputs": []
    },
    {
      "cell_type": "code",
      "metadata": {
        "colab": {
          "base_uri": "https://localhost:8080/",
          "height": 324
        },
        "id": "dsJrrOjBKMOH",
        "outputId": "ed43e41a-faea-4a00-ebac-1ec21a2fb239"
      },
      "source": [
        "aiData('윤석열 정부는 백신을 빠르게 수급해오시길 촉구드린다.')"
      ],
      "execution_count": 165,
      "outputs": [
        {
          "output_type": "error",
          "ename": "RemoteDisconnected",
          "evalue": "ignored",
          "traceback": [
            "\u001b[0;31m---------------------------------------------------------------------------\u001b[0m",
            "\u001b[0;31mRemoteDisconnected\u001b[0m                        Traceback (most recent call last)",
            "\u001b[0;32m<ipython-input-165-85556f1281f6>\u001b[0m in \u001b[0;36m<module>\u001b[0;34m()\u001b[0m\n\u001b[0;32m----> 1\u001b[0;31m \u001b[0maiData\u001b[0m\u001b[0;34m(\u001b[0m\u001b[0;34m'윤석열 정부는 백신을 빠르게 수급해오시길 촉구드린다.'\u001b[0m\u001b[0;34m)\u001b[0m\u001b[0;34m\u001b[0m\u001b[0;34m\u001b[0m\u001b[0m\n\u001b[0m",
            "\u001b[0;32m<ipython-input-155-00fc6aa6d9df>\u001b[0m in \u001b[0;36maiData\u001b[0;34m(msg)\u001b[0m\n\u001b[1;32m     20\u001b[0m \u001b[0;34m\u001b[0m\u001b[0m\n\u001b[1;32m     21\u001b[0m   \u001b[0;31m#요청\u001b[0m\u001b[0;34m\u001b[0m\u001b[0;34m\u001b[0m\u001b[0;34m\u001b[0m\u001b[0m\n\u001b[0;32m---> 22\u001b[0;31m   \u001b[0mresponse\u001b[0m \u001b[0;34m=\u001b[0m \u001b[0murlopen\u001b[0m\u001b[0;34m(\u001b[0m\u001b[0mreq\u001b[0m\u001b[0;34m,\u001b[0m \u001b[0mjdata\u001b[0m\u001b[0;34m)\u001b[0m\u001b[0;34m\u001b[0m\u001b[0;34m\u001b[0m\u001b[0m\n\u001b[0m\u001b[1;32m     23\u001b[0m   \u001b[0mresp\u001b[0m \u001b[0;34m=\u001b[0m \u001b[0mresponse\u001b[0m\u001b[0;34m.\u001b[0m\u001b[0mread\u001b[0m\u001b[0;34m(\u001b[0m\u001b[0;34m)\u001b[0m\u001b[0;34m.\u001b[0m\u001b[0mdecode\u001b[0m\u001b[0;34m(\u001b[0m\u001b[0;34m'utf-8'\u001b[0m\u001b[0;34m)\u001b[0m\u001b[0;34m\u001b[0m\u001b[0;34m\u001b[0m\u001b[0m\n\u001b[1;32m     24\u001b[0m   \u001b[0mresp\u001b[0m \u001b[0;34m=\u001b[0m \u001b[0mjson\u001b[0m\u001b[0;34m.\u001b[0m\u001b[0mloads\u001b[0m\u001b[0;34m(\u001b[0m\u001b[0mresp\u001b[0m\u001b[0;34m)\u001b[0m\u001b[0;34m\u001b[0m\u001b[0;34m\u001b[0m\u001b[0m\n",
            "\u001b[0;32m/usr/lib/python3.7/urllib/request.py\u001b[0m in \u001b[0;36murlopen\u001b[0;34m(url, data, timeout, cafile, capath, cadefault, context)\u001b[0m\n\u001b[1;32m    220\u001b[0m     \u001b[0;32melse\u001b[0m\u001b[0;34m:\u001b[0m\u001b[0;34m\u001b[0m\u001b[0;34m\u001b[0m\u001b[0m\n\u001b[1;32m    221\u001b[0m         \u001b[0mopener\u001b[0m \u001b[0;34m=\u001b[0m \u001b[0m_opener\u001b[0m\u001b[0;34m\u001b[0m\u001b[0;34m\u001b[0m\u001b[0m\n\u001b[0;32m--> 222\u001b[0;31m     \u001b[0;32mreturn\u001b[0m \u001b[0mopener\u001b[0m\u001b[0;34m.\u001b[0m\u001b[0mopen\u001b[0m\u001b[0;34m(\u001b[0m\u001b[0murl\u001b[0m\u001b[0;34m,\u001b[0m \u001b[0mdata\u001b[0m\u001b[0;34m,\u001b[0m \u001b[0mtimeout\u001b[0m\u001b[0;34m)\u001b[0m\u001b[0;34m\u001b[0m\u001b[0;34m\u001b[0m\u001b[0m\n\u001b[0m\u001b[1;32m    223\u001b[0m \u001b[0;34m\u001b[0m\u001b[0m\n\u001b[1;32m    224\u001b[0m \u001b[0;32mdef\u001b[0m \u001b[0minstall_opener\u001b[0m\u001b[0;34m(\u001b[0m\u001b[0mopener\u001b[0m\u001b[0;34m)\u001b[0m\u001b[0;34m:\u001b[0m\u001b[0;34m\u001b[0m\u001b[0;34m\u001b[0m\u001b[0m\n",
            "\u001b[0;32m/usr/lib/python3.7/urllib/request.py\u001b[0m in \u001b[0;36mopen\u001b[0;34m(self, fullurl, data, timeout)\u001b[0m\n\u001b[1;32m    523\u001b[0m             \u001b[0mreq\u001b[0m \u001b[0;34m=\u001b[0m \u001b[0mmeth\u001b[0m\u001b[0;34m(\u001b[0m\u001b[0mreq\u001b[0m\u001b[0;34m)\u001b[0m\u001b[0;34m\u001b[0m\u001b[0;34m\u001b[0m\u001b[0m\n\u001b[1;32m    524\u001b[0m \u001b[0;34m\u001b[0m\u001b[0m\n\u001b[0;32m--> 525\u001b[0;31m         \u001b[0mresponse\u001b[0m \u001b[0;34m=\u001b[0m \u001b[0mself\u001b[0m\u001b[0;34m.\u001b[0m\u001b[0m_open\u001b[0m\u001b[0;34m(\u001b[0m\u001b[0mreq\u001b[0m\u001b[0;34m,\u001b[0m \u001b[0mdata\u001b[0m\u001b[0;34m)\u001b[0m\u001b[0;34m\u001b[0m\u001b[0;34m\u001b[0m\u001b[0m\n\u001b[0m\u001b[1;32m    526\u001b[0m \u001b[0;34m\u001b[0m\u001b[0m\n\u001b[1;32m    527\u001b[0m         \u001b[0;31m# post-process response\u001b[0m\u001b[0;34m\u001b[0m\u001b[0;34m\u001b[0m\u001b[0;34m\u001b[0m\u001b[0m\n",
            "\u001b[0;32m/usr/lib/python3.7/urllib/request.py\u001b[0m in \u001b[0;36m_open\u001b[0;34m(self, req, data)\u001b[0m\n\u001b[1;32m    541\u001b[0m         \u001b[0mprotocol\u001b[0m \u001b[0;34m=\u001b[0m \u001b[0mreq\u001b[0m\u001b[0;34m.\u001b[0m\u001b[0mtype\u001b[0m\u001b[0;34m\u001b[0m\u001b[0;34m\u001b[0m\u001b[0m\n\u001b[1;32m    542\u001b[0m         result = self._call_chain(self.handle_open, protocol, protocol +\n\u001b[0;32m--> 543\u001b[0;31m                                   '_open', req)\n\u001b[0m\u001b[1;32m    544\u001b[0m         \u001b[0;32mif\u001b[0m \u001b[0mresult\u001b[0m\u001b[0;34m:\u001b[0m\u001b[0;34m\u001b[0m\u001b[0;34m\u001b[0m\u001b[0m\n\u001b[1;32m    545\u001b[0m             \u001b[0;32mreturn\u001b[0m \u001b[0mresult\u001b[0m\u001b[0;34m\u001b[0m\u001b[0;34m\u001b[0m\u001b[0m\n",
            "\u001b[0;32m/usr/lib/python3.7/urllib/request.py\u001b[0m in \u001b[0;36m_call_chain\u001b[0;34m(self, chain, kind, meth_name, *args)\u001b[0m\n\u001b[1;32m    501\u001b[0m         \u001b[0;32mfor\u001b[0m \u001b[0mhandler\u001b[0m \u001b[0;32min\u001b[0m \u001b[0mhandlers\u001b[0m\u001b[0;34m:\u001b[0m\u001b[0;34m\u001b[0m\u001b[0;34m\u001b[0m\u001b[0m\n\u001b[1;32m    502\u001b[0m             \u001b[0mfunc\u001b[0m \u001b[0;34m=\u001b[0m \u001b[0mgetattr\u001b[0m\u001b[0;34m(\u001b[0m\u001b[0mhandler\u001b[0m\u001b[0;34m,\u001b[0m \u001b[0mmeth_name\u001b[0m\u001b[0;34m)\u001b[0m\u001b[0;34m\u001b[0m\u001b[0;34m\u001b[0m\u001b[0m\n\u001b[0;32m--> 503\u001b[0;31m             \u001b[0mresult\u001b[0m \u001b[0;34m=\u001b[0m \u001b[0mfunc\u001b[0m\u001b[0;34m(\u001b[0m\u001b[0;34m*\u001b[0m\u001b[0margs\u001b[0m\u001b[0;34m)\u001b[0m\u001b[0;34m\u001b[0m\u001b[0;34m\u001b[0m\u001b[0m\n\u001b[0m\u001b[1;32m    504\u001b[0m             \u001b[0;32mif\u001b[0m \u001b[0mresult\u001b[0m \u001b[0;32mis\u001b[0m \u001b[0;32mnot\u001b[0m \u001b[0;32mNone\u001b[0m\u001b[0;34m:\u001b[0m\u001b[0;34m\u001b[0m\u001b[0;34m\u001b[0m\u001b[0m\n\u001b[1;32m    505\u001b[0m                 \u001b[0;32mreturn\u001b[0m \u001b[0mresult\u001b[0m\u001b[0;34m\u001b[0m\u001b[0;34m\u001b[0m\u001b[0m\n",
            "\u001b[0;32m/usr/lib/python3.7/urllib/request.py\u001b[0m in \u001b[0;36mhttp_open\u001b[0;34m(self, req)\u001b[0m\n\u001b[1;32m   1376\u001b[0m \u001b[0;34m\u001b[0m\u001b[0m\n\u001b[1;32m   1377\u001b[0m     \u001b[0;32mdef\u001b[0m \u001b[0mhttp_open\u001b[0m\u001b[0;34m(\u001b[0m\u001b[0mself\u001b[0m\u001b[0;34m,\u001b[0m \u001b[0mreq\u001b[0m\u001b[0;34m)\u001b[0m\u001b[0;34m:\u001b[0m\u001b[0;34m\u001b[0m\u001b[0;34m\u001b[0m\u001b[0m\n\u001b[0;32m-> 1378\u001b[0;31m         \u001b[0;32mreturn\u001b[0m \u001b[0mself\u001b[0m\u001b[0;34m.\u001b[0m\u001b[0mdo_open\u001b[0m\u001b[0;34m(\u001b[0m\u001b[0mhttp\u001b[0m\u001b[0;34m.\u001b[0m\u001b[0mclient\u001b[0m\u001b[0;34m.\u001b[0m\u001b[0mHTTPConnection\u001b[0m\u001b[0;34m,\u001b[0m \u001b[0mreq\u001b[0m\u001b[0;34m)\u001b[0m\u001b[0;34m\u001b[0m\u001b[0;34m\u001b[0m\u001b[0m\n\u001b[0m\u001b[1;32m   1379\u001b[0m \u001b[0;34m\u001b[0m\u001b[0m\n\u001b[1;32m   1380\u001b[0m     \u001b[0mhttp_request\u001b[0m \u001b[0;34m=\u001b[0m \u001b[0mAbstractHTTPHandler\u001b[0m\u001b[0;34m.\u001b[0m\u001b[0mdo_request_\u001b[0m\u001b[0;34m\u001b[0m\u001b[0;34m\u001b[0m\u001b[0m\n",
            "\u001b[0;32m/usr/lib/python3.7/urllib/request.py\u001b[0m in \u001b[0;36mdo_open\u001b[0;34m(self, http_class, req, **http_conn_args)\u001b[0m\n\u001b[1;32m   1351\u001b[0m             \u001b[0;32mexcept\u001b[0m \u001b[0mOSError\u001b[0m \u001b[0;32mas\u001b[0m \u001b[0merr\u001b[0m\u001b[0;34m:\u001b[0m \u001b[0;31m# timeout error\u001b[0m\u001b[0;34m\u001b[0m\u001b[0;34m\u001b[0m\u001b[0m\n\u001b[1;32m   1352\u001b[0m                 \u001b[0;32mraise\u001b[0m \u001b[0mURLError\u001b[0m\u001b[0;34m(\u001b[0m\u001b[0merr\u001b[0m\u001b[0;34m)\u001b[0m\u001b[0;34m\u001b[0m\u001b[0;34m\u001b[0m\u001b[0m\n\u001b[0;32m-> 1353\u001b[0;31m             \u001b[0mr\u001b[0m \u001b[0;34m=\u001b[0m \u001b[0mh\u001b[0m\u001b[0;34m.\u001b[0m\u001b[0mgetresponse\u001b[0m\u001b[0;34m(\u001b[0m\u001b[0;34m)\u001b[0m\u001b[0;34m\u001b[0m\u001b[0;34m\u001b[0m\u001b[0m\n\u001b[0m\u001b[1;32m   1354\u001b[0m         \u001b[0;32mexcept\u001b[0m\u001b[0;34m:\u001b[0m\u001b[0;34m\u001b[0m\u001b[0;34m\u001b[0m\u001b[0m\n\u001b[1;32m   1355\u001b[0m             \u001b[0mh\u001b[0m\u001b[0;34m.\u001b[0m\u001b[0mclose\u001b[0m\u001b[0;34m(\u001b[0m\u001b[0;34m)\u001b[0m\u001b[0;34m\u001b[0m\u001b[0;34m\u001b[0m\u001b[0m\n",
            "\u001b[0;32m/usr/lib/python3.7/http/client.py\u001b[0m in \u001b[0;36mgetresponse\u001b[0;34m(self)\u001b[0m\n\u001b[1;32m   1367\u001b[0m         \u001b[0;32mtry\u001b[0m\u001b[0;34m:\u001b[0m\u001b[0;34m\u001b[0m\u001b[0;34m\u001b[0m\u001b[0m\n\u001b[1;32m   1368\u001b[0m             \u001b[0;32mtry\u001b[0m\u001b[0;34m:\u001b[0m\u001b[0;34m\u001b[0m\u001b[0;34m\u001b[0m\u001b[0m\n\u001b[0;32m-> 1369\u001b[0;31m                 \u001b[0mresponse\u001b[0m\u001b[0;34m.\u001b[0m\u001b[0mbegin\u001b[0m\u001b[0;34m(\u001b[0m\u001b[0;34m)\u001b[0m\u001b[0;34m\u001b[0m\u001b[0;34m\u001b[0m\u001b[0m\n\u001b[0m\u001b[1;32m   1370\u001b[0m             \u001b[0;32mexcept\u001b[0m \u001b[0mConnectionError\u001b[0m\u001b[0;34m:\u001b[0m\u001b[0;34m\u001b[0m\u001b[0;34m\u001b[0m\u001b[0m\n\u001b[1;32m   1371\u001b[0m                 \u001b[0mself\u001b[0m\u001b[0;34m.\u001b[0m\u001b[0mclose\u001b[0m\u001b[0;34m(\u001b[0m\u001b[0;34m)\u001b[0m\u001b[0;34m\u001b[0m\u001b[0;34m\u001b[0m\u001b[0m\n",
            "\u001b[0;32m/usr/lib/python3.7/http/client.py\u001b[0m in \u001b[0;36mbegin\u001b[0;34m(self)\u001b[0m\n\u001b[1;32m    308\u001b[0m         \u001b[0;31m# read until we get a non-100 response\u001b[0m\u001b[0;34m\u001b[0m\u001b[0;34m\u001b[0m\u001b[0;34m\u001b[0m\u001b[0m\n\u001b[1;32m    309\u001b[0m         \u001b[0;32mwhile\u001b[0m \u001b[0;32mTrue\u001b[0m\u001b[0;34m:\u001b[0m\u001b[0;34m\u001b[0m\u001b[0;34m\u001b[0m\u001b[0m\n\u001b[0;32m--> 310\u001b[0;31m             \u001b[0mversion\u001b[0m\u001b[0;34m,\u001b[0m \u001b[0mstatus\u001b[0m\u001b[0;34m,\u001b[0m \u001b[0mreason\u001b[0m \u001b[0;34m=\u001b[0m \u001b[0mself\u001b[0m\u001b[0;34m.\u001b[0m\u001b[0m_read_status\u001b[0m\u001b[0;34m(\u001b[0m\u001b[0;34m)\u001b[0m\u001b[0;34m\u001b[0m\u001b[0;34m\u001b[0m\u001b[0m\n\u001b[0m\u001b[1;32m    311\u001b[0m             \u001b[0;32mif\u001b[0m \u001b[0mstatus\u001b[0m \u001b[0;34m!=\u001b[0m \u001b[0mCONTINUE\u001b[0m\u001b[0;34m:\u001b[0m\u001b[0;34m\u001b[0m\u001b[0;34m\u001b[0m\u001b[0m\n\u001b[1;32m    312\u001b[0m                 \u001b[0;32mbreak\u001b[0m\u001b[0;34m\u001b[0m\u001b[0;34m\u001b[0m\u001b[0m\n",
            "\u001b[0;32m/usr/lib/python3.7/http/client.py\u001b[0m in \u001b[0;36m_read_status\u001b[0;34m(self)\u001b[0m\n\u001b[1;32m    277\u001b[0m             \u001b[0;31m# Presumably, the server closed the connection before\u001b[0m\u001b[0;34m\u001b[0m\u001b[0;34m\u001b[0m\u001b[0;34m\u001b[0m\u001b[0m\n\u001b[1;32m    278\u001b[0m             \u001b[0;31m# sending a valid response.\u001b[0m\u001b[0;34m\u001b[0m\u001b[0;34m\u001b[0m\u001b[0;34m\u001b[0m\u001b[0m\n\u001b[0;32m--> 279\u001b[0;31m             raise RemoteDisconnected(\"Remote end closed connection without\"\n\u001b[0m\u001b[1;32m    280\u001b[0m                                      \" response\")\n\u001b[1;32m    281\u001b[0m         \u001b[0;32mtry\u001b[0m\u001b[0;34m:\u001b[0m\u001b[0;34m\u001b[0m\u001b[0;34m\u001b[0m\u001b[0m\n",
            "\u001b[0;31mRemoteDisconnected\u001b[0m: Remote end closed connection without response"
          ]
        }
      ]
    },
    {
      "cell_type": "code",
      "metadata": {
        "colab": {
          "base_uri": "https://localhost:8080/"
        },
        "id": "sRzmVUDsT2Yn",
        "outputId": "998e7f6f-abb7-4f8c-990d-86ca0b4a1ab7"
      },
      "source": [
        "from google.colab import drive\n",
        "drive.mount('/content/drive')"
      ],
      "execution_count": 163,
      "outputs": [
        {
          "output_type": "stream",
          "text": [
            "Mounted at /content/drive\n"
          ],
          "name": "stdout"
        }
      ]
    },
    {
      "cell_type": "code",
      "metadata": {
        "id": "dNW9YK_RP5S0"
      },
      "source": [
        "with open('/content/drive/MyDrive/파이썬특강/2021_codelab/news.csv', 'w') as fp :\n",
        "  fp.write('순위,뉴스제목,댓글수,언론사,label,score\\n') \n",
        "\n",
        "for li in lis : \n",
        "  rank = li.select_one('.screen_out').text\n",
        "  num = li.select_one('.ico_news2').text  \n",
        "  num = num.replace(',', '')\n",
        "  title = li.select_one('.link_txt').text\n",
        "  title = title.replace('\"', '')\n",
        "  title = title.replace(\"'\", \"\")\n",
        "  title = title.replace(\",\", \"\")\n",
        "  comp = li.select_one('.info_news').text\n",
        "\n",
        "  label, score = (1,2)#aiData(title)\n",
        "\n",
        "  line = f'{rank},{title},{num},{comp},{label},{score}\\n'\n",
        "\n",
        "  with open('/content/drive/MyDrive/파이썬특강/2021_codelab/news.csv', 'w') as fp :\n",
        "    fp.write(line)\n",
        "\n",
        "  print(line)"
      ],
      "execution_count": null,
      "outputs": []
    },
    {
      "cell_type": "code",
      "metadata": {
        "id": "_8zLU4E_TbYq"
      },
      "source": [
        ""
      ],
      "execution_count": null,
      "outputs": []
    }
  ]
}